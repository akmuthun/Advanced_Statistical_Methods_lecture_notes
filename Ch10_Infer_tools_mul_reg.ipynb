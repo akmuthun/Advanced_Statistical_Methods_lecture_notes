{
 "cells": [
  {
   "cell_type": "markdown",
   "id": "c5d2bd57",
   "metadata": {
    "slideshow": {
     "slide_type": "slide"
    }
   },
   "source": [
    "## Case Study: The Energy Costs of Echolocation by Bats—An Observational Study\n",
    "\n",
    "Zoologists measured the energy cost of echolocation and flight in bats, flight energy cost of non-echolocating bats and birds and their body weights. They wondered whether the combined energy costs of echolocation and flight in bats was the sum of the flight energy costs and the at-rest echolocation energy costs.\n"
   ]
  },
  {
   "cell_type": "code",
   "execution_count": 189,
   "id": "13003e9a",
   "metadata": {
    "slideshow": {
     "slide_type": "slide"
    }
   },
   "outputs": [],
   "source": [
    "import matplotlib.pyplot as plt\n",
    "import numpy as np\n",
    "import pandas as pd\n",
    "import scipy.stats\n",
    "import seaborn as sns\n",
    "import statsmodels.api as sm\n",
    "from scipy.stats import shapiro\n",
    "import statsmodels.formula.api as smf\n",
    "sns.set_style('whitegrid')"
   ]
  },
  {
   "cell_type": "code",
   "execution_count": 190,
   "id": "fd34bacf",
   "metadata": {
    "slideshow": {
     "slide_type": "slide"
    }
   },
   "outputs": [
    {
     "data": {
      "text/html": [
       "<div>\n",
       "<style scoped>\n",
       "    .dataframe tbody tr th:only-of-type {\n",
       "        vertical-align: middle;\n",
       "    }\n",
       "\n",
       "    .dataframe tbody tr th {\n",
       "        vertical-align: top;\n",
       "    }\n",
       "\n",
       "    .dataframe thead th {\n",
       "        text-align: right;\n",
       "    }\n",
       "</style>\n",
       "<table border=\"1\" class=\"dataframe\">\n",
       "  <thead>\n",
       "    <tr style=\"text-align: right;\">\n",
       "      <th></th>\n",
       "      <th>Mass</th>\n",
       "      <th>Type</th>\n",
       "      <th>Energy</th>\n",
       "    </tr>\n",
       "  </thead>\n",
       "  <tbody>\n",
       "    <tr>\n",
       "      <th>0</th>\n",
       "      <td>779.0</td>\n",
       "      <td>non-echolocating bats</td>\n",
       "      <td>43.70</td>\n",
       "    </tr>\n",
       "    <tr>\n",
       "      <th>1</th>\n",
       "      <td>628.0</td>\n",
       "      <td>non-echolocating bats</td>\n",
       "      <td>34.80</td>\n",
       "    </tr>\n",
       "    <tr>\n",
       "      <th>2</th>\n",
       "      <td>258.0</td>\n",
       "      <td>non-echolocating bats</td>\n",
       "      <td>23.30</td>\n",
       "    </tr>\n",
       "    <tr>\n",
       "      <th>3</th>\n",
       "      <td>315.0</td>\n",
       "      <td>non-echolocating bats</td>\n",
       "      <td>22.40</td>\n",
       "    </tr>\n",
       "    <tr>\n",
       "      <th>4</th>\n",
       "      <td>24.3</td>\n",
       "      <td>non-echolocating birds</td>\n",
       "      <td>2.46</td>\n",
       "    </tr>\n",
       "  </tbody>\n",
       "</table>\n",
       "</div>"
      ],
      "text/plain": [
       "    Mass                    Type  Energy\n",
       "0  779.0   non-echolocating bats   43.70\n",
       "1  628.0   non-echolocating bats   34.80\n",
       "2  258.0   non-echolocating bats   23.30\n",
       "3  315.0   non-echolocating bats   22.40\n",
       "4   24.3  non-echolocating birds    2.46"
      ]
     },
     "execution_count": 190,
     "metadata": {},
     "output_type": "execute_result"
    }
   ],
   "source": [
    "path = 'sleuth3csv/case1002.csv'\n",
    "df = pd.read_csv(path)\n",
    "df.head()"
   ]
  },
  {
   "cell_type": "code",
   "execution_count": 38,
   "id": "f2dd6ddc",
   "metadata": {
    "slideshow": {
     "slide_type": "slide"
    }
   },
   "outputs": [
    {
     "data": {
      "text/html": [
       "<div>\n",
       "<style scoped>\n",
       "    .dataframe tbody tr th:only-of-type {\n",
       "        vertical-align: middle;\n",
       "    }\n",
       "\n",
       "    .dataframe tbody tr th {\n",
       "        vertical-align: top;\n",
       "    }\n",
       "\n",
       "    .dataframe thead th {\n",
       "        text-align: right;\n",
       "    }\n",
       "</style>\n",
       "<table border=\"1\" class=\"dataframe\">\n",
       "  <thead>\n",
       "    <tr style=\"text-align: right;\">\n",
       "      <th></th>\n",
       "      <th>Mass</th>\n",
       "      <th>Type</th>\n",
       "      <th>Energy</th>\n",
       "    </tr>\n",
       "  </thead>\n",
       "  <tbody>\n",
       "    <tr>\n",
       "      <th>count</th>\n",
       "      <td>20.000000</td>\n",
       "      <td>20</td>\n",
       "      <td>20.000000</td>\n",
       "    </tr>\n",
       "    <tr>\n",
       "      <th>unique</th>\n",
       "      <td>NaN</td>\n",
       "      <td>3</td>\n",
       "      <td>NaN</td>\n",
       "    </tr>\n",
       "    <tr>\n",
       "      <th>top</th>\n",
       "      <td>NaN</td>\n",
       "      <td>non-echolocating birds</td>\n",
       "      <td>NaN</td>\n",
       "    </tr>\n",
       "    <tr>\n",
       "      <th>freq</th>\n",
       "      <td>NaN</td>\n",
       "      <td>12</td>\n",
       "      <td>NaN</td>\n",
       "    </tr>\n",
       "    <tr>\n",
       "      <th>mean</th>\n",
       "      <td>262.675000</td>\n",
       "      <td>NaN</td>\n",
       "      <td>19.518000</td>\n",
       "    </tr>\n",
       "    <tr>\n",
       "      <th>std</th>\n",
       "      <td>220.900239</td>\n",
       "      <td>NaN</td>\n",
       "      <td>13.998325</td>\n",
       "    </tr>\n",
       "    <tr>\n",
       "      <th>min</th>\n",
       "      <td>6.700000</td>\n",
       "      <td>NaN</td>\n",
       "      <td>1.020000</td>\n",
       "    </tr>\n",
       "    <tr>\n",
       "      <th>25%</th>\n",
       "      <td>63.350000</td>\n",
       "      <td>NaN</td>\n",
       "      <td>7.605000</td>\n",
       "    </tr>\n",
       "    <tr>\n",
       "      <th>50%</th>\n",
       "      <td>266.500000</td>\n",
       "      <td>NaN</td>\n",
       "      <td>22.600000</td>\n",
       "    </tr>\n",
       "    <tr>\n",
       "      <th>75%</th>\n",
       "      <td>391.000000</td>\n",
       "      <td>NaN</td>\n",
       "      <td>28.225000</td>\n",
       "    </tr>\n",
       "    <tr>\n",
       "      <th>max</th>\n",
       "      <td>779.000000</td>\n",
       "      <td>NaN</td>\n",
       "      <td>43.700000</td>\n",
       "    </tr>\n",
       "  </tbody>\n",
       "</table>\n",
       "</div>"
      ],
      "text/plain": [
       "              Mass                    Type     Energy\n",
       "count    20.000000                      20  20.000000\n",
       "unique         NaN                       3        NaN\n",
       "top            NaN  non-echolocating birds        NaN\n",
       "freq           NaN                      12        NaN\n",
       "mean    262.675000                     NaN  19.518000\n",
       "std     220.900239                     NaN  13.998325\n",
       "min       6.700000                     NaN   1.020000\n",
       "25%      63.350000                     NaN   7.605000\n",
       "50%     266.500000                     NaN  22.600000\n",
       "75%     391.000000                     NaN  28.225000\n",
       "max     779.000000                     NaN  43.700000"
      ]
     },
     "execution_count": 38,
     "metadata": {},
     "output_type": "execute_result"
    }
   ],
   "source": [
    "df.describe(include='all')"
   ]
  },
  {
   "cell_type": "code",
   "execution_count": 191,
   "id": "c3b2cedc",
   "metadata": {
    "slideshow": {
     "slide_type": "slide"
    }
   },
   "outputs": [
    {
     "data": {
      "image/png": "[encoded data removed]",
      "text/plain": [
       "<Figure size 700x400 with 1 Axes>"
      ]
     },
     "metadata": {},
     "output_type": "display_data"
    }
   ],
   "source": [
    "f, ax = plt.subplots(figsize=(7, 4))\n",
    "sns.scatterplot(x='Mass', y='Energy', hue = \"Type\", data = df, ax=ax)\n",
    "plt.show()"
   ]
  },
  {
   "cell_type": "markdown",
   "id": "108d5fd3",
   "metadata": {
    "slideshow": {
     "slide_type": "slide"
    }
   },
   "source": [
    "Some data points are clustered on top of each other and the spread is increasing with Mass. Let's consider log transformations."
   ]
  },
  {
   "cell_type": "code",
   "execution_count": 193,
   "id": "9d04326b",
   "metadata": {},
   "outputs": [
    {
     "data": {
      "text/html": [
       "<div>\n",
       "<style scoped>\n",
       "    .dataframe tbody tr th:only-of-type {\n",
       "        vertical-align: middle;\n",
       "    }\n",
       "\n",
       "    .dataframe tbody tr th {\n",
       "        vertical-align: top;\n",
       "    }\n",
       "\n",
       "    .dataframe thead th {\n",
       "        text-align: right;\n",
       "    }\n",
       "</style>\n",
       "<table border=\"1\" class=\"dataframe\">\n",
       "  <thead>\n",
       "    <tr style=\"text-align: right;\">\n",
       "      <th></th>\n",
       "      <th>Mass</th>\n",
       "      <th>Type</th>\n",
       "      <th>Energy</th>\n",
       "      <th>logEnergy</th>\n",
       "      <th>logMass</th>\n",
       "    </tr>\n",
       "  </thead>\n",
       "  <tbody>\n",
       "    <tr>\n",
       "      <th>0</th>\n",
       "      <td>779.0</td>\n",
       "      <td>non-echolocating bats</td>\n",
       "      <td>43.70</td>\n",
       "      <td>3.777348</td>\n",
       "      <td>6.658011</td>\n",
       "    </tr>\n",
       "    <tr>\n",
       "      <th>1</th>\n",
       "      <td>628.0</td>\n",
       "      <td>non-echolocating bats</td>\n",
       "      <td>34.80</td>\n",
       "      <td>3.549617</td>\n",
       "      <td>6.442540</td>\n",
       "    </tr>\n",
       "    <tr>\n",
       "      <th>2</th>\n",
       "      <td>258.0</td>\n",
       "      <td>non-echolocating bats</td>\n",
       "      <td>23.30</td>\n",
       "      <td>3.148453</td>\n",
       "      <td>5.552960</td>\n",
       "    </tr>\n",
       "    <tr>\n",
       "      <th>3</th>\n",
       "      <td>315.0</td>\n",
       "      <td>non-echolocating bats</td>\n",
       "      <td>22.40</td>\n",
       "      <td>3.109061</td>\n",
       "      <td>5.752573</td>\n",
       "    </tr>\n",
       "    <tr>\n",
       "      <th>4</th>\n",
       "      <td>24.3</td>\n",
       "      <td>non-echolocating birds</td>\n",
       "      <td>2.46</td>\n",
       "      <td>0.900161</td>\n",
       "      <td>3.190476</td>\n",
       "    </tr>\n",
       "  </tbody>\n",
       "</table>\n",
       "</div>"
      ],
      "text/plain": [
       "    Mass                    Type  Energy  logEnergy   logMass\n",
       "0  779.0   non-echolocating bats   43.70   3.777348  6.658011\n",
       "1  628.0   non-echolocating bats   34.80   3.549617  6.442540\n",
       "2  258.0   non-echolocating bats   23.30   3.148453  5.552960\n",
       "3  315.0   non-echolocating bats   22.40   3.109061  5.752573\n",
       "4   24.3  non-echolocating birds    2.46   0.900161  3.190476"
      ]
     },
     "execution_count": 193,
     "metadata": {},
     "output_type": "execute_result"
    }
   ],
   "source": [
    "df['logEnergy'] = np.log(df['Energy'])\n",
    "df['logMass'] = np.log(df['Mass'])\n",
    "df.head()"
   ]
  },
  {
   "cell_type": "code",
   "execution_count": 194,
   "id": "81fa464e",
   "metadata": {
    "slideshow": {
     "slide_type": "slide"
    }
   },
   "outputs": [
    {
     "data": {
      "image/png": "[encoded data removed]",
      "text/plain": [
       "<Figure size 700x400 with 1 Axes>"
      ]
     },
     "metadata": {},
     "output_type": "display_data"
    }
   ],
   "source": [
    "f, ax = plt.subplots(figsize=(7, 4))\n",
    "sns.scatterplot(x='logMass', y='logEnergy', hue = \"Type\", data = df, ax=ax)\n",
    "plt.show()"
   ]
  },
  {
   "cell_type": "markdown",
   "id": "5433ee4e",
   "metadata": {
    "slideshow": {
     "slide_type": "slide"
    }
   },
   "source": [
    "This scatter plot shows a clear linear association between logMass and logEnergy. Also, it seems that most of echolocating bats have small masses compared to non-echolocating bats. This can be a strong predictor of energy so need to include this variable in the analysis with caution. "
   ]
  },
  {
   "cell_type": "code",
   "execution_count": 195,
   "id": "d05a0418",
   "metadata": {
    "slideshow": {
     "slide_type": "slide"
    }
   },
   "outputs": [
    {
     "data": {
      "text/html": [
       "<div>\n",
       "<style scoped>\n",
       "    .dataframe tbody tr th:only-of-type {\n",
       "        vertical-align: middle;\n",
       "    }\n",
       "\n",
       "    .dataframe tbody tr th {\n",
       "        vertical-align: top;\n",
       "    }\n",
       "\n",
       "    .dataframe thead th {\n",
       "        text-align: right;\n",
       "    }\n",
       "</style>\n",
       "<table border=\"1\" class=\"dataframe\">\n",
       "  <thead>\n",
       "    <tr style=\"text-align: right;\">\n",
       "      <th></th>\n",
       "      <th>Mass</th>\n",
       "      <th>Energy</th>\n",
       "      <th>logEnergy</th>\n",
       "      <th>logMass</th>\n",
       "      <th>Type</th>\n",
       "      <th>ebat</th>\n",
       "      <th>nebat</th>\n",
       "      <th>bird</th>\n",
       "    </tr>\n",
       "  </thead>\n",
       "  <tbody>\n",
       "    <tr>\n",
       "      <th>0</th>\n",
       "      <td>779.0</td>\n",
       "      <td>43.70</td>\n",
       "      <td>3.777348</td>\n",
       "      <td>6.658011</td>\n",
       "      <td>non-echolocating bats</td>\n",
       "      <td>0</td>\n",
       "      <td>1</td>\n",
       "      <td>0</td>\n",
       "    </tr>\n",
       "    <tr>\n",
       "      <th>1</th>\n",
       "      <td>628.0</td>\n",
       "      <td>34.80</td>\n",
       "      <td>3.549617</td>\n",
       "      <td>6.442540</td>\n",
       "      <td>non-echolocating bats</td>\n",
       "      <td>0</td>\n",
       "      <td>1</td>\n",
       "      <td>0</td>\n",
       "    </tr>\n",
       "    <tr>\n",
       "      <th>2</th>\n",
       "      <td>258.0</td>\n",
       "      <td>23.30</td>\n",
       "      <td>3.148453</td>\n",
       "      <td>5.552960</td>\n",
       "      <td>non-echolocating bats</td>\n",
       "      <td>0</td>\n",
       "      <td>1</td>\n",
       "      <td>0</td>\n",
       "    </tr>\n",
       "    <tr>\n",
       "      <th>3</th>\n",
       "      <td>315.0</td>\n",
       "      <td>22.40</td>\n",
       "      <td>3.109061</td>\n",
       "      <td>5.752573</td>\n",
       "      <td>non-echolocating bats</td>\n",
       "      <td>0</td>\n",
       "      <td>1</td>\n",
       "      <td>0</td>\n",
       "    </tr>\n",
       "    <tr>\n",
       "      <th>4</th>\n",
       "      <td>24.3</td>\n",
       "      <td>2.46</td>\n",
       "      <td>0.900161</td>\n",
       "      <td>3.190476</td>\n",
       "      <td>non-echolocating birds</td>\n",
       "      <td>0</td>\n",
       "      <td>0</td>\n",
       "      <td>1</td>\n",
       "    </tr>\n",
       "  </tbody>\n",
       "</table>\n",
       "</div>"
      ],
      "text/plain": [
       "    Mass  Energy  logEnergy   logMass                    Type  ebat  nebat  \\\n",
       "0  779.0   43.70   3.777348  6.658011   non-echolocating bats     0      1   \n",
       "1  628.0   34.80   3.549617  6.442540   non-echolocating bats     0      1   \n",
       "2  258.0   23.30   3.148453  5.552960   non-echolocating bats     0      1   \n",
       "3  315.0   22.40   3.109061  5.752573   non-echolocating bats     0      1   \n",
       "4   24.3    2.46   0.900161  3.190476  non-echolocating birds     0      0   \n",
       "\n",
       "   bird  \n",
       "0     0  \n",
       "1     0  \n",
       "2     0  \n",
       "3     0  \n",
       "4     1  "
      ]
     },
     "execution_count": 195,
     "metadata": {},
     "output_type": "execute_result"
    }
   ],
   "source": [
    "df[\"Type_orig\"] = df[\"Type\"]\n",
    "df = pd.get_dummies(df, columns=['Type'])\n",
    "d = {'Type_echolocating bats': 'ebat', 'Type_non-echolocating bats': 'nebat', 'Type_non-echolocating birds': 'bird', 'Type_orig':'Type'}\n",
    "df = df.rename(columns = d)\n",
    "df.head()"
   ]
  },
  {
   "cell_type": "markdown",
   "id": "3e19c891",
   "metadata": {
    "slideshow": {
     "slide_type": "slide"
    }
   },
   "source": [
    "The third level of TYPE, non-echolocating bats, will be treated as the reference level, so its indicator variable will not appear in the regression model. We need to check association between energy with TYPE after accounting for the body mass so we consider the model:\n",
    "\n",
    "$$\\mu\\{lenergy|lmass,TYPE\\} = \\beta_0+\\beta_1 lmass + \\beta_2 bird + \\beta_3 ebat$$\n",
    "\n",
    "This model suggests three straight lines with equal slope of $\\beta_1$ as follows.\n",
    "\n",
    "$$\\mu\\{lenergy|lmass,nebat\\} = \\beta_0+\\beta_1 lmass$$\n",
    "\n",
    "with slope of $\\beta_1$ and intercept of $\\beta_0$,\n",
    "\n",
    "$$\\mu\\{lenergy|lmass,bird\\} = \\beta_0+\\beta_1 lmass + \\beta_2$$\n",
    "\n",
    "with slope of $\\beta_1$ and intercept of $\\beta_0+\\beta_2$,\n",
    "\n",
    "$$\\mu\\{lenergy|lmass,ebat\\} = \\beta_0+\\beta_1 lmass + \\beta_3$$\n",
    "\n",
    "with slope of $\\beta_1$ and intercept of $\\beta_0 + \\beta_3$.\n"
   ]
  },
  {
   "cell_type": "code",
   "execution_count": 81,
   "id": "242e73d9",
   "metadata": {
    "slideshow": {
     "slide_type": "slide"
    }
   },
   "outputs": [
    {
     "name": "stdout",
     "output_type": "stream",
     "text": [
      "                            OLS Regression Results                            \n",
      "==============================================================================\n",
      "Dep. Variable:              logEnergy   R-squared:                       0.982\n",
      "Model:                            OLS   Adj. R-squared:                  0.978\n",
      "Method:                 Least Squares   F-statistic:                     283.6\n",
      "Date:                Sun, 26 Mar 2023   Prob (F-statistic):           4.46e-14\n",
      "Time:                        13:38:16   Log-Likelihood:                 7.4968\n",
      "No. Observations:                  20   AIC:                            -6.994\n",
      "Df Residuals:                      16   BIC:                            -3.011\n",
      "Df Model:                           3                                         \n",
      "Covariance Type:            nonrobust                                         \n",
      "==============================================================================\n",
      "                 coef    std err          t      P>|t|      [0.025      0.975]\n",
      "------------------------------------------------------------------------------\n",
      "Intercept     -1.5764      0.287     -5.488      0.000      -2.185      -0.967\n",
      "logMass        0.8150      0.045     18.297      0.000       0.721       0.909\n",
      "bird           0.1023      0.114      0.896      0.384      -0.140       0.344\n",
      "ebat           0.0787      0.203      0.388      0.703      -0.351       0.508\n",
      "==============================================================================\n",
      "Omnibus:                        1.592   Durbin-Watson:                   1.982\n",
      "Prob(Omnibus):                  0.451   Jarque-Bera (JB):                1.306\n",
      "Skew:                           0.466   Prob(JB):                        0.520\n",
      "Kurtosis:                       2.163   Cond. No.                         44.2\n",
      "==============================================================================\n",
      "\n",
      "Notes:\n",
      "[1] Standard Errors assume that the covariance matrix of the errors is correctly specified.\n"
     ]
    }
   ],
   "source": [
    "model = smf.ols(\"logEnergy ~ logMass + bird + ebat\", data = df)\n",
    "results = model.fit()\n",
    "print(results.summary())"
   ]
  },
  {
   "cell_type": "code",
   "execution_count": 55,
   "id": "1a654e76",
   "metadata": {
    "slideshow": {
     "slide_type": "slide"
    }
   },
   "outputs": [
    {
     "data": {
      "text/plain": [
       "Intercept   -1.576360\n",
       "logMass      0.814957\n",
       "bird         0.102262\n",
       "ebat         0.078664\n",
       "dtype: float64"
      ]
     },
     "execution_count": 55,
     "metadata": {},
     "output_type": "execute_result"
    }
   ],
   "source": [
    "results.params"
   ]
  },
  {
   "cell_type": "code",
   "execution_count": 82,
   "id": "4130f3ea",
   "metadata": {
    "slideshow": {
     "slide_type": "slide"
    }
   },
   "outputs": [],
   "source": [
    "necho_pred = results.params.Intercept + results.params.logMass*df['logMass']\n",
    "bird_pred = results.params.Intercept + results.params.logMass*df['logMass'] + results.params.bird\n",
    "ebat_pred = results.params.Intercept + results.params.logMass*df['logMass'] + results.params.ebat"
   ]
  },
  {
   "cell_type": "code",
   "execution_count": 83,
   "id": "ead9dfb4",
   "metadata": {
    "slideshow": {
     "slide_type": "slide"
    }
   },
   "outputs": [
    {
     "data": {
      "image/png": "[encoded data removed]",
      "text/plain": [
       "<Figure size 1200x400 with 1 Axes>"
      ]
     },
     "metadata": {},
     "output_type": "display_data"
    }
   ],
   "source": [
    "colors = [\"denim blue\", \"medium green\", \"orange\"]\n",
    "palette = sns.xkcd_palette(colors)\n",
    "\n",
    "fig, ax = plt.subplots(figsize=(12,4))\n",
    "sns.scatterplot(x='logMass', y='logEnergy', hue = \"Type\", data = df, ax=ax, palette=palette)\n",
    "ax.plot(df['logMass'], necho_pred)\n",
    "ax.plot(df['logMass'], bird_pred)\n",
    "ax.plot(df['logMass'], ebat_pred)\n",
    "plt.show()"
   ]
  },
  {
   "cell_type": "code",
   "execution_count": 87,
   "id": "42831ac6",
   "metadata": {
    "slideshow": {
     "slide_type": "slide"
    }
   },
   "outputs": [
    {
     "data": {
      "image/png": "[encoded data removed]",
      "text/plain": [
       "<Figure size 700x300 with 1 Axes>"
      ]
     },
     "metadata": {},
     "output_type": "display_data"
    }
   ],
   "source": [
    "plt.figure(figsize=(7,3))\n",
    "\n",
    "# fitted values (predicted values)\n",
    "model_fitted_y = results.fittedvalues\n",
    "\n",
    "#  Plot\n",
    "plot = sns.residplot(x=model_fitted_y, y='logEnergy', data=df, lowess=True, \n",
    "                     scatter_kws={'alpha': 0.7}, \n",
    "                     line_kws={'color': 'red', 'lw': 1, 'alpha': 0.8})\n",
    "\n",
    "# Titel and labels\n",
    "plot.set_title('Residuals vs Fitted')\n",
    "plot.set_xlabel('Fitted values')\n",
    "plot.set_ylabel('Residuals');"
   ]
  },
  {
   "cell_type": "code",
   "execution_count": 86,
   "id": "668442d6",
   "metadata": {
    "slideshow": {
     "slide_type": "slide"
    }
   },
   "outputs": [
    {
     "data": {
      "text/plain": [
       "ShapiroResult(statistic=0.9433696866035461, pvalue=0.27742016315460205)"
      ]
     },
     "execution_count": 86,
     "metadata": {},
     "output_type": "execute_result"
    }
   ],
   "source": [
    "shapiro(results.resid)"
   ]
  },
  {
   "cell_type": "markdown",
   "id": "26622f33",
   "metadata": {
    "slideshow": {
     "slide_type": "slide"
    }
   },
   "source": [
    "Since the p-value from the Shapiro is large we do not reject the hypothesis that residual is white noise."
   ]
  },
  {
   "cell_type": "markdown",
   "id": "95c7df5b",
   "metadata": {
    "slideshow": {
     "slide_type": "slide"
    }
   },
   "source": [
    "If the distribution of the response for each combination of the explanatory variables is normal with constant variance, then\n",
    "\n",
    "## the t-ratios of coefficients\n",
    "\n",
    "$$t\\_ratio = \\frac{\\hat{\\beta}_j-\\beta_j}{SE(\\hat{\\beta}_j)}$$\n",
    "\n",
    "Formula for the $SE(\\hat{\\beta}_j)$ is omitted here since it requires matrix computations. However, the computer test result output contains standard error values."
   ]
  },
  {
   "cell_type": "markdown",
   "id": "832eaa5a",
   "metadata": {
    "slideshow": {
     "slide_type": "slide"
    }
   },
   "source": [
    "### Do Non-Echolocating Bats Differ from Echolocating Bats of similar size? Test for $ \\beta_3 = 0$\n",
    "\n",
    "The mean log energy expenditure for echolocating bats is $\\beta_3$ units more than the mean log energy for non-echolocating bats.\n",
    "\n",
    "The two sided p-value for the test $\\beta_3=0$ is provided in the computer output as 0.703, providing no reason to doubt that $\\beta_3=0$ (degree of freedom = 16, t-statistic = 0.388, 95% confidence interval = (-0.351, 0.508)).\n",
    "\n",
    "However, this does **not** mean that the test has proved that $\\beta_3=0$.\n",
    "\n",
    "Echolocating bats might have a higher energy expenditure, but the available study may not be powerful enough to detect this difference. \n",
    "\n",
    "\n",
    "\n",
    "\n"
   ]
  },
  {
   "cell_type": "markdown",
   "id": "10a3ec8a",
   "metadata": {
    "slideshow": {
     "slide_type": "slide"
    }
   },
   "source": [
    "If the parallel regression lines model is correct:\n",
    "\n",
    "\\begin{equation}\n",
    "\\begin{split}\n",
    "\\mu\\{lenergy|lmass,ebat\\} - \\mu\\{lenergy|lmass,nebat\\} & = \\beta_0+\\beta_1 lmass + \\beta_3 - (\\beta_0+\\beta_1 lmass) = \\beta_3\\\\\n",
    "difference\\_\\mu\\{lenergy\\} & = \\beta_3\\\\\n",
    "difference\\_Median\\{lenergy\\} & = \\beta_3\\\\\n",
    "difference\\_\\log\\{Median\\_energy\\} & = \\beta_3\\\\\n",
    "difference\\{Median\\_energy\\} & = \\exp{(\\beta_3)}\n",
    "\\end{split}\n",
    "\\end{equation}\n",
    "\n",
    "\n"
   ]
  },
  {
   "cell_type": "markdown",
   "id": "28ee8e9a",
   "metadata": {
    "slideshow": {
     "slide_type": "slide"
    }
   },
   "source": [
    "If the parallel regression lines model is correct, the median in-flight energy expenditure is $\\exp(\\beta_3)$ times as great for echolocating bats as it is for non-echolocating bats of similar body mass.\n",
    "\n",
    "That is the median in-flight energy expenditure for echolocating bats is estimated to be $e^{0.0787} = 1.08$ times as large as that for non-echolocating bats, after accounting for body mass. 95% confidence interval is $(e^{-0.351}, e^{0.508}) = (0.7, 1.66)$.\n"
   ]
  },
  {
   "cell_type": "markdown",
   "id": "52f3c80d",
   "metadata": {
    "slideshow": {
     "slide_type": "slide"
    }
   },
   "source": [
    "We considered the model \n",
    "$$\\mu\\{lenergy|lmass,TYPE\\} = \\beta_0+\\beta_1 lmass + \\beta_2 bird + \\beta_3 ebat \\;\\;\\;\\;\\;\\;\\;\\; (1)$$\n",
    "\n",
    "Now let's consider the model\n",
    "\n",
    "$$\\mu\\{lenergy|lmass,TYPE\\} = \\alpha_0+\\alpha_1 ebat + \\alpha_2 bird \\;\\;\\;\\;\\;\\;\\;\\; (2)$$\n",
    "\n",
    "In model (1), the coefficient of ebat measures the difference between energy\n",
    "expenditure of echolocating bats and of non-echolocating bats after adjusting for body size. \n",
    "\n",
    "In model (2), the coefficient of ebat measures the difference between mean log energy among echolocating bats and mean log energy among non-echolocating bats, ignoring any explanation of differences based on body size. "
   ]
  },
  {
   "cell_type": "code",
   "execution_count": 88,
   "id": "26eacf3e",
   "metadata": {
    "slideshow": {
     "slide_type": "slide"
    }
   },
   "outputs": [
    {
     "name": "stdout",
     "output_type": "stream",
     "text": [
      "                            OLS Regression Results                            \n",
      "==============================================================================\n",
      "Dep. Variable:              logEnergy   R-squared:                       0.595\n",
      "Model:                            OLS   Adj. R-squared:                  0.548\n",
      "Method:                 Least Squares   F-statistic:                     12.50\n",
      "Date:                Sun, 26 Mar 2023   Prob (F-statistic):           0.000458\n",
      "Time:                        20:09:56   Log-Likelihood:                -23.379\n",
      "No. Observations:                  20   AIC:                             52.76\n",
      "Df Residuals:                      17   BIC:                             55.74\n",
      "Df Model:                           2                                         \n",
      "Covariance Type:            nonrobust                                         \n",
      "==============================================================================\n",
      "                 coef    std err          t      P>|t|      [0.025      0.975]\n",
      "------------------------------------------------------------------------------\n",
      "Intercept      3.3961      0.422      8.041      0.000       2.505       4.287\n",
      "ebat          -2.7433      0.597     -4.593      0.000      -4.003      -1.483\n",
      "bird          -0.6088      0.488     -1.248      0.229      -1.638       0.420\n",
      "==============================================================================\n",
      "Omnibus:                        2.019   Durbin-Watson:                   0.735\n",
      "Prob(Omnibus):                  0.364   Jarque-Bera (JB):                0.878\n",
      "Skew:                          -0.494   Prob(JB):                        0.645\n",
      "Kurtosis:                       3.280   Cond. No.                         5.05\n",
      "==============================================================================\n",
      "\n",
      "Notes:\n",
      "[1] Standard Errors assume that the covariance matrix of the errors is correctly specified.\n"
     ]
    }
   ],
   "source": [
    "model = smf.ols(\"logEnergy ~ ebat + bird\", data = df)\n",
    "results = model.fit()\n",
    "print(results.summary())"
   ]
  },
  {
   "cell_type": "markdown",
   "id": "65e67630",
   "metadata": {
    "slideshow": {
     "slide_type": "slide"
    }
   },
   "source": [
    "Since all the echolocating bats were small and all the non- echolocating bats were large. \n",
    "The echolocating versus non-echolocating difference is thus confounded with the differences based on body size.\n",
    "\n",
    "\"After adjusting for body size” means that group differences are considered only after the best explanation for body size is taken into account.\n",
    "\n",
    "Since body size explains the differences well, the coefficient of ebat in model (1) is insignificant event though in model (2) it is significant."
   ]
  },
  {
   "cell_type": "markdown",
   "id": "e89cba44",
   "metadata": {
    "slideshow": {
     "slide_type": "slide"
    }
   },
   "source": [
    "$$\\mu\\{lenergy|lmass,TYPE\\} = \\beta_0+\\beta_1 lmass + \\beta_2 bird + \\beta_3 ebat \\;\\;\\;\\;\\;\\;\\;\\; (1)$$\n",
    "According to the model (1)\n",
    "\n",
    "$$\\text{Test on equality of energy distribution in birds and non-echolocating bats} = \\text{test whether } \\beta_2 \\text{ is zero}$$\n",
    "\n",
    "$$\\text{Test on equality of energy distribution in echolocating bats and non-echolocating bats} = \\text{test whether } \\beta_3 \\text{ is zero}$$\n",
    "\n",
    "These two test results are included in the model results page. However\n",
    "\n",
    "$$\\text{Test on equality of energy distribution in birds and echolocating bats} = \\text{test whether } \\beta_2-\\beta_3 \\text{ is zero}$$\n",
    "\n",
    "is **not** included.\n",
    "\n",
    "A simple computer trick to solve this issue is to change the reference level to birds or echolocating bats as shown below."
   ]
  },
  {
   "cell_type": "code",
   "execution_count": 89,
   "id": "4cda2c95",
   "metadata": {
    "slideshow": {
     "slide_type": "slide"
    }
   },
   "outputs": [
    {
     "name": "stdout",
     "output_type": "stream",
     "text": [
      "                            OLS Regression Results                            \n",
      "==============================================================================\n",
      "Dep. Variable:              logEnergy   R-squared:                       0.982\n",
      "Model:                            OLS   Adj. R-squared:                  0.978\n",
      "Method:                 Least Squares   F-statistic:                     283.6\n",
      "Date:                Sun, 26 Mar 2023   Prob (F-statistic):           4.46e-14\n",
      "Time:                        20:37:59   Log-Likelihood:                 7.4968\n",
      "No. Observations:                  20   AIC:                            -6.994\n",
      "Df Residuals:                      16   BIC:                            -3.011\n",
      "Df Model:                           3                                         \n",
      "Covariance Type:            nonrobust                                         \n",
      "==============================================================================\n",
      "                 coef    std err          t      P>|t|      [0.025      0.975]\n",
      "------------------------------------------------------------------------------\n",
      "Intercept     -1.4977      0.150     -9.993      0.000      -1.815      -1.180\n",
      "logMass        0.8150      0.045     18.297      0.000       0.721       0.909\n",
      "bird           0.0236      0.158      0.150      0.883      -0.310       0.358\n",
      "nebat         -0.0787      0.203     -0.388      0.703      -0.508       0.351\n",
      "==============================================================================\n",
      "Omnibus:                        1.592   Durbin-Watson:                   1.982\n",
      "Prob(Omnibus):                  0.451   Jarque-Bera (JB):                1.306\n",
      "Skew:                           0.466   Prob(JB):                        0.520\n",
      "Kurtosis:                       2.163   Cond. No.                         32.1\n",
      "==============================================================================\n",
      "\n",
      "Notes:\n",
      "[1] Standard Errors assume that the covariance matrix of the errors is correctly specified.\n"
     ]
    }
   ],
   "source": [
    "model = smf.ols(\"logEnergy ~ logMass + bird + nebat\", data = df)\n",
    "results = model.fit()\n",
    "print(results.summary())"
   ]
  },
  {
   "cell_type": "markdown",
   "id": "f301f7e8",
   "metadata": {
    "slideshow": {
     "slide_type": "slide"
    }
   },
   "source": [
    "From the test output the estimation of $\\beta_2-\\beta_3$ is 0.0236 (after accounting for body mass). \n",
    "\n",
    "The hypothesis $\\beta_2-\\beta_3=0$ is not rejected. Two sided p-value = 0.883 (t-test with df = 16). "
   ]
  },
  {
   "cell_type": "markdown",
   "id": "794f6459",
   "metadata": {
    "slideshow": {
     "slide_type": "slide"
    }
   },
   "source": [
    "## How to test on any linear combinations of regression coefficients\n",
    "\n",
    "Variance Formulas for Linear Combinations of Regression Coefficients\n",
    "\n",
    "In general, a linear combination can be written as\n",
    "\n",
    "$$\\gamma = C_0\\beta_0+C_1\\beta_1+....+C_p\\beta_p$$\n",
    "\n",
    "where the C’s are known coefficients.\n",
    "\n",
    "\n",
    "The estimate of this combination is\n",
    "\n",
    "$$g = C_0\\hat{\\beta}_0+C_1\\hat{\\beta}_1+....+C_p\\hat{\\beta}_p $$\n",
    "\n",
    "We need to know the standard error of $g$.\n",
    "\n",
    "$$Var(g) = C_0^2 SE(\\hat{\\beta}_0)^2+C_1^2 SE(\\hat{\\beta}_1)+...+C_p SE(\\hat{\\beta}_p)+2 C_0C_1 Cov(\\hat{\\beta}_0,\\hat{\\beta}_1)+2C_0C_2 Cov(\\hat{\\beta}_0,\\hat{\\beta}_2)+....+2C_{p-1}C_p Cov(\\hat{\\beta}_{p-1},\\hat{\\beta}_p)$$\n",
    "\n",
    "$SE(g) = \\sqrt{Var{(g)}}$\n",
    "\n",
    "Test:\n",
    "\n",
    "\\begin{equation}\n",
    "\\begin{split}\n",
    "& H_0: \\gamma = \\gamma_0\\\\\n",
    "& H_1: \\gamma\\neq \\gamma_0\n",
    "\\end{split}\n",
    "\\end{equation}\n",
    "\n",
    "$$ \\text{T} = \\frac{g-\\gamma_0}{SE(g)}\\sim t_{(n-\\text{Num. of para. in the model)}}$$\n"
   ]
  },
  {
   "cell_type": "markdown",
   "id": "00b77b6e",
   "metadata": {
    "slideshow": {
     "slide_type": "slide"
    }
   },
   "source": [
    "Example: Let's confirm the previous test on $\\beta_2-\\beta_3$ with this method. \n",
    "\n",
    "The model is $$\\mu\\{lenergy|lmass,TYPE\\} = \\beta_0+\\beta_1 lmass + \\beta_2 bird + \\beta_3 ebat \\;\\;\\;\\;\\;\\;\\;\\; (1)$$"
   ]
  },
  {
   "cell_type": "code",
   "execution_count": 144,
   "id": "d5f57d25",
   "metadata": {},
   "outputs": [
    {
     "name": "stdout",
     "output_type": "stream",
     "text": [
      "                            OLS Regression Results                            \n",
      "==============================================================================\n",
      "Dep. Variable:              logEnergy   R-squared:                       0.982\n",
      "Model:                            OLS   Adj. R-squared:                  0.978\n",
      "Method:                 Least Squares   F-statistic:                     283.6\n",
      "Date:                Tue, 28 Mar 2023   Prob (F-statistic):           4.46e-14\n",
      "Time:                        16:17:38   Log-Likelihood:                 7.4968\n",
      "No. Observations:                  20   AIC:                            -6.994\n",
      "Df Residuals:                      16   BIC:                            -3.011\n",
      "Df Model:                           3                                         \n",
      "Covariance Type:            nonrobust                                         \n",
      "==============================================================================\n",
      "                 coef    std err          t      P>|t|      [0.025      0.975]\n",
      "------------------------------------------------------------------------------\n",
      "Intercept     -1.5764      0.287     -5.488      0.000      -2.185      -0.967\n",
      "logMass        0.8150      0.045     18.297      0.000       0.721       0.909\n",
      "bird           0.1023      0.114      0.896      0.384      -0.140       0.344\n",
      "ebat           0.0787      0.203      0.388      0.703      -0.351       0.508\n",
      "==============================================================================\n",
      "Omnibus:                        1.592   Durbin-Watson:                   1.982\n",
      "Prob(Omnibus):                  0.451   Jarque-Bera (JB):                1.306\n",
      "Skew:                           0.466   Prob(JB):                        0.520\n",
      "Kurtosis:                       2.163   Cond. No.                         44.2\n",
      "==============================================================================\n",
      "\n",
      "Notes:\n",
      "[1] Standard Errors assume that the covariance matrix of the errors is correctly specified.\n"
     ]
    }
   ],
   "source": [
    "model = smf.ols(\"logEnergy ~ logMass + bird + ebat\", data = df)\n",
    "results = model.fit()\n",
    "print(results.summary())"
   ]
  },
  {
   "cell_type": "code",
   "execution_count": 153,
   "id": "9974ac52",
   "metadata": {
    "slideshow": {
     "slide_type": "slide"
    }
   },
   "outputs": [
    {
     "name": "stdout",
     "output_type": "stream",
     "text": [
      "           Intercept   logMass      bird      ebat\n",
      "Intercept   0.082505 -0.012105 -0.019207 -0.050561\n",
      "logMass    -0.012105  0.001984  0.001731  0.006870\n",
      "bird       -0.019207  0.001731  0.013038  0.014639\n",
      "ebat       -0.050561  0.006870  0.014639  0.041079\n"
     ]
    }
   ],
   "source": [
    "#for covariance matrix of parameters\n",
    "covmat = results.cov_params()\n",
    "print(covmat)"
   ]
  },
  {
   "cell_type": "markdown",
   "id": "c1e30051",
   "metadata": {
    "slideshow": {
     "slide_type": "slide"
    }
   },
   "source": [
    "Test on equality of energy distribution in birds and echolocating bats\n",
    "\n",
    "$\\gamma = \\beta_2-\\beta_3$ \n",
    "\n",
    "Test:\n",
    "\n",
    "\\begin{equation}\n",
    "\\begin{split}\n",
    "& H_0: \\gamma = 0\\\\\n",
    "& H_1: \\gamma\\neq 0\n",
    "\\end{split}\n",
    "\\end{equation}\n",
    "\n",
    "$g = \\hat{\\beta}_2-\\hat{\\beta}_3 = 0.1023-0.0787 = 0.0236$\n",
    "\n",
    "$Var(g) = SE(\\hat{\\beta}_2)^2+SE(\\hat{\\beta}_3)^+2(1)(-1)Cov(\\hat{\\beta}_2, \\hat{\\beta}_3) = 0.013038 + 0.041079 - 2*0.014639 = 0.024839$\n",
    "\n",
    "$SE(g) = 0.024839^{1/2} = 0.1576$\n",
    "\n",
    "$t_stat = \\frac{0.0236}{0.1576} = 0.1497$"
   ]
  },
  {
   "cell_type": "code",
   "execution_count": 154,
   "id": "4f9474b9",
   "metadata": {
    "slideshow": {
     "slide_type": "slide"
    }
   },
   "outputs": [
    {
     "data": {
      "text/plain": [
       "0.8828720924869151"
      ]
     },
     "execution_count": 154,
     "metadata": {},
     "output_type": "execute_result"
    }
   ],
   "source": [
    "## to calculate p-value\n",
    "\n",
    "scipy.stats.t.sf(abs(0.1497), df=16)*2"
   ]
  },
  {
   "cell_type": "markdown",
   "id": "114a1252",
   "metadata": {
    "slideshow": {
     "slide_type": "slide"
    }
   },
   "source": [
    "We confirm our calculation and no evidence that the energy distribution in birds and echolocating bats is different  after acccounting for body size."
   ]
  },
  {
   "cell_type": "markdown",
   "id": "c9871497",
   "metadata": {
    "slideshow": {
     "slide_type": "slide"
    }
   },
   "source": [
    "## Extra sum of squares F-tests\n",
    "\n",
    "In multiple regression, data analysts often need to test whether several coefficients\n",
    "are all zero. \n",
    "\n",
    "Example:\n",
    "$$\\mu\\{lenergy|lmass,TYPE\\} = \\beta_0+\\beta_1 lmass + \\beta_2 bird + \\beta_3 ebat \\;\\;\\;\\;\\;\\;\\;\\; \\text{Full model}$$\n",
    "\n",
    "$$H_0: \\beta_2=0=\\beta_3$$\n",
    "$$H_1: \\beta_2\\neq 0 \\text{ or } \\beta_3\\neq 0$$\n",
    "\n",
    "We consider a reduced model to conduct this test:\n",
    "\n",
    "$$\\mu\\{lenergy|lmass,TYPE\\} = \\beta_0+\\beta_1 lmass \\;\\;\\;\\;\\;\\;\\;\\; \\text{Reduced model}$$\n",
    "\n",
    "\\begin{equation}\n",
    "\\begin{split}\n",
    "\\text{Extra sum of Squares } = \\text{ Sum of squred residuals from reduced model} - \\text{ Sum of squred residuals from full model}\n",
    "\\end{split}\n",
    "\\end{equation}\n",
    "\n",
    "Note that since the full model has more variables than the reduced model, squared sum of residuals from the full model is lower than it is from the reduced model.\n",
    "\n",
    "Extra sum of squares is the amount variance in response variable explained by the two extra (in this example) variable, ebat and bird. "
   ]
  },
  {
   "cell_type": "markdown",
   "id": "612fa942",
   "metadata": {
    "slideshow": {
     "slide_type": "slide"
    }
   },
   "source": [
    "$$\\text{F-statistic} = \\frac{\\frac{\\text{Extra sum of squares}}{\\text{Number of coefficients being tested}}}{\\frac{ \\text{Sum of square residuals from Full model}}{\\text{(Num. of observations - Num. parameters in Full model)}}}$$\n",
    "\n",
    "If the reduced model is correct, then per-coefficient variation should be roughly equal to the per observation variation. The F-statistic, therefore, should be close to 1.\n",
    "\n",
    "Although exact justification is based on normality, the F -test and the t-tests are robust against departures from normality.\n",
    "\n",
    "If the F-statistic is larger than $F_{\\text{Numerator d.f }, \\text{Denominator d.f. }}$, we have evidence that the reduced model is incorrect where,\n",
    "\n",
    "Numerator d.f = Number of coefficients being tested\n",
    "\n",
    "Denominator d.f. = Num. of observations - Num. parameters in Full model"
   ]
  },
  {
   "cell_type": "code",
   "execution_count": 123,
   "id": "cd3483f4",
   "metadata": {
    "slideshow": {
     "slide_type": "slide"
    }
   },
   "outputs": [
    {
     "name": "stdout",
     "output_type": "stream",
     "text": [
      "                            OLS Regression Results                            \n",
      "==============================================================================\n",
      "Dep. Variable:              logEnergy   R-squared:                       0.982\n",
      "Model:                            OLS   Adj. R-squared:                  0.978\n",
      "Method:                 Least Squares   F-statistic:                     283.6\n",
      "Date:                Mon, 27 Mar 2023   Prob (F-statistic):           4.46e-14\n",
      "Time:                        14:38:08   Log-Likelihood:                 7.4968\n",
      "No. Observations:                  20   AIC:                            -6.994\n",
      "Df Residuals:                      16   BIC:                            -3.011\n",
      "Df Model:                           3                                         \n",
      "Covariance Type:            nonrobust                                         \n",
      "==============================================================================\n",
      "                 coef    std err          t      P>|t|      [0.025      0.975]\n",
      "------------------------------------------------------------------------------\n",
      "Intercept     -1.5764      0.287     -5.488      0.000      -2.185      -0.967\n",
      "logMass        0.8150      0.045     18.297      0.000       0.721       0.909\n",
      "bird           0.1023      0.114      0.896      0.384      -0.140       0.344\n",
      "ebat           0.0787      0.203      0.388      0.703      -0.351       0.508\n",
      "==============================================================================\n",
      "Omnibus:                        1.592   Durbin-Watson:                   1.982\n",
      "Prob(Omnibus):                  0.451   Jarque-Bera (JB):                1.306\n",
      "Skew:                           0.466   Prob(JB):                        0.520\n",
      "Kurtosis:                       2.163   Cond. No.                         44.2\n",
      "==============================================================================\n",
      "\n",
      "Notes:\n",
      "[1] Standard Errors assume that the covariance matrix of the errors is correctly specified.\n"
     ]
    }
   ],
   "source": [
    "model = smf.ols(\"logEnergy ~ logMass + bird + ebat\", data = df)\n",
    "results_full = model.fit()\n",
    "print(results_full.summary())"
   ]
  },
  {
   "cell_type": "code",
   "execution_count": 124,
   "id": "6ad696c7",
   "metadata": {
    "slideshow": {
     "slide_type": "slide"
    }
   },
   "outputs": [
    {
     "name": "stdout",
     "output_type": "stream",
     "text": [
      "                            OLS Regression Results                            \n",
      "==============================================================================\n",
      "Dep. Variable:              logEnergy   R-squared:                       0.981\n",
      "Model:                            OLS   Adj. R-squared:                  0.979\n",
      "Method:                 Least Squares   F-statistic:                     907.6\n",
      "Date:                Mon, 27 Mar 2023   Prob (F-statistic):           7.44e-17\n",
      "Time:                        14:38:29   Log-Likelihood:                 6.9761\n",
      "No. Observations:                  20   AIC:                            -9.952\n",
      "Df Residuals:                      18   BIC:                            -7.961\n",
      "Df Model:                           1                                         \n",
      "Covariance Type:            nonrobust                                         \n",
      "==============================================================================\n",
      "                 coef    std err          t      P>|t|      [0.025      0.975]\n",
      "------------------------------------------------------------------------------\n",
      "Intercept     -1.4683      0.137    -10.705      0.000      -1.756      -1.180\n",
      "logMass        0.8086      0.027     30.127      0.000       0.752       0.865\n",
      "==============================================================================\n",
      "Omnibus:                        2.130   Durbin-Watson:                   1.789\n",
      "Prob(Omnibus):                  0.345   Jarque-Bera (JB):                1.768\n",
      "Skew:                           0.667   Prob(JB):                        0.413\n",
      "Kurtosis:                       2.417   Cond. No.                         18.0\n",
      "==============================================================================\n",
      "\n",
      "Notes:\n",
      "[1] Standard Errors assume that the covariance matrix of the errors is correctly specified.\n"
     ]
    }
   ],
   "source": [
    "model = smf.ols(\"logEnergy ~ logMass\", data = df)\n",
    "results_reduced = model.fit()\n",
    "print(results_reduced.summary())"
   ]
  },
  {
   "cell_type": "code",
   "execution_count": 131,
   "id": "13052d49",
   "metadata": {
    "slideshow": {
     "slide_type": "slide"
    }
   },
   "outputs": [
    {
     "name": "stdout",
     "output_type": "stream",
     "text": [
      "sum_of_sqrd_resid_full =  0.5533175347246567\n",
      "sum_of_sqrd_resid_reduced =  0.5828911268810112\n",
      "f_statistic =  0.4275822152799976\n",
      "p-value =  0.6593194871591793\n"
     ]
    }
   ],
   "source": [
    "sum_of_sqrd_resid_full = (results_full.resid**2).sum()\n",
    "sum_of_sqrd_resid_reduced = (results_reduced.resid**2).sum()\n",
    "extra_sum_squares = sum_of_sqrd_resid_reduced - sum_of_sqrd_resid_full\n",
    "\n",
    "print(\"sum_of_sqrd_resid_full = \", sum_of_sqrd_resid_full)\n",
    "print(\"sum_of_sqrd_resid_reduced = \", sum_of_sqrd_resid_reduced)\n",
    "\n",
    "coeff_tested = 2\n",
    "df_full = 20 - 4\n",
    "\n",
    "f_stat = (extra_sum_squares/coeff_tested)/(sum_of_sqrd_resid_full/df_full)\n",
    "\n",
    "print(\"f_statistic = \", f_stat)\n",
    "\n",
    "from scipy.stats import f\n",
    "pValue = 1 - f.cdf(f_stat,coeff_tested,df_full)\n",
    "print(\"p-value = \", pValue)"
   ]
  },
  {
   "cell_type": "markdown",
   "id": "6b4aa4c4",
   "metadata": {
    "slideshow": {
     "slide_type": "slide"
    }
   },
   "source": [
    "There is no evidence that mean log energy differs for birds, echolocating bats, and non-echolocating bats, after accounting for body mass."
   ]
  },
  {
   "cell_type": "markdown",
   "id": "c65eefe6",
   "metadata": {
    "slideshow": {
     "slide_type": "slide"
    }
   },
   "source": [
    "anova_lm function can be used to conduct this test directly."
   ]
  },
  {
   "cell_type": "code",
   "execution_count": 127,
   "id": "2c93d222",
   "metadata": {
    "slideshow": {
     "slide_type": "slide"
    }
   },
   "outputs": [],
   "source": [
    "from statsmodels.stats.anova import anova_lm"
   ]
  },
  {
   "cell_type": "code",
   "execution_count": 136,
   "id": "dd381a36",
   "metadata": {
    "slideshow": {
     "slide_type": "slide"
    }
   },
   "outputs": [
    {
     "name": "stdout",
     "output_type": "stream",
     "text": [
      "\n",
      "ANOVA results full model\n",
      "   df_resid       ssr  df_diff   ss_diff         F    Pr(>F)\n",
      "0      18.0  0.582891      0.0       NaN       NaN       NaN\n",
      "1      16.0  0.553318      2.0  0.029574  0.427582  0.659319\n"
     ]
    }
   ],
   "source": [
    "# Perform analysis of variance on fitted linear model (reduced model is in the first argument)\n",
    "anova_results = anova_lm(results_reduced, results_full)\n",
    "print('\\nANOVA results full model')\n",
    "print(anova_results)"
   ]
  },
  {
   "attachments": {
    "case1001.png": {
     "image/png": "[encoded data removed]"
    }
   },
   "cell_type": "markdown",
   "id": "665694df",
   "metadata": {
    "slideshow": {
     "slide_type": "slide"
    }
   },
   "source": [
    "## Case study: Galileo’s Data on the Motion of Falling Bodies—A Controlled Experiment\n",
    "In 1609 Galileo proved that the trajectory of a body falling with a horizontal velocity component is a parabola.\n",
    "He placed an object on an inclined table and measured the horizontal distance (units - punti) it moved from the table by varying heights.\n",
    "\n",
    "![case1001.png](attachment:case1001.png)\n"
   ]
  },
  {
   "cell_type": "code",
   "execution_count": 160,
   "id": "861611bc",
   "metadata": {
    "slideshow": {
     "slide_type": "slide"
    }
   },
   "outputs": [
    {
     "data": {
      "text/html": [
       "<div>\n",
       "<style scoped>\n",
       "    .dataframe tbody tr th:only-of-type {\n",
       "        vertical-align: middle;\n",
       "    }\n",
       "\n",
       "    .dataframe tbody tr th {\n",
       "        vertical-align: top;\n",
       "    }\n",
       "\n",
       "    .dataframe thead th {\n",
       "        text-align: right;\n",
       "    }\n",
       "</style>\n",
       "<table border=\"1\" class=\"dataframe\">\n",
       "  <thead>\n",
       "    <tr style=\"text-align: right;\">\n",
       "      <th></th>\n",
       "      <th>Distance</th>\n",
       "      <th>Height</th>\n",
       "    </tr>\n",
       "  </thead>\n",
       "  <tbody>\n",
       "    <tr>\n",
       "      <th>0</th>\n",
       "      <td>253</td>\n",
       "      <td>100</td>\n",
       "    </tr>\n",
       "    <tr>\n",
       "      <th>1</th>\n",
       "      <td>337</td>\n",
       "      <td>200</td>\n",
       "    </tr>\n",
       "    <tr>\n",
       "      <th>2</th>\n",
       "      <td>395</td>\n",
       "      <td>300</td>\n",
       "    </tr>\n",
       "    <tr>\n",
       "      <th>3</th>\n",
       "      <td>451</td>\n",
       "      <td>450</td>\n",
       "    </tr>\n",
       "    <tr>\n",
       "      <th>4</th>\n",
       "      <td>495</td>\n",
       "      <td>600</td>\n",
       "    </tr>\n",
       "  </tbody>\n",
       "</table>\n",
       "</div>"
      ],
      "text/plain": [
       "   Distance  Height\n",
       "0       253     100\n",
       "1       337     200\n",
       "2       395     300\n",
       "3       451     450\n",
       "4       495     600"
      ]
     },
     "execution_count": 160,
     "metadata": {},
     "output_type": "execute_result"
    }
   ],
   "source": [
    "path = 'sleuth3csv/case1001.csv'\n",
    "df = pd.read_csv(path)\n",
    "df.head()"
   ]
  },
  {
   "cell_type": "code",
   "execution_count": 161,
   "id": "e696ff7d",
   "metadata": {
    "slideshow": {
     "slide_type": "slide"
    }
   },
   "outputs": [
    {
     "data": {
      "text/html": [
       "<div>\n",
       "<style scoped>\n",
       "    .dataframe tbody tr th:only-of-type {\n",
       "        vertical-align: middle;\n",
       "    }\n",
       "\n",
       "    .dataframe tbody tr th {\n",
       "        vertical-align: top;\n",
       "    }\n",
       "\n",
       "    .dataframe thead th {\n",
       "        text-align: right;\n",
       "    }\n",
       "</style>\n",
       "<table border=\"1\" class=\"dataframe\">\n",
       "  <thead>\n",
       "    <tr style=\"text-align: right;\">\n",
       "      <th></th>\n",
       "      <th>Distance</th>\n",
       "      <th>Height</th>\n",
       "    </tr>\n",
       "  </thead>\n",
       "  <tbody>\n",
       "    <tr>\n",
       "      <th>count</th>\n",
       "      <td>7.000000</td>\n",
       "      <td>7.000000</td>\n",
       "    </tr>\n",
       "    <tr>\n",
       "      <th>mean</th>\n",
       "      <td>434.000000</td>\n",
       "      <td>492.857143</td>\n",
       "    </tr>\n",
       "    <tr>\n",
       "      <th>std</th>\n",
       "      <td>113.300485</td>\n",
       "      <td>327.144937</td>\n",
       "    </tr>\n",
       "    <tr>\n",
       "      <th>min</th>\n",
       "      <td>253.000000</td>\n",
       "      <td>100.000000</td>\n",
       "    </tr>\n",
       "    <tr>\n",
       "      <th>25%</th>\n",
       "      <td>366.000000</td>\n",
       "      <td>250.000000</td>\n",
       "    </tr>\n",
       "    <tr>\n",
       "      <th>50%</th>\n",
       "      <td>451.000000</td>\n",
       "      <td>450.000000</td>\n",
       "    </tr>\n",
       "    <tr>\n",
       "      <th>75%</th>\n",
       "      <td>514.500000</td>\n",
       "      <td>700.000000</td>\n",
       "    </tr>\n",
       "    <tr>\n",
       "      <th>max</th>\n",
       "      <td>573.000000</td>\n",
       "      <td>1000.000000</td>\n",
       "    </tr>\n",
       "  </tbody>\n",
       "</table>\n",
       "</div>"
      ],
      "text/plain": [
       "         Distance       Height\n",
       "count    7.000000     7.000000\n",
       "mean   434.000000   492.857143\n",
       "std    113.300485   327.144937\n",
       "min    253.000000   100.000000\n",
       "25%    366.000000   250.000000\n",
       "50%    451.000000   450.000000\n",
       "75%    514.500000   700.000000\n",
       "max    573.000000  1000.000000"
      ]
     },
     "execution_count": 161,
     "metadata": {},
     "output_type": "execute_result"
    }
   ],
   "source": [
    "df.describe()"
   ]
  },
  {
   "cell_type": "code",
   "execution_count": 105,
   "id": "5f1611f3",
   "metadata": {
    "slideshow": {
     "slide_type": "slide"
    }
   },
   "outputs": [
    {
     "data": {
      "image/png": "[encoded data removed]",
      "text/plain": [
       "<Figure size 700x300 with 1 Axes>"
      ]
     },
     "metadata": {},
     "output_type": "display_data"
    }
   ],
   "source": [
    "plt.figure(figsize=(7,3))\n",
    "sns.scatterplot(y= 'Distance', x='Height', data= df)\n",
    "plt.show()"
   ]
  },
  {
   "cell_type": "markdown",
   "id": "e6be2063",
   "metadata": {
    "slideshow": {
     "slide_type": "slide"
    }
   },
   "source": [
    "Consider the model\n",
    "\n",
    "$$\\mu\\{distance|height\\}=\\beta_0+\\beta_1 height + \\beta_2 height^2$$"
   ]
  },
  {
   "cell_type": "code",
   "execution_count": 156,
   "id": "e69ad38a",
   "metadata": {
    "slideshow": {
     "slide_type": "slide"
    }
   },
   "outputs": [
    {
     "name": "stdout",
     "output_type": "stream",
     "text": [
      "                            OLS Regression Results                            \n",
      "==============================================================================\n",
      "Dep. Variable:               Distance   R-squared:                       0.990\n",
      "Model:                            OLS   Adj. R-squared:                  0.986\n",
      "Method:                 Least Squares   F-statistic:                     205.0\n",
      "Date:                Tue, 28 Mar 2023   Prob (F-statistic):           9.33e-05\n",
      "Time:                        16:46:47   Log-Likelihood:                -26.264\n",
      "No. Observations:                   7   AIC:                             58.53\n",
      "Df Residuals:                       4   BIC:                             58.37\n",
      "Df Model:                           2                                         \n",
      "Covariance Type:            nonrobust                                         \n",
      "==================================================================================\n",
      "                     coef    std err          t      P>|t|      [0.025      0.975]\n",
      "----------------------------------------------------------------------------------\n",
      "Intercept        199.9128     16.759     11.928      0.000     153.381     246.444\n",
      "Height             0.7083      0.075      9.467      0.001       0.501       0.916\n",
      "I(Height ** 2)    -0.0003   6.68e-05     -5.147      0.007      -0.001      -0.000\n",
      "==============================================================================\n",
      "Omnibus:                          nan   Durbin-Watson:                   1.687\n",
      "Prob(Omnibus):                    nan   Jarque-Bera (JB):                0.740\n",
      "Skew:                          -0.171   Prob(JB):                        0.691\n",
      "Kurtosis:                       1.445   Cond. No.                     1.55e+06\n",
      "==============================================================================\n",
      "\n",
      "Notes:\n",
      "[1] Standard Errors assume that the covariance matrix of the errors is correctly specified.\n",
      "[2] The condition number is large, 1.55e+06. This might indicate that there are\n",
      "strong multicollinearity or other numerical problems.\n"
     ]
    },
    {
     "name": "stderr",
     "output_type": "stream",
     "text": [
      "/Users/amilamuthunayake/miniforge3/lib/python3.10/site-packages/statsmodels/stats/stattools.py:74: ValueWarning: omni_normtest is not valid with less than 8 observations; 7 samples were given.\n",
      "  warn(\"omni_normtest is not valid with less than 8 observations; %i \"\n"
     ]
    }
   ],
   "source": [
    "model = smf.ols(\"Distance ~ Height + I(Height**2)\", data = df)\n",
    "results = model.fit()\n",
    "print(results.summary())"
   ]
  },
  {
   "cell_type": "code",
   "execution_count": 100,
   "id": "91988516",
   "metadata": {
    "slideshow": {
     "slide_type": "slide"
    }
   },
   "outputs": [
    {
     "data": {
      "image/png": "[encoded data removed]",
      "text/plain": [
       "<Figure size 700x300 with 1 Axes>"
      ]
     },
     "metadata": {},
     "output_type": "display_data"
    }
   ],
   "source": [
    "plt.figure(figsize=(7,3))\n",
    "sns.scatterplot(y= 'Distance', x='Height', data= df)\n",
    "plt.plot(df[\"Height\"],results.fittedvalues)\n",
    "plt.show()"
   ]
  },
  {
   "cell_type": "markdown",
   "id": "31f3c1ba",
   "metadata": {
    "slideshow": {
     "slide_type": "slide"
    }
   },
   "source": [
    "A trick to obtain the standard error for the mean prediction when Height is 250 (say).\n",
    "\n",
    "Include a new height column subtracting 250 from each height measurement and fit a model as before with the new height column.\n",
    "\n",
    "The standard error of the intercept in the new model is the SE of the mean distance prediction when height is 250."
   ]
  },
  {
   "cell_type": "code",
   "execution_count": 112,
   "id": "ae92b737",
   "metadata": {
    "slideshow": {
     "slide_type": "slide"
    }
   },
   "outputs": [
    {
     "name": "stdout",
     "output_type": "stream",
     "text": [
      "                            OLS Regression Results                            \n",
      "==============================================================================\n",
      "Dep. Variable:               Distance   R-squared:                       0.990\n",
      "Model:                            OLS   Adj. R-squared:                  0.986\n",
      "Method:                 Least Squares   F-statistic:                     205.0\n",
      "Date:                Sun, 26 Mar 2023   Prob (F-statistic):           9.33e-05\n",
      "Time:                        21:16:09   Log-Likelihood:                -26.264\n",
      "No. Observations:                   7   AIC:                             58.53\n",
      "Df Residuals:                       4   BIC:                             58.37\n",
      "Df Model:                           2                                         \n",
      "Covariance Type:            nonrobust                                         \n",
      "=================================================================================\n",
      "                    coef    std err          t      P>|t|      [0.025      0.975]\n",
      "---------------------------------------------------------------------------------\n",
      "Intercept       355.5126      6.625     53.663      0.000     337.119     373.906\n",
      "ht250             0.5365      0.043     12.481      0.000       0.417       0.656\n",
      "I(ht250 ** 2)    -0.0003   6.68e-05     -5.147      0.007      -0.001      -0.000\n",
      "==============================================================================\n",
      "Omnibus:                          nan   Durbin-Watson:                   1.687\n",
      "Prob(Omnibus):                    nan   Jarque-Bera (JB):                0.740\n",
      "Skew:                          -0.171   Prob(JB):                        0.691\n",
      "Kurtosis:                       1.445   Cond. No.                     3.17e+05\n",
      "==============================================================================\n",
      "\n",
      "Notes:\n",
      "[1] Standard Errors assume that the covariance matrix of the errors is correctly specified.\n",
      "[2] The condition number is large, 3.17e+05. This might indicate that there are\n",
      "strong multicollinearity or other numerical problems.\n"
     ]
    },
    {
     "name": "stderr",
     "output_type": "stream",
     "text": [
      "/Users/amilamuthunayake/miniforge3/lib/python3.10/site-packages/statsmodels/stats/stattools.py:74: ValueWarning: omni_normtest is not valid with less than 8 observations; 7 samples were given.\n",
      "  warn(\"omni_normtest is not valid with less than 8 observations; %i \"\n"
     ]
    }
   ],
   "source": [
    "df[\"ht250\"] = df[\"Height\"]-250\n",
    "\n",
    "model = smf.ols(\"Distance ~ ht250 + I(ht250**2)\", data = df)\n",
    "results = model.fit()\n",
    "print(results.summary())"
   ]
  },
  {
   "cell_type": "markdown",
   "id": "244eca56",
   "metadata": {
    "slideshow": {
     "slide_type": "slide"
    }
   },
   "source": [
    "This also can be computed directly with get_prediction method."
   ]
  },
  {
   "cell_type": "code",
   "execution_count": 157,
   "id": "c2d6f8ff",
   "metadata": {
    "slideshow": {
     "slide_type": "slide"
    }
   },
   "outputs": [
    {
     "data": {
      "text/html": [
       "<div>\n",
       "<style scoped>\n",
       "    .dataframe tbody tr th:only-of-type {\n",
       "        vertical-align: middle;\n",
       "    }\n",
       "\n",
       "    .dataframe tbody tr th {\n",
       "        vertical-align: top;\n",
       "    }\n",
       "\n",
       "    .dataframe thead th {\n",
       "        text-align: right;\n",
       "    }\n",
       "</style>\n",
       "<table border=\"1\" class=\"dataframe\">\n",
       "  <thead>\n",
       "    <tr style=\"text-align: right;\">\n",
       "      <th></th>\n",
       "      <th>Distance</th>\n",
       "      <th>Height</th>\n",
       "    </tr>\n",
       "  </thead>\n",
       "  <tbody>\n",
       "    <tr>\n",
       "      <th>0</th>\n",
       "      <td>253</td>\n",
       "      <td>100</td>\n",
       "    </tr>\n",
       "    <tr>\n",
       "      <th>1</th>\n",
       "      <td>337</td>\n",
       "      <td>200</td>\n",
       "    </tr>\n",
       "    <tr>\n",
       "      <th>2</th>\n",
       "      <td>395</td>\n",
       "      <td>300</td>\n",
       "    </tr>\n",
       "    <tr>\n",
       "      <th>3</th>\n",
       "      <td>451</td>\n",
       "      <td>450</td>\n",
       "    </tr>\n",
       "    <tr>\n",
       "      <th>4</th>\n",
       "      <td>495</td>\n",
       "      <td>600</td>\n",
       "    </tr>\n",
       "  </tbody>\n",
       "</table>\n",
       "</div>"
      ],
      "text/plain": [
       "   Distance  Height\n",
       "0       253     100\n",
       "1       337     200\n",
       "2       395     300\n",
       "3       451     450\n",
       "4       495     600"
      ]
     },
     "execution_count": 157,
     "metadata": {},
     "output_type": "execute_result"
    }
   ],
   "source": [
    "path = 'sleuth3csv/case1001.csv'\n",
    "df = pd.read_csv(path)\n",
    "df.head()"
   ]
  },
  {
   "cell_type": "code",
   "execution_count": 187,
   "id": "cc400340",
   "metadata": {
    "slideshow": {
     "slide_type": "slide"
    }
   },
   "outputs": [
    {
     "name": "stdout",
     "output_type": "stream",
     "text": [
      "                            OLS Regression Results                            \n",
      "==============================================================================\n",
      "Dep. Variable:               Distance   R-squared:                       0.990\n",
      "Model:                            OLS   Adj. R-squared:                  0.986\n",
      "Method:                 Least Squares   F-statistic:                     205.0\n",
      "Date:                Tue, 28 Mar 2023   Prob (F-statistic):           9.33e-05\n",
      "Time:                        17:54:40   Log-Likelihood:                -26.264\n",
      "No. Observations:                   7   AIC:                             58.53\n",
      "Df Residuals:                       4   BIC:                             58.37\n",
      "Df Model:                           2                                         \n",
      "Covariance Type:            nonrobust                                         \n",
      "==================================================================================\n",
      "                     coef    std err          t      P>|t|      [0.025      0.975]\n",
      "----------------------------------------------------------------------------------\n",
      "Intercept        199.9128     16.759     11.928      0.000     153.381     246.444\n",
      "Height             0.7083      0.075      9.467      0.001       0.501       0.916\n",
      "I(Height ** 2)    -0.0003   6.68e-05     -5.147      0.007      -0.001      -0.000\n",
      "==============================================================================\n",
      "Omnibus:                          nan   Durbin-Watson:                   1.687\n",
      "Prob(Omnibus):                    nan   Jarque-Bera (JB):                0.740\n",
      "Skew:                          -0.171   Prob(JB):                        0.691\n",
      "Kurtosis:                       1.445   Cond. No.                     1.55e+06\n",
      "==============================================================================\n",
      "\n",
      "Notes:\n",
      "[1] Standard Errors assume that the covariance matrix of the errors is correctly specified.\n",
      "[2] The condition number is large, 1.55e+06. This might indicate that there are\n",
      "strong multicollinearity or other numerical problems.\n"
     ]
    },
    {
     "name": "stderr",
     "output_type": "stream",
     "text": [
      "/Users/amilamuthunayake/miniforge3/lib/python3.10/site-packages/statsmodels/stats/stattools.py:74: ValueWarning: omni_normtest is not valid with less than 8 observations; 7 samples were given.\n",
      "  warn(\"omni_normtest is not valid with less than 8 observations; %i \"\n"
     ]
    }
   ],
   "source": [
    "model = smf.ols(\"Distance ~ Height + I(Height**2)\", data = df)\n",
    "results = model.fit()\n",
    "print(results.summary())"
   ]
  },
  {
   "cell_type": "code",
   "execution_count": 115,
   "id": "fda14c26",
   "metadata": {
    "slideshow": {
     "slide_type": "slide"
    }
   },
   "outputs": [
    {
     "data": {
      "text/html": [
       "<div>\n",
       "<style scoped>\n",
       "    .dataframe tbody tr th:only-of-type {\n",
       "        vertical-align: middle;\n",
       "    }\n",
       "\n",
       "    .dataframe tbody tr th {\n",
       "        vertical-align: top;\n",
       "    }\n",
       "\n",
       "    .dataframe thead th {\n",
       "        text-align: right;\n",
       "    }\n",
       "</style>\n",
       "<table border=\"1\" class=\"dataframe\">\n",
       "  <thead>\n",
       "    <tr style=\"text-align: right;\">\n",
       "      <th></th>\n",
       "      <th>mean</th>\n",
       "      <th>mean_se</th>\n",
       "      <th>mean_ci_lower</th>\n",
       "      <th>mean_ci_upper</th>\n",
       "      <th>obs_ci_lower</th>\n",
       "      <th>obs_ci_upper</th>\n",
       "    </tr>\n",
       "  </thead>\n",
       "  <tbody>\n",
       "    <tr>\n",
       "      <th>0</th>\n",
       "      <td>355.512597</td>\n",
       "      <td>6.624902</td>\n",
       "      <td>337.118921</td>\n",
       "      <td>373.906272</td>\n",
       "      <td>313.414066</td>\n",
       "      <td>397.611127</td>\n",
       "    </tr>\n",
       "  </tbody>\n",
       "</table>\n",
       "</div>"
      ],
      "text/plain": [
       "         mean   mean_se  mean_ci_lower  mean_ci_upper  obs_ci_lower  \\\n",
       "0  355.512597  6.624902     337.118921     373.906272    313.414066   \n",
       "\n",
       "   obs_ci_upper  \n",
       "0    397.611127  "
      ]
     },
     "execution_count": 115,
     "metadata": {},
     "output_type": "execute_result"
    }
   ],
   "source": [
    "X_test = np.array([250])\n",
    "\n",
    "df_new = pd.DataFrame()\n",
    "\n",
    "df_new['Height'] = X_test\n",
    "\n",
    "results.get_prediction(df_new).summary_frame(alpha=0.05)"
   ]
  },
  {
   "cell_type": "markdown",
   "id": "662d3917",
   "metadata": {
    "slideshow": {
     "slide_type": "slide"
    }
   },
   "source": [
    "## Adjusted R^2\n",
    "The adjusted $R^2$ is a version of $R^2$ that includes a penalty for unnecessary explanatory variables.\n",
    "\n",
    "$$\\text{Adjusted_} R^2 = \\frac{\\frac{SS_{\\text{Total}}}{n-1}-\\frac{SS_{\\text{Residuals}}}{n-\\text{num. param}}}{\\frac{SS_{\\text{Total}}}{n-1}}$$\n",
    "\n",
    "Thus adjusted $R^2$ is useful for casual assessment of improvement of fit."
   ]
  },
  {
   "cell_type": "code",
   "execution_count": 188,
   "id": "a4150a3c",
   "metadata": {
    "slideshow": {
     "slide_type": "slide"
    }
   },
   "outputs": [
    {
     "data": {
      "text/plain": [
       "0.9855091122195787"
      ]
     },
     "execution_count": 188,
     "metadata": {},
     "output_type": "execute_result"
    }
   ],
   "source": [
    "SS_mean_response = ((df[\"Distance\"]-df[\"Distance\"].mean())**2).sum()/6 \n",
    "\n",
    "\n",
    "SS_mean_residuals = (results.resid**2).sum()/4\n",
    "\n",
    "Adj_R2 = (SS_mean_response - SS_mean_residuals)/SS_mean_response\n",
    "\n",
    "Adj_R2"
   ]
  }
 ],
 "metadata": {
  "celltoolbar": "Slideshow",
  "kernelspec": {
   "display_name": "Python 3 (ipykernel)",
   "language": "python",
   "name": "python3"
  },
  "language_info": {
   "codemirror_mode": {
    "name": "ipython",
    "version": 3
   },
   "file_extension": ".py",
   "mimetype": "text/x-python",
   "name": "python",
   "nbconvert_exporter": "python",
   "pygments_lexer": "ipython3",
   "version": "3.10.6"
  }
 },
 "nbformat": 4,
 "nbformat_minor": 5
}
