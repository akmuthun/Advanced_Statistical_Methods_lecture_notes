{
 "cells": [
  {
   "cell_type": "markdown",
   "metadata": {
    "id": "Hr6ziwzsyTxs",
    "slideshow": {
     "slide_type": "slide"
    }
   },
   "source": [
    "# Multiple Linear Regression\n",
    "### Models the mean of a response variable as a function of several explanatory variables."
   ]
  },
  {
   "cell_type": "markdown",
   "metadata": {
    "id": "KW6drMT8riUN",
    "slideshow": {
     "slide_type": "slide"
    }
   },
   "source": [
    "\n",
    "## Case Study: Effects of Light on Meadowfoam Flowering—A Randomized Experiment \n",
    "\n",
    "Researchers reported the results from one study in a series designed to find out how to elevate meadowfoam production to a profitable crop. In a controlled growth chamber, they focused on the effects of two light-related factors: light intensity, at the six levels of 150, 300, 450, 600, 750, and 900mol/m2/sec; and the timing of light treatment, either at photoperiodic floral induction (PFI)— was increased from 8 to 16 hours per day to induce flowering—or 24 days before PFI. \n",
    "\n",
    "\n",
    "\n",
    "![110506-425x282r1-Limnanthes.webp](data:image/webp;base64,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)\n",
    "\n",
    "\n",
    "https://www.outsidepride.com/seed/ground-cover-seed/limnanthes-douglasii.html"
   ]
  },
  {
   "cell_type": "code",
   "execution_count": 1,
   "metadata": {
    "id": "P0s4TwBermXg",
    "slideshow": {
     "slide_type": "slide"
    }
   },
   "outputs": [],
   "source": [
    "import matplotlib.pyplot as plt\n",
    "import numpy as np\n",
    "import pandas as pd\n",
    "import scipy.stats\n",
    "import seaborn as sns\n",
    "import statsmodels.api as sm\n",
    "from scipy.stats import shapiro\n",
    "import statsmodels.formula.api as smf\n",
    "sns.set_style('whitegrid')"
   ]
  },
  {
   "cell_type": "code",
   "execution_count": 2,
   "metadata": {
    "colab": {
     "base_uri": "https://localhost:8080/",
     "height": 206
    },
    "id": "TA62Eu5AzSHs",
    "outputId": "23720974-7e25-4461-fd26-8879a4d39093",
    "slideshow": {
     "slide_type": "slide"
    }
   },
   "outputs": [
    {
     "data": {
      "text/html": [
       "<div>\n",
       "<style scoped>\n",
       "    .dataframe tbody tr th:only-of-type {\n",
       "        vertical-align: middle;\n",
       "    }\n",
       "\n",
       "    .dataframe tbody tr th {\n",
       "        vertical-align: top;\n",
       "    }\n",
       "\n",
       "    .dataframe thead th {\n",
       "        text-align: right;\n",
       "    }\n",
       "</style>\n",
       "<table border=\"1\" class=\"dataframe\">\n",
       "  <thead>\n",
       "    <tr style=\"text-align: right;\">\n",
       "      <th></th>\n",
       "      <th>Flowers</th>\n",
       "      <th>Time</th>\n",
       "      <th>Intensity</th>\n",
       "    </tr>\n",
       "  </thead>\n",
       "  <tbody>\n",
       "    <tr>\n",
       "      <th>0</th>\n",
       "      <td>62.3</td>\n",
       "      <td>1</td>\n",
       "      <td>150</td>\n",
       "    </tr>\n",
       "    <tr>\n",
       "      <th>1</th>\n",
       "      <td>77.4</td>\n",
       "      <td>1</td>\n",
       "      <td>150</td>\n",
       "    </tr>\n",
       "    <tr>\n",
       "      <th>2</th>\n",
       "      <td>55.3</td>\n",
       "      <td>1</td>\n",
       "      <td>300</td>\n",
       "    </tr>\n",
       "    <tr>\n",
       "      <th>3</th>\n",
       "      <td>54.2</td>\n",
       "      <td>1</td>\n",
       "      <td>300</td>\n",
       "    </tr>\n",
       "    <tr>\n",
       "      <th>4</th>\n",
       "      <td>49.6</td>\n",
       "      <td>1</td>\n",
       "      <td>450</td>\n",
       "    </tr>\n",
       "  </tbody>\n",
       "</table>\n",
       "</div>"
      ],
      "text/plain": [
       "   Flowers  Time  Intensity\n",
       "0     62.3     1        150\n",
       "1     77.4     1        150\n",
       "2     55.3     1        300\n",
       "3     54.2     1        300\n",
       "4     49.6     1        450"
      ]
     },
     "execution_count": 2,
     "metadata": {},
     "output_type": "execute_result"
    }
   ],
   "source": [
    "path = 'sleuth3csv/case0901.csv'\n",
    "df = pd.read_csv(path)\n",
    "df.head()"
   ]
  },
  {
   "cell_type": "code",
   "execution_count": null,
   "metadata": {
    "colab": {
     "base_uri": "https://localhost:8080/"
    },
    "id": "Nj-HMYonIBmr",
    "outputId": "3f01ef9e-38b5-4482-db69-64c16be37463",
    "slideshow": {
     "slide_type": "slide"
    }
   },
   "outputs": [
    {
     "data": {
      "text/plain": [
       "array([1, 2])"
      ]
     },
     "execution_count": 35,
     "metadata": {},
     "output_type": "execute_result"
    }
   ],
   "source": [
    "df.Time.unique()"
   ]
  },
  {
   "cell_type": "code",
   "execution_count": 3,
   "metadata": {
    "colab": {
     "base_uri": "https://localhost:8080/",
     "height": 206
    },
    "id": "Ezsorjh80734",
    "outputId": "05e6d280-9d24-4141-d9eb-475ff7750781",
    "slideshow": {
     "slide_type": "slide"
    }
   },
   "outputs": [
    {
     "data": {
      "text/html": [
       "\n",
       "  <div id=\"df-687b4163-9526-4cd7-9174-a98dfbbcda1d\">\n",
       "    <div class=\"colab-df-container\">\n",
       "      <div>\n",
       "<style scoped>\n",
       "    .dataframe tbody tr th:only-of-type {\n",
       "        vertical-align: middle;\n",
       "    }\n",
       "\n",
       "    .dataframe tbody tr th {\n",
       "        vertical-align: top;\n",
       "    }\n",
       "\n",
       "    .dataframe thead th {\n",
       "        text-align: right;\n",
       "    }\n",
       "</style>\n",
       "<table border=\"1\" class=\"dataframe\">\n",
       "  <thead>\n",
       "    <tr style=\"text-align: right;\">\n",
       "      <th></th>\n",
       "      <th>Flowers</th>\n",
       "      <th>Time</th>\n",
       "      <th>Intensity</th>\n",
       "      <th>Treatment</th>\n",
       "    </tr>\n",
       "  </thead>\n",
       "  <tbody>\n",
       "    <tr>\n",
       "      <th>0</th>\n",
       "      <td>62.3</td>\n",
       "      <td>1</td>\n",
       "      <td>150</td>\n",
       "      <td>Late</td>\n",
       "    </tr>\n",
       "    <tr>\n",
       "      <th>1</th>\n",
       "      <td>77.4</td>\n",
       "      <td>1</td>\n",
       "      <td>150</td>\n",
       "      <td>Late</td>\n",
       "    </tr>\n",
       "    <tr>\n",
       "      <th>2</th>\n",
       "      <td>55.3</td>\n",
       "      <td>1</td>\n",
       "      <td>300</td>\n",
       "      <td>Late</td>\n",
       "    </tr>\n",
       "    <tr>\n",
       "      <th>3</th>\n",
       "      <td>54.2</td>\n",
       "      <td>1</td>\n",
       "      <td>300</td>\n",
       "      <td>Late</td>\n",
       "    </tr>\n",
       "    <tr>\n",
       "      <th>4</th>\n",
       "      <td>49.6</td>\n",
       "      <td>1</td>\n",
       "      <td>450</td>\n",
       "      <td>Late</td>\n",
       "    </tr>\n",
       "  </tbody>\n",
       "</table>\n",
       "</div>\n",
       "      <button class=\"colab-df-convert\" onclick=\"convertToInteractive('df-687b4163-9526-4cd7-9174-a98dfbbcda1d')\"\n",
       "              title=\"Convert this dataframe to an interactive table.\"\n",
       "              style=\"display:none;\">\n",
       "        \n",
       "  <svg xmlns=\"http://www.w3.org/2000/svg\" height=\"24px\"viewBox=\"0 0 24 24\"\n",
       "       width=\"24px\">\n",
       "    <path d=\"M0 0h24v24H0V0z\" fill=\"none\"/>\n",
       "    <path d=\"M18.56 5.44l.94 2.06.94-2.06 2.06-.94-2.06-.94-.94-2.06-.94 2.06-2.06.94zm-11 1L8.5 8.5l.94-2.06 2.06-.94-2.06-.94L8.5 2.5l-.94 2.06-2.06.94zm10 10l.94 2.06.94-2.06 2.06-.94-2.06-.94-.94-2.06-.94 2.06-2.06.94z\"/><path d=\"M17.41 7.96l-1.37-1.37c-.4-.4-.92-.59-1.43-.59-.52 0-1.04.2-1.43.59L10.3 9.45l-7.72 7.72c-.78.78-.78 2.05 0 2.83L4 21.41c.39.39.9.59 1.41.59.51 0 1.02-.2 1.41-.59l7.78-7.78 2.81-2.81c.8-.78.8-2.07 0-2.86zM5.41 20L4 18.59l7.72-7.72 1.47 1.35L5.41 20z\"/>\n",
       "  </svg>\n",
       "      </button>\n",
       "      \n",
       "  <style>\n",
       "    .colab-df-container {\n",
       "      display:flex;\n",
       "      flex-wrap:wrap;\n",
       "      gap: 12px;\n",
       "    }\n",
       "\n",
       "    .colab-df-convert {\n",
       "      background-color: #E8F0FE;\n",
       "      border: none;\n",
       "      border-radius: 50%;\n",
       "      cursor: pointer;\n",
       "      display: none;\n",
       "      fill: #1967D2;\n",
       "      height: 32px;\n",
       "      padding: 0 0 0 0;\n",
       "      width: 32px;\n",
       "    }\n",
       "\n",
       "    .colab-df-convert:hover {\n",
       "      background-color: #E2EBFA;\n",
       "      box-shadow: 0px 1px 2px rgba(60, 64, 67, 0.3), 0px 1px 3px 1px rgba(60, 64, 67, 0.15);\n",
       "      fill: #174EA6;\n",
       "    }\n",
       "\n",
       "    [theme=dark] .colab-df-convert {\n",
       "      background-color: #3B4455;\n",
       "      fill: #D2E3FC;\n",
       "    }\n",
       "\n",
       "    [theme=dark] .colab-df-convert:hover {\n",
       "      background-color: #434B5C;\n",
       "      box-shadow: 0px 1px 3px 1px rgba(0, 0, 0, 0.15);\n",
       "      filter: drop-shadow(0px 1px 2px rgba(0, 0, 0, 0.3));\n",
       "      fill: #FFFFFF;\n",
       "    }\n",
       "  </style>\n",
       "\n",
       "      <script>\n",
       "        const buttonEl =\n",
       "          document.querySelector('#df-687b4163-9526-4cd7-9174-a98dfbbcda1d button.colab-df-convert');\n",
       "        buttonEl.style.display =\n",
       "          google.colab.kernel.accessAllowed ? 'block' : 'none';\n",
       "\n",
       "        async function convertToInteractive(key) {\n",
       "          const element = document.querySelector('#df-687b4163-9526-4cd7-9174-a98dfbbcda1d');\n",
       "          const dataTable =\n",
       "            await google.colab.kernel.invokeFunction('convertToInteractive',\n",
       "                                                     [key], {});\n",
       "          if (!dataTable) return;\n",
       "\n",
       "          const docLinkHtml = 'Like what you see? Visit the ' +\n",
       "            '<a target=\"_blank\" href=https://colab.research.google.com/notebooks/data_table.ipynb>data table notebook</a>'\n",
       "            + ' to learn more about interactive tables.';\n",
       "          element.innerHTML = '';\n",
       "          dataTable['output_type'] = 'display_data';\n",
       "          await google.colab.output.renderOutput(dataTable, element);\n",
       "          const docLink = document.createElement('div');\n",
       "          docLink.innerHTML = docLinkHtml;\n",
       "          element.appendChild(docLink);\n",
       "        }\n",
       "      </script>\n",
       "    </div>\n",
       "  </div>\n",
       "  "
      ],
      "text/plain": [
       "   Flowers  Time  Intensity Treatment\n",
       "0     62.3     1        150      Late\n",
       "1     77.4     1        150      Late\n",
       "2     55.3     1        300      Late\n",
       "3     54.2     1        300      Late\n",
       "4     49.6     1        450      Late"
      ]
     },
     "execution_count": 3,
     "metadata": {},
     "output_type": "execute_result"
    }
   ],
   "source": [
    "df.loc[df.Time == 2, 'Treatment'] = 'Early'  \n",
    "df.loc[df.Time == 1, 'Treatment'] = 'Late'  \n",
    "\n",
    "df.head()"
   ]
  },
  {
   "cell_type": "code",
   "execution_count": null,
   "metadata": {
    "colab": {
     "base_uri": "https://localhost:8080/",
     "height": 413
    },
    "id": "Q3aYBAsszkkQ",
    "outputId": "71fcbe15-7318-4ca0-a455-4cb726efc597",
    "slideshow": {
     "slide_type": "slide"
    }
   },
   "outputs": [
    {
     "data": {
      "text/plain": [
       "Text(0.5, 0, 'Light Intensity ($\\\\mu\\\\mathrm{mol/m^2/sec}$)')"
      ]
     },
     "execution_count": 23,
     "metadata": {},
     "output_type": "execute_result"
    },
    {
     "data": {
      "image/png": "[encoded data removed]",
      "text/plain": [
       "<Figure size 864x432 with 1 Axes>"
      ]
     },
     "metadata": {},
     "output_type": "display_data"
    }
   ],
   "source": [
    "\n",
    "## this model fitting is only for visualization purposes only. A more general/clearer method will be discussed.\n",
    "colors = [\"denim blue\", \"medium green\"]\n",
    "palette = sns.xkcd_palette(colors)\n",
    "\n",
    "fig, ax = plt.subplots(figsize=(12,6))\n",
    "sns.scatterplot(x='Intensity', y='Flowers', hue='Treatment', palette=palette, data=df, ax=ax)\n",
    "\n",
    "for (time, grp), color in zip(df.groupby('Time'), palette):\n",
    "    #print(grp)\n",
    "    model = smf.ols('Flowers ~ Intensity', data=grp)\n",
    "    results = model.fit()\n",
    "    #print(results.summary())\n",
    "    ax.plot(grp['Intensity'], results.fittedvalues, color=color)\n",
    "    \n",
    "ax.set_ylabel('Flowers per Plant')\n",
    "ax.set_xlabel('Light Intensity ($\\mu\\mathrm{mol/m^2/sec}$)')"
   ]
  },
  {
   "cell_type": "markdown",
   "metadata": {
    "id": "AXi8CeUM37ZB",
    "slideshow": {
     "slide_type": "slide"
    }
   },
   "source": [
    "## **Examples of Multiple Linear Regressions**\n",
    "\n",
    "\\begin{equation}\n",
    "\\begin{split}\n",
    "\\mu\\{Y|X_1,X_2\\} & =\\beta_0+\\beta_1X_1+\\beta_2 X_2\\\\\n",
    "\\mu\\{Y|X_1\\} & =\\beta_0+\\beta_1X_1+\\beta_2 X_1^2\\\\\n",
    "\\mu\\{Y|X_1, X_2\\} & =\\beta_0+\\beta_1X_1+\\beta_2 X_2+\\beta_3 X_1X_2\\\\\n",
    "\\mu\\{Y|X_1, X_2\\} & =\\beta_0+\\beta_1log(X_1)+\\beta_2 log(X_2)\n",
    "\\end{split}\n",
    "\\end{equation}\n",
    "\n",
    "\n",
    "### The ideal regression model includes an assumption of constant variation.\n",
    "\n",
    "$$Var(Y|X_1,X_2,..,X_n)=\\sigma=\\text{Constant (same for all values of} X_1,..X_n \\text{)}$$"
   ]
  },
  {
   "cell_type": "markdown",
   "metadata": {
    "id": "LXjsTkuk4Mqa",
    "slideshow": {
     "slide_type": "slide"
    }
   },
   "source": [
    "## Regression $$\\mu\\{flowers|light, time\\}=\\beta_0+\\beta_1 light + \\beta_2 time$$\n",
    "\n",
    "This equation represents a plane in the coordinate system $\\mu$ , $light$ and $time$.\n",
    "\n",
    "## **Effects of explanatory varaibles.**\n",
    "The effect of an explanatory variable is the change in the mean response that is associated with a one-unit increase in that variable while holding all other explanatory variables fixed.\n",
    "\\begin{equation}\n",
    "\\begin{split}\n",
    "light\\_effect & = \\mu\\{flowers|light+1, time\\} - \\mu\\{flowers|light, time\\}\\\\\n",
    "& = [\\beta_0+\\beta_1 (light+1) + \\beta_2 time]-[\\beta_0+\\beta_1 light + \\beta_2 time]\\\\\n",
    "& = \\beta_1\n",
    "\\end{split}\n",
    "\\end{equation}\n",
    "\n",
    "The coefficient of one explanatory variable measures the effect of that variable at fixed values of the other."
   ]
  },
  {
   "cell_type": "markdown",
   "metadata": {
    "id": "HBA-E1kpWVHm",
    "slideshow": {
     "slide_type": "slide"
    }
   },
   "source": [
    "## **Meadowfoam Flowering case study example**"
   ]
  },
  {
   "cell_type": "code",
   "execution_count": null,
   "metadata": {
    "colab": {
     "base_uri": "https://localhost:8080/"
    },
    "id": "8NA8EQ7yQDV_",
    "outputId": "170fb245-920a-4749-a25d-42ef4737afff",
    "slideshow": {
     "slide_type": "slide"
    }
   },
   "outputs": [
    {
     "name": "stdout",
     "output_type": "stream",
     "text": [
      "                            OLS Regression Results                            \n",
      "==============================================================================\n",
      "Dep. Variable:                Flowers   R-squared:                       0.799\n",
      "Model:                            OLS   Adj. R-squared:                  0.780\n",
      "Method:                 Least Squares   F-statistic:                     41.78\n",
      "Date:                Mon, 20 Mar 2023   Prob (F-statistic):           4.79e-08\n",
      "Time:                        00:20:11   Log-Likelihood:                -77.157\n",
      "No. Observations:                  24   AIC:                             160.3\n",
      "Df Residuals:                      21   BIC:                             163.8\n",
      "Df Model:                           2                                         \n",
      "Covariance Type:            nonrobust                                         \n",
      "=====================================================================================\n",
      "                        coef    std err          t      P>|t|      [0.025      0.975]\n",
      "-------------------------------------------------------------------------------------\n",
      "Intercept            83.4642      3.274     25.495      0.000      76.656      90.272\n",
      "Treatment[T.Late]   -12.1583      2.630     -4.624      0.000     -17.627      -6.690\n",
      "Intensity            -0.0405      0.005     -7.886      0.000      -0.051      -0.030\n",
      "==============================================================================\n",
      "Omnibus:                        2.539   Durbin-Watson:                   2.935\n",
      "Prob(Omnibus):                  0.281   Jarque-Bera (JB):                1.306\n",
      "Skew:                           0.197   Prob(JB):                        0.520\n",
      "Kurtosis:                       1.928   Cond. No.                     1.59e+03\n",
      "==============================================================================\n",
      "\n",
      "Notes:\n",
      "[1] Standard Errors assume that the covariance matrix of the errors is correctly specified.\n",
      "[2] The condition number is large, 1.59e+03. This might indicate that there are\n",
      "strong multicollinearity or other numerical problems.\n"
     ]
    }
   ],
   "source": [
    "model = smf.ols(\"Flowers ~ Intensity + Treatment\", data = df)\n",
    "results = model.fit()\n",
    "print(results.summary())"
   ]
  },
  {
   "cell_type": "code",
   "execution_count": null,
   "metadata": {
    "colab": {
     "base_uri": "https://localhost:8080/"
    },
    "id": "IzmtCoHMR1B8",
    "outputId": "352cd9bb-af19-48d4-b4d8-8960977bafb8",
    "slideshow": {
     "slide_type": "slide"
    }
   },
   "outputs": [
    {
     "data": {
      "text/plain": [
       "ShapiroResult(statistic=0.9555885791778564, pvalue=0.35633233189582825)"
      ]
     },
     "execution_count": 38,
     "metadata": {},
     "output_type": "execute_result"
    }
   ],
   "source": [
    "shapiro(results.resid)"
   ]
  },
  {
   "cell_type": "markdown",
   "metadata": {
    "id": "xwdVDV8WQ90X",
    "slideshow": {
     "slide_type": "slide"
    }
   },
   "source": [
    "## Model: $$\\hat{\\mu}\\{flowers|light, late\\} = 83.46 - 0.04 light -12.16 late$$\n",
    "\n",
    "#### Increasing light intensity decreased the mean number of flowers per plant by an estimated 4.0 flowers per plant per 100\u0016mol/m2/sec (95% confidence interval from 3.0 to 5.1).\n",
    "\n",
    "#### Beginning the light treatments 24 days prior to PFI increased the mean numbers of flowers by an estimated 12.2 flowers per plant (95% confidence interval from 6.7 to 17.6).\n",
    "\n"
   ]
  },
  {
   "cell_type": "code",
   "execution_count": null,
   "metadata": {
    "colab": {
     "base_uri": "https://localhost:8080/",
     "height": 390
    },
    "id": "qNaMFOjbYrrz",
    "outputId": "4c5282b4-38a9-4dd9-b7f1-b54517ad1581",
    "slideshow": {
     "slide_type": "slide"
    }
   },
   "outputs": [
    {
     "data": {
      "image/png": "[encoded data removed]",
      "text/plain": [
       "<Figure size 864x432 with 1 Axes>"
      ]
     },
     "metadata": {},
     "output_type": "display_data"
    }
   ],
   "source": [
    "colors = [\"denim blue\", \"medium green\"]\n",
    "palette = sns.xkcd_palette(colors)\n",
    "\n",
    "\n",
    "fig, ax = plt.subplots(figsize=(12,6))\n",
    "sns.scatterplot(x='Intensity', y='Flowers', hue='Treatment', palette=palette, data=df, ax=ax)\n",
    "\n",
    "y_late = 83.46-0.04*np.array(df['Intensity'])-12.16\n",
    "\n",
    "y_early = 83.46-0.04*np.array(df['Intensity'])\n",
    "\n",
    "ax.plot(df['Intensity'], y_late)\n",
    "\n",
    "ax.plot(df['Intensity'], y_early, color = 'limegreen')\n",
    "\n",
    "plt.show()\n"
   ]
  },
  {
   "cell_type": "markdown",
   "metadata": {
    "id": "kVAIKj4f4MxB",
    "slideshow": {
     "slide_type": "slide"
    }
   },
   "source": [
    "## **Indicator (dummmy) variables**\n",
    "\n",
    "Multiple linear regression model incorporates indicator variables to represent  two/more levels of a categorical explanatory variable (ex: Onset of Treatment variable). \n",
    "\n",
    "Indicator variable approach also provides the same result as in the previous model."
   ]
  },
  {
   "cell_type": "code",
   "execution_count": 4,
   "metadata": {
    "colab": {
     "base_uri": "https://localhost:8080/",
     "height": 206
    },
    "id": "rj4Hzq-pKxeV",
    "outputId": "d158aab3-ff1a-4b88-f39d-f792efbe967f",
    "slideshow": {
     "slide_type": "slide"
    }
   },
   "outputs": [
    {
     "data": {
      "text/html": [
       "\n",
       "  <div id=\"df-76d4559c-4e24-4ba3-89eb-4b11cb1fa17b\">\n",
       "    <div class=\"colab-df-container\">\n",
       "      <div>\n",
       "<style scoped>\n",
       "    .dataframe tbody tr th:only-of-type {\n",
       "        vertical-align: middle;\n",
       "    }\n",
       "\n",
       "    .dataframe tbody tr th {\n",
       "        vertical-align: top;\n",
       "    }\n",
       "\n",
       "    .dataframe thead th {\n",
       "        text-align: right;\n",
       "    }\n",
       "</style>\n",
       "<table border=\"1\" class=\"dataframe\">\n",
       "  <thead>\n",
       "    <tr style=\"text-align: right;\">\n",
       "      <th></th>\n",
       "      <th>Flowers</th>\n",
       "      <th>Time</th>\n",
       "      <th>Intensity</th>\n",
       "      <th>Treatment_Early</th>\n",
       "      <th>Treatment_Late</th>\n",
       "    </tr>\n",
       "  </thead>\n",
       "  <tbody>\n",
       "    <tr>\n",
       "      <th>0</th>\n",
       "      <td>62.3</td>\n",
       "      <td>1</td>\n",
       "      <td>150</td>\n",
       "      <td>0</td>\n",
       "      <td>1</td>\n",
       "    </tr>\n",
       "    <tr>\n",
       "      <th>1</th>\n",
       "      <td>77.4</td>\n",
       "      <td>1</td>\n",
       "      <td>150</td>\n",
       "      <td>0</td>\n",
       "      <td>1</td>\n",
       "    </tr>\n",
       "    <tr>\n",
       "      <th>2</th>\n",
       "      <td>55.3</td>\n",
       "      <td>1</td>\n",
       "      <td>300</td>\n",
       "      <td>0</td>\n",
       "      <td>1</td>\n",
       "    </tr>\n",
       "    <tr>\n",
       "      <th>3</th>\n",
       "      <td>54.2</td>\n",
       "      <td>1</td>\n",
       "      <td>300</td>\n",
       "      <td>0</td>\n",
       "      <td>1</td>\n",
       "    </tr>\n",
       "    <tr>\n",
       "      <th>4</th>\n",
       "      <td>49.6</td>\n",
       "      <td>1</td>\n",
       "      <td>450</td>\n",
       "      <td>0</td>\n",
       "      <td>1</td>\n",
       "    </tr>\n",
       "  </tbody>\n",
       "</table>\n",
       "</div>\n",
       "      <button class=\"colab-df-convert\" onclick=\"convertToInteractive('df-76d4559c-4e24-4ba3-89eb-4b11cb1fa17b')\"\n",
       "              title=\"Convert this dataframe to an interactive table.\"\n",
       "              style=\"display:none;\">\n",
       "        \n",
       "  <svg xmlns=\"http://www.w3.org/2000/svg\" height=\"24px\"viewBox=\"0 0 24 24\"\n",
       "       width=\"24px\">\n",
       "    <path d=\"M0 0h24v24H0V0z\" fill=\"none\"/>\n",
       "    <path d=\"M18.56 5.44l.94 2.06.94-2.06 2.06-.94-2.06-.94-.94-2.06-.94 2.06-2.06.94zm-11 1L8.5 8.5l.94-2.06 2.06-.94-2.06-.94L8.5 2.5l-.94 2.06-2.06.94zm10 10l.94 2.06.94-2.06 2.06-.94-2.06-.94-.94-2.06-.94 2.06-2.06.94z\"/><path d=\"M17.41 7.96l-1.37-1.37c-.4-.4-.92-.59-1.43-.59-.52 0-1.04.2-1.43.59L10.3 9.45l-7.72 7.72c-.78.78-.78 2.05 0 2.83L4 21.41c.39.39.9.59 1.41.59.51 0 1.02-.2 1.41-.59l7.78-7.78 2.81-2.81c.8-.78.8-2.07 0-2.86zM5.41 20L4 18.59l7.72-7.72 1.47 1.35L5.41 20z\"/>\n",
       "  </svg>\n",
       "      </button>\n",
       "      \n",
       "  <style>\n",
       "    .colab-df-container {\n",
       "      display:flex;\n",
       "      flex-wrap:wrap;\n",
       "      gap: 12px;\n",
       "    }\n",
       "\n",
       "    .colab-df-convert {\n",
       "      background-color: #E8F0FE;\n",
       "      border: none;\n",
       "      border-radius: 50%;\n",
       "      cursor: pointer;\n",
       "      display: none;\n",
       "      fill: #1967D2;\n",
       "      height: 32px;\n",
       "      padding: 0 0 0 0;\n",
       "      width: 32px;\n",
       "    }\n",
       "\n",
       "    .colab-df-convert:hover {\n",
       "      background-color: #E2EBFA;\n",
       "      box-shadow: 0px 1px 2px rgba(60, 64, 67, 0.3), 0px 1px 3px 1px rgba(60, 64, 67, 0.15);\n",
       "      fill: #174EA6;\n",
       "    }\n",
       "\n",
       "    [theme=dark] .colab-df-convert {\n",
       "      background-color: #3B4455;\n",
       "      fill: #D2E3FC;\n",
       "    }\n",
       "\n",
       "    [theme=dark] .colab-df-convert:hover {\n",
       "      background-color: #434B5C;\n",
       "      box-shadow: 0px 1px 3px 1px rgba(0, 0, 0, 0.15);\n",
       "      filter: drop-shadow(0px 1px 2px rgba(0, 0, 0, 0.3));\n",
       "      fill: #FFFFFF;\n",
       "    }\n",
       "  </style>\n",
       "\n",
       "      <script>\n",
       "        const buttonEl =\n",
       "          document.querySelector('#df-76d4559c-4e24-4ba3-89eb-4b11cb1fa17b button.colab-df-convert');\n",
       "        buttonEl.style.display =\n",
       "          google.colab.kernel.accessAllowed ? 'block' : 'none';\n",
       "\n",
       "        async function convertToInteractive(key) {\n",
       "          const element = document.querySelector('#df-76d4559c-4e24-4ba3-89eb-4b11cb1fa17b');\n",
       "          const dataTable =\n",
       "            await google.colab.kernel.invokeFunction('convertToInteractive',\n",
       "                                                     [key], {});\n",
       "          if (!dataTable) return;\n",
       "\n",
       "          const docLinkHtml = 'Like what you see? Visit the ' +\n",
       "            '<a target=\"_blank\" href=https://colab.research.google.com/notebooks/data_table.ipynb>data table notebook</a>'\n",
       "            + ' to learn more about interactive tables.';\n",
       "          element.innerHTML = '';\n",
       "          dataTable['output_type'] = 'display_data';\n",
       "          await google.colab.output.renderOutput(dataTable, element);\n",
       "          const docLink = document.createElement('div');\n",
       "          docLink.innerHTML = docLinkHtml;\n",
       "          element.appendChild(docLink);\n",
       "        }\n",
       "      </script>\n",
       "    </div>\n",
       "  </div>\n",
       "  "
      ],
      "text/plain": [
       "   Flowers  Time  Intensity  Treatment_Early  Treatment_Late\n",
       "0     62.3     1        150                0               1\n",
       "1     77.4     1        150                0               1\n",
       "2     55.3     1        300                0               1\n",
       "3     54.2     1        300                0               1\n",
       "4     49.6     1        450                0               1"
      ]
     },
     "execution_count": 4,
     "metadata": {},
     "output_type": "execute_result"
    }
   ],
   "source": [
    "df = pd.get_dummies(df, columns=['Treatment'])\n",
    "df.head()"
   ]
  },
  {
   "cell_type": "code",
   "execution_count": null,
   "metadata": {
    "colab": {
     "base_uri": "https://localhost:8080/"
    },
    "id": "hvtZJ4weX_-1",
    "outputId": "baee44a5-d396-49cc-8bee-f44e32cad4e3",
    "slideshow": {
     "slide_type": "slide"
    }
   },
   "outputs": [
    {
     "name": "stdout",
     "output_type": "stream",
     "text": [
      "                            OLS Regression Results                            \n",
      "==============================================================================\n",
      "Dep. Variable:                Flowers   R-squared:                       0.799\n",
      "Model:                            OLS   Adj. R-squared:                  0.780\n",
      "Method:                 Least Squares   F-statistic:                     41.78\n",
      "Date:                Mon, 20 Mar 2023   Prob (F-statistic):           4.79e-08\n",
      "Time:                        00:17:13   Log-Likelihood:                -77.157\n",
      "No. Observations:                  24   AIC:                             160.3\n",
      "Df Residuals:                      21   BIC:                             163.8\n",
      "Df Model:                           2                                         \n",
      "Covariance Type:            nonrobust                                         \n",
      "==================================================================================\n",
      "                     coef    std err          t      P>|t|      [0.025      0.975]\n",
      "----------------------------------------------------------------------------------\n",
      "Intercept         83.4642      3.274     25.495      0.000      76.656      90.272\n",
      "Intensity         -0.0405      0.005     -7.886      0.000      -0.051      -0.030\n",
      "Treatment_Late   -12.1583      2.630     -4.624      0.000     -17.627      -6.690\n",
      "==============================================================================\n",
      "Omnibus:                        2.539   Durbin-Watson:                   2.935\n",
      "Prob(Omnibus):                  0.281   Jarque-Bera (JB):                1.306\n",
      "Skew:                           0.197   Prob(JB):                        0.520\n",
      "Kurtosis:                       1.928   Cond. No.                     1.59e+03\n",
      "==============================================================================\n",
      "\n",
      "Notes:\n",
      "[1] Standard Errors assume that the covariance matrix of the errors is correctly specified.\n",
      "[2] The condition number is large, 1.59e+03. This might indicate that there are\n",
      "strong multicollinearity or other numerical problems.\n"
     ]
    }
   ],
   "source": [
    "model = smf.ols(\"Flowers ~ Intensity + Treatment_Late\", data = df)\n",
    "results = model.fit()\n",
    "print(results.summary())"
   ]
  },
  {
   "cell_type": "markdown",
   "metadata": {
    "id": "DNHDPWnA4M0W",
    "slideshow": {
     "slide_type": "slide"
    }
   },
   "source": [
    "## **Product term for Interaction**\n",
    "\n",
    "Two explanatory variables are said to interact if the effect that one of them has on the mean response depends on the value of the other.\n",
    "\n",
    "Ex: Does the effect of light intensity on mean number of flowers depend on the timing of the light regime (early or late)?\n",
    "\n",
    "$$ \\mu\\{flowers|light, late\\} = \\beta_0 + \\beta_1 light + \\beta_2 late + \\beta_3 (light*late)$$\n",
    "\n",
    "This also can be written as\n",
    "\n",
    "$$ \\mu\\{flowers|light, late\\} = \\beta_0 + \\beta_2 late + (\\beta_1 + \\beta_3 late) light$$\n",
    "\n",
    "In this model: Light intensity effect = $\\beta_1+\\beta_3 late$ (i.e. light effect depends on treatment)\n",
    "            \n",
    "Treatment (late) effect := $\\beta_2 + \\beta_3 light$ (i.e. treatment effect depends on light intensity)\n",
    "\n",
    "It is often difficult to interpret individual coeffcients in an interaction model. If it is only necessary to test whether interaction is present, no lengthy interpretation is needed.\n"
   ]
  },
  {
   "cell_type": "markdown",
   "metadata": {
    "id": "91Aw4-4-4M2o",
    "slideshow": {
     "slide_type": "slide"
    }
   },
   "source": [
    "## **Do individual terms come with Product terms or not?**\n",
    "\n",
    "Except in special circumstances, a model including a product term for interaction between two explanatory variables **should** also include terms with each of the explanatory variables individually, even though their coefficients may not be significantly different from zero. \n",
    "\n",
    "\n",
    "Following this rule avoids the logical inconsistency of saying that the effect of X1 depends on the level of X2 but that there is no effect of X1."
   ]
  },
  {
   "cell_type": "code",
   "execution_count": 7,
   "metadata": {
    "colab": {
     "base_uri": "https://localhost:8080/",
     "height": 206
    },
    "id": "Sd9GkjBp14S2",
    "outputId": "3e7d6e94-5fc7-42cf-a480-633790459196",
    "slideshow": {
     "slide_type": "slide"
    }
   },
   "outputs": [
    {
     "data": {
      "text/html": [
       "\n",
       "  <div id=\"df-92b6a26e-6b3a-4916-9ca5-347f8f2f6967\">\n",
       "    <div class=\"colab-df-container\">\n",
       "      <div>\n",
       "<style scoped>\n",
       "    .dataframe tbody tr th:only-of-type {\n",
       "        vertical-align: middle;\n",
       "    }\n",
       "\n",
       "    .dataframe tbody tr th {\n",
       "        vertical-align: top;\n",
       "    }\n",
       "\n",
       "    .dataframe thead th {\n",
       "        text-align: right;\n",
       "    }\n",
       "</style>\n",
       "<table border=\"1\" class=\"dataframe\">\n",
       "  <thead>\n",
       "    <tr style=\"text-align: right;\">\n",
       "      <th></th>\n",
       "      <th>Flowers</th>\n",
       "      <th>Time</th>\n",
       "      <th>Intensity</th>\n",
       "      <th>Treatment_Early</th>\n",
       "      <th>Treatment_Late</th>\n",
       "      <th>light_late</th>\n",
       "    </tr>\n",
       "  </thead>\n",
       "  <tbody>\n",
       "    <tr>\n",
       "      <th>0</th>\n",
       "      <td>62.3</td>\n",
       "      <td>1</td>\n",
       "      <td>150</td>\n",
       "      <td>0</td>\n",
       "      <td>1</td>\n",
       "      <td>150</td>\n",
       "    </tr>\n",
       "    <tr>\n",
       "      <th>1</th>\n",
       "      <td>77.4</td>\n",
       "      <td>1</td>\n",
       "      <td>150</td>\n",
       "      <td>0</td>\n",
       "      <td>1</td>\n",
       "      <td>150</td>\n",
       "    </tr>\n",
       "    <tr>\n",
       "      <th>2</th>\n",
       "      <td>55.3</td>\n",
       "      <td>1</td>\n",
       "      <td>300</td>\n",
       "      <td>0</td>\n",
       "      <td>1</td>\n",
       "      <td>300</td>\n",
       "    </tr>\n",
       "    <tr>\n",
       "      <th>3</th>\n",
       "      <td>54.2</td>\n",
       "      <td>1</td>\n",
       "      <td>300</td>\n",
       "      <td>0</td>\n",
       "      <td>1</td>\n",
       "      <td>300</td>\n",
       "    </tr>\n",
       "    <tr>\n",
       "      <th>4</th>\n",
       "      <td>49.6</td>\n",
       "      <td>1</td>\n",
       "      <td>450</td>\n",
       "      <td>0</td>\n",
       "      <td>1</td>\n",
       "      <td>450</td>\n",
       "    </tr>\n",
       "  </tbody>\n",
       "</table>\n",
       "</div>\n",
       "      <button class=\"colab-df-convert\" onclick=\"convertToInteractive('df-92b6a26e-6b3a-4916-9ca5-347f8f2f6967')\"\n",
       "              title=\"Convert this dataframe to an interactive table.\"\n",
       "              style=\"display:none;\">\n",
       "        \n",
       "  <svg xmlns=\"http://www.w3.org/2000/svg\" height=\"24px\"viewBox=\"0 0 24 24\"\n",
       "       width=\"24px\">\n",
       "    <path d=\"M0 0h24v24H0V0z\" fill=\"none\"/>\n",
       "    <path d=\"M18.56 5.44l.94 2.06.94-2.06 2.06-.94-2.06-.94-.94-2.06-.94 2.06-2.06.94zm-11 1L8.5 8.5l.94-2.06 2.06-.94-2.06-.94L8.5 2.5l-.94 2.06-2.06.94zm10 10l.94 2.06.94-2.06 2.06-.94-2.06-.94-.94-2.06-.94 2.06-2.06.94z\"/><path d=\"M17.41 7.96l-1.37-1.37c-.4-.4-.92-.59-1.43-.59-.52 0-1.04.2-1.43.59L10.3 9.45l-7.72 7.72c-.78.78-.78 2.05 0 2.83L4 21.41c.39.39.9.59 1.41.59.51 0 1.02-.2 1.41-.59l7.78-7.78 2.81-2.81c.8-.78.8-2.07 0-2.86zM5.41 20L4 18.59l7.72-7.72 1.47 1.35L5.41 20z\"/>\n",
       "  </svg>\n",
       "      </button>\n",
       "      \n",
       "  <style>\n",
       "    .colab-df-container {\n",
       "      display:flex;\n",
       "      flex-wrap:wrap;\n",
       "      gap: 12px;\n",
       "    }\n",
       "\n",
       "    .colab-df-convert {\n",
       "      background-color: #E8F0FE;\n",
       "      border: none;\n",
       "      border-radius: 50%;\n",
       "      cursor: pointer;\n",
       "      display: none;\n",
       "      fill: #1967D2;\n",
       "      height: 32px;\n",
       "      padding: 0 0 0 0;\n",
       "      width: 32px;\n",
       "    }\n",
       "\n",
       "    .colab-df-convert:hover {\n",
       "      background-color: #E2EBFA;\n",
       "      box-shadow: 0px 1px 2px rgba(60, 64, 67, 0.3), 0px 1px 3px 1px rgba(60, 64, 67, 0.15);\n",
       "      fill: #174EA6;\n",
       "    }\n",
       "\n",
       "    [theme=dark] .colab-df-convert {\n",
       "      background-color: #3B4455;\n",
       "      fill: #D2E3FC;\n",
       "    }\n",
       "\n",
       "    [theme=dark] .colab-df-convert:hover {\n",
       "      background-color: #434B5C;\n",
       "      box-shadow: 0px 1px 3px 1px rgba(0, 0, 0, 0.15);\n",
       "      filter: drop-shadow(0px 1px 2px rgba(0, 0, 0, 0.3));\n",
       "      fill: #FFFFFF;\n",
       "    }\n",
       "  </style>\n",
       "\n",
       "      <script>\n",
       "        const buttonEl =\n",
       "          document.querySelector('#df-92b6a26e-6b3a-4916-9ca5-347f8f2f6967 button.colab-df-convert');\n",
       "        buttonEl.style.display =\n",
       "          google.colab.kernel.accessAllowed ? 'block' : 'none';\n",
       "\n",
       "        async function convertToInteractive(key) {\n",
       "          const element = document.querySelector('#df-92b6a26e-6b3a-4916-9ca5-347f8f2f6967');\n",
       "          const dataTable =\n",
       "            await google.colab.kernel.invokeFunction('convertToInteractive',\n",
       "                                                     [key], {});\n",
       "          if (!dataTable) return;\n",
       "\n",
       "          const docLinkHtml = 'Like what you see? Visit the ' +\n",
       "            '<a target=\"_blank\" href=https://colab.research.google.com/notebooks/data_table.ipynb>data table notebook</a>'\n",
       "            + ' to learn more about interactive tables.';\n",
       "          element.innerHTML = '';\n",
       "          dataTable['output_type'] = 'display_data';\n",
       "          await google.colab.output.renderOutput(dataTable, element);\n",
       "          const docLink = document.createElement('div');\n",
       "          docLink.innerHTML = docLinkHtml;\n",
       "          element.appendChild(docLink);\n",
       "        }\n",
       "      </script>\n",
       "    </div>\n",
       "  </div>\n",
       "  "
      ],
      "text/plain": [
       "   Flowers  Time  Intensity  Treatment_Early  Treatment_Late  light_late\n",
       "0     62.3     1        150                0               1         150\n",
       "1     77.4     1        150                0               1         150\n",
       "2     55.3     1        300                0               1         300\n",
       "3     54.2     1        300                0               1         300\n",
       "4     49.6     1        450                0               1         450"
      ]
     },
     "execution_count": 7,
     "metadata": {},
     "output_type": "execute_result"
    }
   ],
   "source": [
    "df['light_late'] = df['Intensity']*df['Treatment_Late']\n",
    "df.head()"
   ]
  },
  {
   "cell_type": "code",
   "execution_count": 8,
   "metadata": {
    "colab": {
     "base_uri": "https://localhost:8080/"
    },
    "id": "0va4Ot_tebKO",
    "outputId": "0bcb54f8-027d-47bc-c307-ea1fef4cb6f5",
    "slideshow": {
     "slide_type": "slide"
    }
   },
   "outputs": [
    {
     "name": "stdout",
     "output_type": "stream",
     "text": [
      "                            OLS Regression Results                            \n",
      "==============================================================================\n",
      "Dep. Variable:                Flowers   R-squared:                       0.799\n",
      "Model:                            OLS   Adj. R-squared:                  0.769\n",
      "Method:                 Least Squares   F-statistic:                     26.55\n",
      "Date:                Mon, 20 Mar 2023   Prob (F-statistic):           3.55e-07\n",
      "Time:                        14:52:08   Log-Likelihood:                -77.149\n",
      "No. Observations:                  24   AIC:                             162.3\n",
      "Df Residuals:                      20   BIC:                             167.0\n",
      "Df Model:                           3                                         \n",
      "Covariance Type:            nonrobust                                         \n",
      "==================================================================================\n",
      "                     coef    std err          t      P>|t|      [0.025      0.975]\n",
      "----------------------------------------------------------------------------------\n",
      "Intercept         83.1467      4.343     19.144      0.000      74.087      92.207\n",
      "Intensity         -0.0399      0.007     -5.362      0.000      -0.055      -0.024\n",
      "Treatment_Late   -11.5233      6.142     -1.876      0.075     -24.336       1.289\n",
      "light_late        -0.0012      0.011     -0.115      0.910      -0.023       0.021\n",
      "==============================================================================\n",
      "Omnibus:                        3.028   Durbin-Watson:                   2.927\n",
      "Prob(Omnibus):                  0.220   Jarque-Bera (JB):                1.394\n",
      "Skew:                           0.181   Prob(JB):                        0.498\n",
      "Kurtosis:                       1.876   Cond. No.                     3.49e+03\n",
      "==============================================================================\n",
      "\n",
      "Notes:\n",
      "[1] Standard Errors assume that the covariance matrix of the errors is correctly specified.\n",
      "[2] The condition number is large, 3.49e+03. This might indicate that there are\n",
      "strong multicollinearity or other numerical problems.\n"
     ]
    }
   ],
   "source": [
    "model = smf.ols(\"Flowers ~ Intensity + Treatment_Late + light_late\", data = df)\n",
    "results = model.fit()\n",
    "print(results.summary())"
   ]
  },
  {
   "cell_type": "markdown",
   "metadata": {
    "id": "XEkXYXThgl4j",
    "slideshow": {
     "slide_type": "slide"
    }
   },
   "source": [
    "We can include an interaction term directly via OLS method without creating a new column. \n",
    "\n",
    "```\n",
    "smf.ols(\"Flowers ~ Intensity + Treatment_Late + Intensity*Treatment_Late\", data = df)\n",
    "```\n",
    "\n"
   ]
  },
  {
   "cell_type": "code",
   "execution_count": 24,
   "metadata": {
    "colab": {
     "base_uri": "https://localhost:8080/"
    },
    "id": "gC1Sto_KgZYy",
    "outputId": "3ce8231b-f566-4f0a-d804-d2ff6e2316cd",
    "slideshow": {
     "slide_type": "slide"
    }
   },
   "outputs": [
    {
     "name": "stdout",
     "output_type": "stream",
     "text": [
      "                            OLS Regression Results                            \n",
      "==============================================================================\n",
      "Dep. Variable:                Flowers   R-squared:                       0.799\n",
      "Model:                            OLS   Adj. R-squared:                  0.769\n",
      "Method:                 Least Squares   F-statistic:                     26.55\n",
      "Date:                Mon, 20 Mar 2023   Prob (F-statistic):           3.55e-07\n",
      "Time:                        17:27:07   Log-Likelihood:                -77.149\n",
      "No. Observations:                  24   AIC:                             162.3\n",
      "Df Residuals:                      20   BIC:                             167.0\n",
      "Df Model:                           3                                         \n",
      "Covariance Type:            nonrobust                                         \n",
      "============================================================================================\n",
      "                               coef    std err          t      P>|t|      [0.025      0.975]\n",
      "--------------------------------------------------------------------------------------------\n",
      "Intercept                   83.1467      4.343     19.144      0.000      74.087      92.207\n",
      "Intensity                   -0.0399      0.007     -5.362      0.000      -0.055      -0.024\n",
      "Treatment_Late             -11.5233      6.142     -1.876      0.075     -24.336       1.289\n",
      "Intensity:Treatment_Late    -0.0012      0.011     -0.115      0.910      -0.023       0.021\n",
      "==============================================================================\n",
      "Omnibus:                        3.028   Durbin-Watson:                   2.927\n",
      "Prob(Omnibus):                  0.220   Jarque-Bera (JB):                1.394\n",
      "Skew:                           0.181   Prob(JB):                        0.498\n",
      "Kurtosis:                       1.876   Cond. No.                     3.49e+03\n",
      "==============================================================================\n",
      "\n",
      "Notes:\n",
      "[1] Standard Errors assume that the covariance matrix of the errors is correctly specified.\n",
      "[2] The condition number is large, 3.49e+03. This might indicate that there are\n",
      "strong multicollinearity or other numerical problems.\n"
     ]
    }
   ],
   "source": [
    "model = smf.ols(\"Flowers ~ Intensity + Treatment_Late + Intensity*Treatment_Late\", data = df)\n",
    "results = model.fit()\n",
    "print(results.summary())"
   ]
  },
  {
   "cell_type": "markdown",
   "metadata": {
    "id": "xt4qCtoihj1f",
    "slideshow": {
     "slide_type": "slide"
    }
   },
   "source": [
    "###   No evidence that the effect of light intensity depends on the timing of its initiation (two-sided p-value = 0.91, from a t-test for interaction, 20 degrees of freedom).\n"
   ]
  },
  {
   "cell_type": "code",
   "execution_count": 22,
   "metadata": {
    "colab": {
     "base_uri": "https://localhost:8080/",
     "height": 350
    },
    "id": "2cnoPI9jggCM",
    "outputId": "c77429b8-27d2-40f2-9b38-ec10b7205d41",
    "slideshow": {
     "slide_type": "slide"
    }
   },
   "outputs": [
    {
     "data": {
      "image/png": "[encoded data removed]",
      "text/plain": [
       "<Figure size 720x360 with 1 Axes>"
      ]
     },
     "metadata": {},
     "output_type": "display_data"
    }
   ],
   "source": [
    "plt.figure(figsize=(10,5))\n",
    "\n",
    "# fitted values (predicted values)\n",
    "model_fitted_y = results.fittedvalues\n",
    "\n",
    "#  Plot\n",
    "plot = sns.residplot(x=model_fitted_y, y='Flowers', data=df, lowess=True, \n",
    "                     scatter_kws={'alpha': 0.7}, \n",
    "                     line_kws={'color': 'red', 'lw': 1, 'alpha': 0.8})\n",
    "\n",
    "# Titel and labels\n",
    "plot.set_title('Residuals vs Fitted')\n",
    "plot.set_xlabel('Fitted values')\n",
    "plot.set_ylabel('Residuals');"
   ]
  },
  {
   "cell_type": "code",
   "execution_count": 11,
   "metadata": {
    "colab": {
     "base_uri": "https://localhost:8080/"
    },
    "id": "9_9hUuFZhMs1",
    "outputId": "e6f611e1-c5a9-4e17-90ca-45c8fab4e6c8",
    "slideshow": {
     "slide_type": "slide"
    }
   },
   "outputs": [
    {
     "data": {
      "text/plain": [
       "ShapiroResult(statistic=0.9534139633178711, pvalue=0.32069694995880127)"
      ]
     },
     "execution_count": 11,
     "metadata": {},
     "output_type": "execute_result"
    }
   ],
   "source": [
    "shapiro(results.resid)"
   ]
  },
  {
   "cell_type": "markdown",
   "metadata": {
    "id": "vhByp8TswYpE",
    "slideshow": {
     "slide_type": "slide"
    }
   },
   "source": [
    "## Case Study: Why Do Some Mammals Have Large Brains for Their Size?—An Observational Study\n",
    "\n",
    "### Determine exactly what characteritics are associated with brain size (after removing body size variable)."
   ]
  },
  {
   "cell_type": "markdown",
   "metadata": {
    "id": "vj-VKlEU4Ms2",
    "slideshow": {
     "slide_type": "slide"
    }
   },
   "source": [
    "# **Interpretation Depends on What Other X’s Are Included**\n",
    "\n",
    "$$ \\mu\\{brain, gestation\\} = \\beta_0+\\beta_1 gestation $$\n",
    "\n",
    "$$ \\mu\\{brain, gestation\\} = \\beta_0+\\beta_1 gestation + \\beta_2 body $$\n",
    "\n",
    "First equation: $\\beta_1$:= rate of change in mean brain weight with changes in gestation length in the **population of all mammal species**.\n",
    "\n",
    "Second equation: $\\beta_1$:= rate of change in mean brain weight with changes in gestation length **within subpopulations of fixed body size**."
   ]
  },
  {
   "cell_type": "code",
   "execution_count": 9,
   "metadata": {
    "colab": {
     "base_uri": "https://localhost:8080/",
     "height": 206
    },
    "id": "CdTqJBvYJD_O",
    "outputId": "62efff8e-b948-4a87-bf6a-b90342de8ce1",
    "slideshow": {
     "slide_type": "slide"
    }
   },
   "outputs": [
    {
     "data": {
      "text/html": [
       "<div>\n",
       "<style scoped>\n",
       "    .dataframe tbody tr th:only-of-type {\n",
       "        vertical-align: middle;\n",
       "    }\n",
       "\n",
       "    .dataframe tbody tr th {\n",
       "        vertical-align: top;\n",
       "    }\n",
       "\n",
       "    .dataframe thead th {\n",
       "        text-align: right;\n",
       "    }\n",
       "</style>\n",
       "<table border=\"1\" class=\"dataframe\">\n",
       "  <thead>\n",
       "    <tr style=\"text-align: right;\">\n",
       "      <th></th>\n",
       "      <th>Species</th>\n",
       "      <th>Brain</th>\n",
       "      <th>Body</th>\n",
       "      <th>Gestation</th>\n",
       "      <th>Litter</th>\n",
       "    </tr>\n",
       "  </thead>\n",
       "  <tbody>\n",
       "    <tr>\n",
       "      <th>0</th>\n",
       "      <td>Aardvark</td>\n",
       "      <td>9.6</td>\n",
       "      <td>2.20</td>\n",
       "      <td>31</td>\n",
       "      <td>5.0</td>\n",
       "    </tr>\n",
       "    <tr>\n",
       "      <th>1</th>\n",
       "      <td>Acouchis</td>\n",
       "      <td>9.9</td>\n",
       "      <td>0.78</td>\n",
       "      <td>98</td>\n",
       "      <td>1.2</td>\n",
       "    </tr>\n",
       "    <tr>\n",
       "      <th>2</th>\n",
       "      <td>African elephant</td>\n",
       "      <td>4480.0</td>\n",
       "      <td>2800.00</td>\n",
       "      <td>655</td>\n",
       "      <td>1.0</td>\n",
       "    </tr>\n",
       "    <tr>\n",
       "      <th>3</th>\n",
       "      <td>Agoutis</td>\n",
       "      <td>20.3</td>\n",
       "      <td>2.80</td>\n",
       "      <td>104</td>\n",
       "      <td>1.3</td>\n",
       "    </tr>\n",
       "    <tr>\n",
       "      <th>4</th>\n",
       "      <td>Axis deer</td>\n",
       "      <td>219.0</td>\n",
       "      <td>89.00</td>\n",
       "      <td>218</td>\n",
       "      <td>1.0</td>\n",
       "    </tr>\n",
       "  </tbody>\n",
       "</table>\n",
       "</div>"
      ],
      "text/plain": [
       "            Species   Brain     Body  Gestation  Litter\n",
       "0          Aardvark     9.6     2.20         31     5.0\n",
       "1          Acouchis     9.9     0.78         98     1.2\n",
       "2  African elephant  4480.0  2800.00        655     1.0\n",
       "3           Agoutis    20.3     2.80        104     1.3\n",
       "4         Axis deer   219.0    89.00        218     1.0"
      ]
     },
     "execution_count": 9,
     "metadata": {},
     "output_type": "execute_result"
    }
   ],
   "source": [
    "path = 'sleuth3csv/case0902.csv'\n",
    "df = pd.read_csv(path)\n",
    "df.head()"
   ]
  },
  {
   "cell_type": "code",
   "execution_count": 10,
   "metadata": {
    "colab": {
     "base_uri": "https://localhost:8080/",
     "height": 726
    },
    "id": "A5J4-xIDbCl6",
    "outputId": "1c621222-f8eb-4ff9-a069-34c4a981d0b8",
    "slideshow": {
     "slide_type": "slide"
    }
   },
   "outputs": [
    {
     "data": {
      "image/png": "[encoded data removed]",
      "text/plain": [
       "<Figure size 1000x1000 with 20 Axes>"
      ]
     },
     "metadata": {},
     "output_type": "display_data"
    }
   ],
   "source": [
    "sns.pairplot(df)\n",
    "plt.show()"
   ]
  },
  {
   "cell_type": "markdown",
   "metadata": {
    "id": "30hBnXnfnn4u",
    "slideshow": {
     "slide_type": "slide"
    }
   },
   "source": [
    "The scatterplot of brain weight versus body weight is not very helpful since most of the data points are clustered on top of each other in the bottom left-hand corner. So we obtain another scatter plot with log transformed data."
   ]
  },
  {
   "cell_type": "code",
   "execution_count": 33,
   "metadata": {
    "colab": {
     "base_uri": "https://localhost:8080/",
     "height": 726
    },
    "id": "XgMFtUnagMvf",
    "outputId": "6a0a252c-0ae8-478f-ab34-3fd4a1f3e855",
    "slideshow": {
     "slide_type": "slide"
    }
   },
   "outputs": [
    {
     "data": {
      "image/png": "[encoded data removed]",
      "text/plain": [
       "<Figure size 720x720 with 16 Axes>"
      ]
     },
     "metadata": {},
     "output_type": "display_data"
    }
   ],
   "source": [
    "xylim_map = {0: [0.5, 5000], 1: [0.1, 3000], 2: [10, 700], 3: [0.8, 10]}\n",
    "g = sns.PairGrid(df)\n",
    "g.map(sns.scatterplot)\n",
    "for ridx, row in enumerate(g.axes):\n",
    "    ymin, ymax = xylim_map[ridx]\n",
    "    for cidx, ax in enumerate(row):\n",
    "        xmin, xmax = xylim_map[cidx]\n",
    "        ax.set(xscale='log', yscale='log')\n",
    "        ax.set_ylim(bottom=ymin, top=ymax)\n",
    "        ax.set_xlim(left=xmin, right=xmax)"
   ]
  },
  {
   "cell_type": "code",
   "execution_count": 11,
   "metadata": {
    "colab": {
     "base_uri": "https://localhost:8080/",
     "height": 206
    },
    "id": "9hvT5_b6j1j1",
    "outputId": "7a5bd7f8-ca19-4dc4-fa47-227d04e0defb",
    "slideshow": {
     "slide_type": "slide"
    }
   },
   "outputs": [
    {
     "data": {
      "text/html": [
       "<div>\n",
       "<style scoped>\n",
       "    .dataframe tbody tr th:only-of-type {\n",
       "        vertical-align: middle;\n",
       "    }\n",
       "\n",
       "    .dataframe tbody tr th {\n",
       "        vertical-align: top;\n",
       "    }\n",
       "\n",
       "    .dataframe thead th {\n",
       "        text-align: right;\n",
       "    }\n",
       "</style>\n",
       "<table border=\"1\" class=\"dataframe\">\n",
       "  <thead>\n",
       "    <tr style=\"text-align: right;\">\n",
       "      <th></th>\n",
       "      <th>Species</th>\n",
       "      <th>Brain</th>\n",
       "      <th>Body</th>\n",
       "      <th>Gestation</th>\n",
       "      <th>Litter</th>\n",
       "      <th>body_class</th>\n",
       "    </tr>\n",
       "  </thead>\n",
       "  <tbody>\n",
       "    <tr>\n",
       "      <th>0</th>\n",
       "      <td>Aardvark</td>\n",
       "      <td>9.6</td>\n",
       "      <td>2.20</td>\n",
       "      <td>31</td>\n",
       "      <td>5.0</td>\n",
       "      <td>2-9 kg</td>\n",
       "    </tr>\n",
       "    <tr>\n",
       "      <th>1</th>\n",
       "      <td>Acouchis</td>\n",
       "      <td>9.9</td>\n",
       "      <td>0.78</td>\n",
       "      <td>98</td>\n",
       "      <td>1.2</td>\n",
       "      <td>0-2 kg</td>\n",
       "    </tr>\n",
       "    <tr>\n",
       "      <th>2</th>\n",
       "      <td>African elephant</td>\n",
       "      <td>4480.0</td>\n",
       "      <td>2800.00</td>\n",
       "      <td>655</td>\n",
       "      <td>1.0</td>\n",
       "      <td>100-10000 kg</td>\n",
       "    </tr>\n",
       "    <tr>\n",
       "      <th>3</th>\n",
       "      <td>Agoutis</td>\n",
       "      <td>20.3</td>\n",
       "      <td>2.80</td>\n",
       "      <td>104</td>\n",
       "      <td>1.3</td>\n",
       "      <td>2-9 kg</td>\n",
       "    </tr>\n",
       "    <tr>\n",
       "      <th>4</th>\n",
       "      <td>Axis deer</td>\n",
       "      <td>219.0</td>\n",
       "      <td>89.00</td>\n",
       "      <td>218</td>\n",
       "      <td>1.0</td>\n",
       "      <td>9-100 kg</td>\n",
       "    </tr>\n",
       "  </tbody>\n",
       "</table>\n",
       "</div>"
      ],
      "text/plain": [
       "            Species   Brain     Body  Gestation  Litter    body_class\n",
       "0          Aardvark     9.6     2.20         31     5.0        2-9 kg\n",
       "1          Acouchis     9.9     0.78         98     1.2        0-2 kg\n",
       "2  African elephant  4480.0  2800.00        655     1.0  100-10000 kg\n",
       "3           Agoutis    20.3     2.80        104     1.3        2-9 kg\n",
       "4         Axis deer   219.0    89.00        218     1.0      9-100 kg"
      ]
     },
     "execution_count": 11,
     "metadata": {},
     "output_type": "execute_result"
    }
   ],
   "source": [
    "def bins(value):\n",
    "    if value <=2:\n",
    "        return \"0-2 kg\"\n",
    "    if 2 < value <= 9:\n",
    "        return \"2-9 kg\"\n",
    "    if 9 < value <= 100:\n",
    "        return \"9-100 kg\"\n",
    "    else:\n",
    "        return \"100-10000 kg\"\n",
    "\n",
    "\n",
    "df[\"body_class\"] = df['Body'].apply(bins)\n",
    "\n",
    "df.head()\n"
   ]
  },
  {
   "cell_type": "code",
   "execution_count": 12,
   "metadata": {
    "id": "YRyQtvWQrs-u",
    "slideshow": {
     "slide_type": "slide"
    }
   },
   "outputs": [],
   "source": [
    "df[\"log_brain\"] = np.log(df['Brain'])\n",
    "df[\"log_gestation\"] = np.log(df['Gestation'])"
   ]
  },
  {
   "cell_type": "code",
   "execution_count": 6,
   "metadata": {
    "id": "aAQoNWvAqNXU",
    "slideshow": {
     "slide_type": "slide"
    }
   },
   "outputs": [],
   "source": [
    "custom_dict = {\"0-2 kg\": 0, \"2-9 kg\": 1, \"9-100 kg\": 2, \"100-10000 kg\": 3 } \n",
    "\n",
    "df.sort_values(by = \"body_class\", inplace=True, ascending=False, key=lambda x: x.map(custom_dict))"
   ]
  },
  {
   "cell_type": "code",
   "execution_count": 17,
   "metadata": {
    "colab": {
     "base_uri": "https://localhost:8080/",
     "height": 817
    },
    "id": "sXQv5u4DnSUI",
    "outputId": "677deb50-06da-406e-a0a2-8a2aa01837d7",
    "slideshow": {
     "slide_type": "slide"
    }
   },
   "outputs": [
    {
     "data": {
      "application/vnd.plotly.v1+json": {
       "config": {
        "plotlyServerURL": "https://plot.ly"
       },
       "data": [
        {
         "hovertemplate": "body_class=2-9 kg<br>log_gestation=%{x}<br>log_brain=%{y}<extra></extra>",
         "legendgroup": "",
         "marker": {
          "color": "#636efa",
          "symbol": "circle"
         },
         "mode": "markers",
         "name": "",
         "orientation": "v",
         "showlegend": false,
         "type": "scatter",
         "x": [
          3.4339872044851463,
          4.6443908991413725,
          4.0943445622221,
          4.174387269895637,
          4.143134726391533,
          4.143134726391533,
          4.143134726391533,
          4.9344739331306915,
          5.41610040220442,
          3.713572066704308,
          5.123963979403259,
          4.90527477843843,
          4.787491742782046,
          4.882801922586371,
          4.727387818712341,
          3.258096538021482,
          4.143134726391533,
          3.9512437185814275,
          5.1647859739235145,
          5.10594547390058,
          5.19295685089021,
          4.941642422609304,
          5.272999558563747,
          5.3471075307174685
         ],
         "xaxis": "x4",
         "y": [
          2.2617630984737906,
          3.0106208860477417,
          3.970291913552122,
          3.349904087274605,
          4.251348311031766,
          3.3463891451671604,
          3.6189933266497696,
          3.9889840465642745,
          3.0204248861443626,
          2.5877640352277083,
          4.182050142641207,
          3.091042453358316,
          2.4849066497880004,
          3.1354942159291497,
          3.1780538303479458,
          2.8622008809294686,
          3.728100167267218,
          3.871201010907891,
          4.437934266612178,
          4.672828834461906,
          4.290459441148391,
          4.6913478822291435,
          4.204692619390966,
          4.624972813284271
         ],
         "yaxis": "y4"
        },
        {
         "hovertemplate": "body_class=0-2 kg<br>log_gestation=%{x}<br>log_brain=%{y}<extra></extra>",
         "legendgroup": "",
         "marker": {
          "color": "#636efa",
          "symbol": "circle"
         },
         "mode": "markers",
         "name": "",
         "orientation": "v",
         "showlegend": false,
         "type": "scatter",
         "x": [
          4.584967478670572,
          4.90527477843843,
          4.700480365792417,
          3.1354942159291497,
          3.1354942159291497,
          3.1780538303479458,
          3.1780538303479458,
          3.9318256327243257,
          3.828641396489095,
          3.6888794541139363,
          4.976733742420574,
          4.204692619390966,
          3.044522437723423,
          2.772588722239781,
          3.5263605246161616,
          3.295836866004329,
          2.9444389791664403,
          4.343805421853684,
          3.044522437723423,
          3.1354942159291497,
          3.044522437723423,
          4.499809670330265,
          3.828641396489095,
          3.6375861597263857
         ],
         "xaxis": "x3",
         "y": [
          2.2925347571405443,
          2.2925347571405443,
          1.6582280766035324,
          -0.3856624808119846,
          -0.4620354595965587,
          -0.6539264674066639,
          -0.37106368139083207,
          0.131028262406404,
          0.3148107398400336,
          0.636576829071551,
          2.0541237336955462,
          1.4539530095937054,
          -0.40047756659712525,
          0.11332868530700327,
          1.252762968495368,
          0.16551443847757333,
          -0.7985076962177716,
          3.4404180948154366,
          0.03922071315328133,
          -0.3285040669720361,
          0.8671004876833833,
          2.5494451709255714,
          1.1474024528375417,
          1.8293763327993617
         ],
         "yaxis": "y3"
        },
        {
         "hovertemplate": "body_class=100-10000 kg<br>log_gestation=%{x}<br>log_brain=%{y}<extra></extra>",
         "legendgroup": "",
         "marker": {
          "color": "#636efa",
          "symbol": "circle"
         },
         "mode": "markers",
         "name": "",
         "orientation": "v",
         "showlegend": false,
         "type": "scatter",
         "x": [
          6.484635235635252,
          5.480638923341991,
          5.41610040220442,
          5.634789603169249,
          5.886104031450156,
          4.74493212836325,
          5.541263545158426,
          5.459585514144159,
          5.537334267018537,
          5.579729825986222,
          5.389071729816501,
          5.480638923341991,
          5.480638923341991,
          5.799092654460526,
          4.68213122712422,
          5.3230099791384085,
          5.541263545158426,
          5.5053315359323625,
          5.966146739123692,
          4.6443908991413725,
          5.736572297479192,
          4.787491742782046,
          5.541263545158426
         ],
         "xaxis": "x2",
         "y": [
          8.40737832540903,
          6.214608098422191,
          5.662960480135946,
          6.1224928095143865,
          7.3777589082278725,
          5.19295685089021,
          6.173786103901937,
          5.8998973535824915,
          5.872117789475416,
          6.0063531596017325,
          5.991464547107982,
          6.091309882077698,
          6.380122536899765,
          6.568077911411976,
          5.560681631015528,
          5.560681631015528,
          6.075346031088684,
          5.948034989180646,
          5.521460917862246,
          5.71042701737487,
          6.309918278226516,
          5.220355825078324,
          5.811140992976701
         ],
         "yaxis": "y2"
        },
        {
         "hovertemplate": "body_class=9-100 kg<br>log_gestation=%{x}<br>log_brain=%{y}<extra></extra>",
         "legendgroup": "",
         "marker": {
          "color": "#636efa",
          "symbol": "circle"
         },
         "mode": "markers",
         "name": "",
         "orientation": "v",
         "showlegend": false,
         "type": "scatter",
         "x": [
          5.384495062789089,
          5.062595033026967,
          5.209486152841421,
          4.852030263919617,
          5.19295685089021,
          4.852030263919617,
          4.812184355372417,
          5.438079308923196,
          5.017279836814924,
          5.0106352940962555,
          4.787491742782046,
          5.480638923341991,
          5.19295685089021,
          5.598421958998375,
          4.5217885770490405,
          5.799092654460526,
          4.0943445622221,
          5.598421958998375,
          4.718498871295094,
          4.718498871295094,
          5.598421958998375,
          5.8377304471659395,
          4.941642422609304,
          5.703782474656201,
          5.19295685089021
         ],
         "xaxis": "x",
         "y": [
          5.389071729816501,
          5.3471075307174685,
          4.820281565605037,
          3.8066624897703196,
          5.298317366548036,
          3.6888794541139363,
          4.330733340286331,
          5.886104031450156,
          4.663439094112067,
          4.8283137373023015,
          4.532599493153256,
          5.407171771460119,
          5.209486152841421,
          7.170119543449628,
          5.056245805348308,
          5.41610040220442,
          4.31748811353631,
          5.8377304471659395,
          3.6109179126442243,
          3.6109179126442243,
          6.285998094508865,
          5.8944028342648505,
          4.736198448394496,
          5.288267030694535,
          5.187385805840755
         ],
         "yaxis": "y"
        }
       ],
       "layout": {
        "annotations": [
         {
          "font": {},
          "showarrow": false,
          "text": "body_class=9-100 kg",
          "textangle": 90,
          "x": 0.98,
          "xanchor": "left",
          "xref": "paper",
          "y": 0.11375,
          "yanchor": "middle",
          "yref": "paper"
         },
         {
          "font": {},
          "showarrow": false,
          "text": "body_class=100-10000 kg",
          "textangle": 90,
          "x": 0.98,
          "xanchor": "left",
          "xref": "paper",
          "y": 0.37124999999999997,
          "yanchor": "middle",
          "yref": "paper"
         },
         {
          "font": {},
          "showarrow": false,
          "text": "body_class=0-2 kg",
          "textangle": 90,
          "x": 0.98,
          "xanchor": "left",
          "xref": "paper",
          "y": 0.62875,
          "yanchor": "middle",
          "yref": "paper"
         },
         {
          "font": {},
          "showarrow": false,
          "text": "body_class=2-9 kg",
          "textangle": 90,
          "x": 0.98,
          "xanchor": "left",
          "xref": "paper",
          "y": 0.88625,
          "yanchor": "middle",
          "yref": "paper"
         }
        ],
        "height": 800,
        "legend": {
         "tracegroupgap": 0
        },
        "margin": {
         "t": 60
        },
        "template": {
         "data": {
          "bar": [
           {
            "error_x": {
             "color": "#2a3f5f"
            },
            "error_y": {
             "color": "#2a3f5f"
            },
            "marker": {
             "line": {
              "color": "#E5ECF6",
              "width": 0.5
             },
             "pattern": {
              "fillmode": "overlay",
              "size": 10,
              "solidity": 0.2
             }
            },
            "type": "bar"
           }
          ],
          "barpolar": [
           {
            "marker": {
             "line": {
              "color": "#E5ECF6",
              "width": 0.5
             },
             "pattern": {
              "fillmode": "overlay",
              "size": 10,
              "solidity": 0.2
             }
            },
            "type": "barpolar"
           }
          ],
          "carpet": [
           {
            "aaxis": {
             "endlinecolor": "#2a3f5f",
             "gridcolor": "white",
             "linecolor": "white",
             "minorgridcolor": "white",
             "startlinecolor": "#2a3f5f"
            },
            "baxis": {
             "endlinecolor": "#2a3f5f",
             "gridcolor": "white",
             "linecolor": "white",
             "minorgridcolor": "white",
             "startlinecolor": "#2a3f5f"
            },
            "type": "carpet"
           }
          ],
          "choropleth": [
           {
            "colorbar": {
             "outlinewidth": 0,
             "ticks": ""
            },
            "type": "choropleth"
           }
          ],
          "contour": [
           {
            "colorbar": {
             "outlinewidth": 0,
             "ticks": ""
            },
            "colorscale": [
             [
              0,
              "#0d0887"
             ],
             [
              0.1111111111111111,
              "#46039f"
             ],
             [
              0.2222222222222222,
              "#7201a8"
             ],
             [
              0.3333333333333333,
              "#9c179e"
             ],
             [
              0.4444444444444444,
              "#bd3786"
             ],
             [
              0.5555555555555556,
              "#d8576b"
             ],
             [
              0.6666666666666666,
              "#ed7953"
             ],
             [
              0.7777777777777778,
              "#fb9f3a"
             ],
             [
              0.8888888888888888,
              "#fdca26"
             ],
             [
              1,
              "#f0f921"
             ]
            ],
            "type": "contour"
           }
          ],
          "contourcarpet": [
           {
            "colorbar": {
             "outlinewidth": 0,
             "ticks": ""
            },
            "type": "contourcarpet"
           }
          ],
          "heatmap": [
           {
            "colorbar": {
             "outlinewidth": 0,
             "ticks": ""
            },
            "colorscale": [
             [
              0,
              "#0d0887"
             ],
             [
              0.1111111111111111,
              "#46039f"
             ],
             [
              0.2222222222222222,
              "#7201a8"
             ],
             [
              0.3333333333333333,
              "#9c179e"
             ],
             [
              0.4444444444444444,
              "#bd3786"
             ],
             [
              0.5555555555555556,
              "#d8576b"
             ],
             [
              0.6666666666666666,
              "#ed7953"
             ],
             [
              0.7777777777777778,
              "#fb9f3a"
             ],
             [
              0.8888888888888888,
              "#fdca26"
             ],
             [
              1,
              "#f0f921"
             ]
            ],
            "type": "heatmap"
           }
          ],
          "heatmapgl": [
           {
            "colorbar": {
             "outlinewidth": 0,
             "ticks": ""
            },
            "colorscale": [
             [
              0,
              "#0d0887"
             ],
             [
              0.1111111111111111,
              "#46039f"
             ],
             [
              0.2222222222222222,
              "#7201a8"
             ],
             [
              0.3333333333333333,
              "#9c179e"
             ],
             [
              0.4444444444444444,
              "#bd3786"
             ],
             [
              0.5555555555555556,
              "#d8576b"
             ],
             [
              0.6666666666666666,
              "#ed7953"
             ],
             [
              0.7777777777777778,
              "#fb9f3a"
             ],
             [
              0.8888888888888888,
              "#fdca26"
             ],
             [
              1,
              "#f0f921"
             ]
            ],
            "type": "heatmapgl"
           }
          ],
          "histogram": [
           {
            "marker": {
             "pattern": {
              "fillmode": "overlay",
              "size": 10,
              "solidity": 0.2
             }
            },
            "type": "histogram"
           }
          ],
          "histogram2d": [
           {
            "colorbar": {
             "outlinewidth": 0,
             "ticks": ""
            },
            "colorscale": [
             [
              0,
              "#0d0887"
             ],
             [
              0.1111111111111111,
              "#46039f"
             ],
             [
              0.2222222222222222,
              "#7201a8"
             ],
             [
              0.3333333333333333,
              "#9c179e"
             ],
             [
              0.4444444444444444,
              "#bd3786"
             ],
             [
              0.5555555555555556,
              "#d8576b"
             ],
             [
              0.6666666666666666,
              "#ed7953"
             ],
             [
              0.7777777777777778,
              "#fb9f3a"
             ],
             [
              0.8888888888888888,
              "#fdca26"
             ],
             [
              1,
              "#f0f921"
             ]
            ],
            "type": "histogram2d"
           }
          ],
          "histogram2dcontour": [
           {
            "colorbar": {
             "outlinewidth": 0,
             "ticks": ""
            },
            "colorscale": [
             [
              0,
              "#0d0887"
             ],
             [
              0.1111111111111111,
              "#46039f"
             ],
             [
              0.2222222222222222,
              "#7201a8"
             ],
             [
              0.3333333333333333,
              "#9c179e"
             ],
             [
              0.4444444444444444,
              "#bd3786"
             ],
             [
              0.5555555555555556,
              "#d8576b"
             ],
             [
              0.6666666666666666,
              "#ed7953"
             ],
             [
              0.7777777777777778,
              "#fb9f3a"
             ],
             [
              0.8888888888888888,
              "#fdca26"
             ],
             [
              1,
              "#f0f921"
             ]
            ],
            "type": "histogram2dcontour"
           }
          ],
          "mesh3d": [
           {
            "colorbar": {
             "outlinewidth": 0,
             "ticks": ""
            },
            "type": "mesh3d"
           }
          ],
          "parcoords": [
           {
            "line": {
             "colorbar": {
              "outlinewidth": 0,
              "ticks": ""
             }
            },
            "type": "parcoords"
           }
          ],
          "pie": [
           {
            "automargin": true,
            "type": "pie"
           }
          ],
          "scatter": [
           {
            "fillpattern": {
             "fillmode": "overlay",
             "size": 10,
             "solidity": 0.2
            },
            "type": "scatter"
           }
          ],
          "scatter3d": [
           {
            "line": {
             "colorbar": {
              "outlinewidth": 0,
              "ticks": ""
             }
            },
            "marker": {
             "colorbar": {
              "outlinewidth": 0,
              "ticks": ""
             }
            },
            "type": "scatter3d"
           }
          ],
          "scattercarpet": [
           {
            "marker": {
             "colorbar": {
              "outlinewidth": 0,
              "ticks": ""
             }
            },
            "type": "scattercarpet"
           }
          ],
          "scattergeo": [
           {
            "marker": {
             "colorbar": {
              "outlinewidth": 0,
              "ticks": ""
             }
            },
            "type": "scattergeo"
           }
          ],
          "scattergl": [
           {
            "marker": {
             "colorbar": {
              "outlinewidth": 0,
              "ticks": ""
             }
            },
            "type": "scattergl"
           }
          ],
          "scattermapbox": [
           {
            "marker": {
             "colorbar": {
              "outlinewidth": 0,
              "ticks": ""
             }
            },
            "type": "scattermapbox"
           }
          ],
          "scatterpolar": [
           {
            "marker": {
             "colorbar": {
              "outlinewidth": 0,
              "ticks": ""
             }
            },
            "type": "scatterpolar"
           }
          ],
          "scatterpolargl": [
           {
            "marker": {
             "colorbar": {
              "outlinewidth": 0,
              "ticks": ""
             }
            },
            "type": "scatterpolargl"
           }
          ],
          "scatterternary": [
           {
            "marker": {
             "colorbar": {
              "outlinewidth": 0,
              "ticks": ""
             }
            },
            "type": "scatterternary"
           }
          ],
          "surface": [
           {
            "colorbar": {
             "outlinewidth": 0,
             "ticks": ""
            },
            "colorscale": [
             [
              0,
              "#0d0887"
             ],
             [
              0.1111111111111111,
              "#46039f"
             ],
             [
              0.2222222222222222,
              "#7201a8"
             ],
             [
              0.3333333333333333,
              "#9c179e"
             ],
             [
              0.4444444444444444,
              "#bd3786"
             ],
             [
              0.5555555555555556,
              "#d8576b"
             ],
             [
              0.6666666666666666,
              "#ed7953"
             ],
             [
              0.7777777777777778,
              "#fb9f3a"
             ],
             [
              0.8888888888888888,
              "#fdca26"
             ],
             [
              1,
              "#f0f921"
             ]
            ],
            "type": "surface"
           }
          ],
          "table": [
           {
            "cells": {
             "fill": {
              "color": "#EBF0F8"
             },
             "line": {
              "color": "white"
             }
            },
            "header": {
             "fill": {
              "color": "#C8D4E3"
             },
             "line": {
              "color": "white"
             }
            },
            "type": "table"
           }
          ]
         },
         "layout": {
          "annotationdefaults": {
           "arrowcolor": "#2a3f5f",
           "arrowhead": 0,
           "arrowwidth": 1
          },
          "autotypenumbers": "strict",
          "coloraxis": {
           "colorbar": {
            "outlinewidth": 0,
            "ticks": ""
           }
          },
          "colorscale": {
           "diverging": [
            [
             0,
             "#8e0152"
            ],
            [
             0.1,
             "#c51b7d"
            ],
            [
             0.2,
             "#de77ae"
            ],
            [
             0.3,
             "#f1b6da"
            ],
            [
             0.4,
             "#fde0ef"
            ],
            [
             0.5,
             "#f7f7f7"
            ],
            [
             0.6,
             "#e6f5d0"
            ],
            [
             0.7,
             "#b8e186"
            ],
            [
             0.8,
             "#7fbc41"
            ],
            [
             0.9,
             "#4d9221"
            ],
            [
             1,
             "#276419"
            ]
           ],
           "sequential": [
            [
             0,
             "#0d0887"
            ],
            [
             0.1111111111111111,
             "#46039f"
            ],
            [
             0.2222222222222222,
             "#7201a8"
            ],
            [
             0.3333333333333333,
             "#9c179e"
            ],
            [
             0.4444444444444444,
             "#bd3786"
            ],
            [
             0.5555555555555556,
             "#d8576b"
            ],
            [
             0.6666666666666666,
             "#ed7953"
            ],
            [
             0.7777777777777778,
             "#fb9f3a"
            ],
            [
             0.8888888888888888,
             "#fdca26"
            ],
            [
             1,
             "#f0f921"
            ]
           ],
           "sequentialminus": [
            [
             0,
             "#0d0887"
            ],
            [
             0.1111111111111111,
             "#46039f"
            ],
            [
             0.2222222222222222,
             "#7201a8"
            ],
            [
             0.3333333333333333,
             "#9c179e"
            ],
            [
             0.4444444444444444,
             "#bd3786"
            ],
            [
             0.5555555555555556,
             "#d8576b"
            ],
            [
             0.6666666666666666,
             "#ed7953"
            ],
            [
             0.7777777777777778,
             "#fb9f3a"
            ],
            [
             0.8888888888888888,
             "#fdca26"
            ],
            [
             1,
             "#f0f921"
            ]
           ]
          },
          "colorway": [
           "#636efa",
           "#EF553B",
           "#00cc96",
           "#ab63fa",
           "#FFA15A",
           "#19d3f3",
           "#FF6692",
           "#B6E880",
           "#FF97FF",
           "#FECB52"
          ],
          "font": {
           "color": "#2a3f5f"
          },
          "geo": {
           "bgcolor": "white",
           "lakecolor": "white",
           "landcolor": "#E5ECF6",
           "showlakes": true,
           "showland": true,
           "subunitcolor": "white"
          },
          "hoverlabel": {
           "align": "left"
          },
          "hovermode": "closest",
          "mapbox": {
           "style": "light"
          },
          "paper_bgcolor": "white",
          "plot_bgcolor": "#E5ECF6",
          "polar": {
           "angularaxis": {
            "gridcolor": "white",
            "linecolor": "white",
            "ticks": ""
           },
           "bgcolor": "#E5ECF6",
           "radialaxis": {
            "gridcolor": "white",
            "linecolor": "white",
            "ticks": ""
           }
          },
          "scene": {
           "xaxis": {
            "backgroundcolor": "#E5ECF6",
            "gridcolor": "white",
            "gridwidth": 2,
            "linecolor": "white",
            "showbackground": true,
            "ticks": "",
            "zerolinecolor": "white"
           },
           "yaxis": {
            "backgroundcolor": "#E5ECF6",
            "gridcolor": "white",
            "gridwidth": 2,
            "linecolor": "white",
            "showbackground": true,
            "ticks": "",
            "zerolinecolor": "white"
           },
           "zaxis": {
            "backgroundcolor": "#E5ECF6",
            "gridcolor": "white",
            "gridwidth": 2,
            "linecolor": "white",
            "showbackground": true,
            "ticks": "",
            "zerolinecolor": "white"
           }
          },
          "shapedefaults": {
           "line": {
            "color": "#2a3f5f"
           }
          },
          "ternary": {
           "aaxis": {
            "gridcolor": "white",
            "linecolor": "white",
            "ticks": ""
           },
           "baxis": {
            "gridcolor": "white",
            "linecolor": "white",
            "ticks": ""
           },
           "bgcolor": "#E5ECF6",
           "caxis": {
            "gridcolor": "white",
            "linecolor": "white",
            "ticks": ""
           }
          },
          "title": {
           "x": 0.05
          },
          "xaxis": {
           "automargin": true,
           "gridcolor": "white",
           "linecolor": "white",
           "ticks": "",
           "title": {
            "standoff": 15
           },
           "zerolinecolor": "white",
           "zerolinewidth": 2
          },
          "yaxis": {
           "automargin": true,
           "gridcolor": "white",
           "linecolor": "white",
           "ticks": "",
           "title": {
            "standoff": 15
           },
           "zerolinecolor": "white",
           "zerolinewidth": 2
          }
         }
        },
        "width": 800,
        "xaxis": {
         "anchor": "y",
         "domain": [
          0,
          0.98
         ],
         "title": {
          "text": "log_gestation"
         }
        },
        "xaxis2": {
         "anchor": "y2",
         "domain": [
          0,
          0.98
         ],
         "matches": "x",
         "showticklabels": false
        },
        "xaxis3": {
         "anchor": "y3",
         "domain": [
          0,
          0.98
         ],
         "matches": "x",
         "showticklabels": false
        },
        "xaxis4": {
         "anchor": "y4",
         "domain": [
          0,
          0.98
         ],
         "matches": "x",
         "showticklabels": false
        },
        "yaxis": {
         "anchor": "x",
         "domain": [
          0,
          0.2275
         ],
         "title": {
          "text": "log_brain"
         }
        },
        "yaxis2": {
         "anchor": "x2",
         "domain": [
          0.2575,
          0.485
         ],
         "title": {
          "text": "log_brain"
         }
        },
        "yaxis3": {
         "anchor": "x3",
         "domain": [
          0.515,
          0.7425
         ],
         "title": {
          "text": "log_brain"
         }
        },
        "yaxis4": {
         "anchor": "x4",
         "domain": [
          0.7725,
          1
         ],
         "title": {
          "text": "log_brain"
         }
        }
       }
      },
      "text/html": [
       "<div>                            <div id=\"a8a76a2d-f0d0-413e-9620-bee095b929a6\" class=\"plotly-graph-div\" style=\"height:800px; width:800px;\"></div>            <script type=\"text/javascript\">                require([\"plotly\"], function(Plotly) {                    window.PLOTLYENV=window.PLOTLYENV || {};                                    if (document.getElementById(\"a8a76a2d-f0d0-413e-9620-bee095b929a6\")) {                    Plotly.newPlot(                        \"a8a76a2d-f0d0-413e-9620-bee095b929a6\",                        [{\"hovertemplate\":\"body_class=2-9 kg<br>log_gestation=%{x}<br>log_brain=%{y}<extra></extra>\",\"legendgroup\":\"\",\"marker\":{\"color\":\"#636efa\",\"symbol\":\"circle\"},\"mode\":\"markers\",\"name\":\"\",\"orientation\":\"v\",\"showlegend\":false,\"x\":[3.4339872044851463,4.6443908991413725,4.0943445622221,4.174387269895637,4.143134726391533,4.143134726391533,4.143134726391533,4.9344739331306915,5.41610040220442,3.713572066704308,5.123963979403259,4.90527477843843,4.787491742782046,4.882801922586371,4.727387818712341,3.258096538021482,4.143134726391533,3.9512437185814275,5.1647859739235145,5.10594547390058,5.19295685089021,4.941642422609304,5.272999558563747,5.3471075307174685],\"xaxis\":\"x4\",\"y\":[2.2617630984737906,3.0106208860477417,3.970291913552122,3.349904087274605,4.251348311031766,3.3463891451671604,3.6189933266497696,3.9889840465642745,3.0204248861443626,2.5877640352277083,4.182050142641207,3.091042453358316,2.4849066497880004,3.1354942159291497,3.1780538303479458,2.8622008809294686,3.728100167267218,3.871201010907891,4.437934266612178,4.672828834461906,4.290459441148391,4.6913478822291435,4.204692619390966,4.624972813284271],\"yaxis\":\"y4\",\"type\":\"scatter\"},{\"hovertemplate\":\"body_class=0-2 kg<br>log_gestation=%{x}<br>log_brain=%{y}<extra></extra>\",\"legendgroup\":\"\",\"marker\":{\"color\":\"#636efa\",\"symbol\":\"circle\"},\"mode\":\"markers\",\"name\":\"\",\"orientation\":\"v\",\"showlegend\":false,\"x\":[4.584967478670572,4.90527477843843,4.700480365792417,3.1354942159291497,3.1354942159291497,3.1780538303479458,3.1780538303479458,3.9318256327243257,3.828641396489095,3.6888794541139363,4.976733742420574,4.204692619390966,3.044522437723423,2.772588722239781,3.5263605246161616,3.295836866004329,2.9444389791664403,4.343805421853684,3.044522437723423,3.1354942159291497,3.044522437723423,4.499809670330265,3.828641396489095,3.6375861597263857],\"xaxis\":\"x3\",\"y\":[2.2925347571405443,2.2925347571405443,1.6582280766035324,-0.3856624808119846,-0.4620354595965587,-0.6539264674066639,-0.37106368139083207,0.131028262406404,0.3148107398400336,0.636576829071551,2.0541237336955462,1.4539530095937054,-0.40047756659712525,0.11332868530700327,1.252762968495368,0.16551443847757333,-0.7985076962177716,3.4404180948154366,0.03922071315328133,-0.3285040669720361,0.8671004876833833,2.5494451709255714,1.1474024528375417,1.8293763327993617],\"yaxis\":\"y3\",\"type\":\"scatter\"},{\"hovertemplate\":\"body_class=100-10000 kg<br>log_gestation=%{x}<br>log_brain=%{y}<extra></extra>\",\"legendgroup\":\"\",\"marker\":{\"color\":\"#636efa\",\"symbol\":\"circle\"},\"mode\":\"markers\",\"name\":\"\",\"orientation\":\"v\",\"showlegend\":false,\"x\":[6.484635235635252,5.480638923341991,5.41610040220442,5.634789603169249,5.886104031450156,4.74493212836325,5.541263545158426,5.459585514144159,5.537334267018537,5.579729825986222,5.389071729816501,5.480638923341991,5.480638923341991,5.799092654460526,4.68213122712422,5.3230099791384085,5.541263545158426,5.5053315359323625,5.966146739123692,4.6443908991413725,5.736572297479192,4.787491742782046,5.541263545158426],\"xaxis\":\"x2\",\"y\":[8.40737832540903,6.214608098422191,5.662960480135946,6.1224928095143865,7.3777589082278725,5.19295685089021,6.173786103901937,5.8998973535824915,5.872117789475416,6.0063531596017325,5.991464547107982,6.091309882077698,6.380122536899765,6.568077911411976,5.560681631015528,5.560681631015528,6.075346031088684,5.948034989180646,5.521460917862246,5.71042701737487,6.309918278226516,5.220355825078324,5.811140992976701],\"yaxis\":\"y2\",\"type\":\"scatter\"},{\"hovertemplate\":\"body_class=9-100 kg<br>log_gestation=%{x}<br>log_brain=%{y}<extra></extra>\",\"legendgroup\":\"\",\"marker\":{\"color\":\"#636efa\",\"symbol\":\"circle\"},\"mode\":\"markers\",\"name\":\"\",\"orientation\":\"v\",\"showlegend\":false,\"x\":[5.384495062789089,5.062595033026967,5.209486152841421,4.852030263919617,5.19295685089021,4.852030263919617,4.812184355372417,5.438079308923196,5.017279836814924,5.0106352940962555,4.787491742782046,5.480638923341991,5.19295685089021,5.598421958998375,4.5217885770490405,5.799092654460526,4.0943445622221,5.598421958998375,4.718498871295094,4.718498871295094,5.598421958998375,5.8377304471659395,4.941642422609304,5.703782474656201,5.19295685089021],\"xaxis\":\"x\",\"y\":[5.389071729816501,5.3471075307174685,4.820281565605037,3.8066624897703196,5.298317366548036,3.6888794541139363,4.330733340286331,5.886104031450156,4.663439094112067,4.8283137373023015,4.532599493153256,5.407171771460119,5.209486152841421,7.170119543449628,5.056245805348308,5.41610040220442,4.31748811353631,5.8377304471659395,3.6109179126442243,3.6109179126442243,6.285998094508865,5.8944028342648505,4.736198448394496,5.288267030694535,5.187385805840755],\"yaxis\":\"y\",\"type\":\"scatter\"}],                        {\"template\":{\"data\":{\"histogram2dcontour\":[{\"type\":\"histogram2dcontour\",\"colorbar\":{\"outlinewidth\":0,\"ticks\":\"\"},\"colorscale\":[[0.0,\"#0d0887\"],[0.1111111111111111,\"#46039f\"],[0.2222222222222222,\"#7201a8\"],[0.3333333333333333,\"#9c179e\"],[0.4444444444444444,\"#bd3786\"],[0.5555555555555556,\"#d8576b\"],[0.6666666666666666,\"#ed7953\"],[0.7777777777777778,\"#fb9f3a\"],[0.8888888888888888,\"#fdca26\"],[1.0,\"#f0f921\"]]}],\"choropleth\":[{\"type\":\"choropleth\",\"colorbar\":{\"outlinewidth\":0,\"ticks\":\"\"}}],\"histogram2d\":[{\"type\":\"histogram2d\",\"colorbar\":{\"outlinewidth\":0,\"ticks\":\"\"},\"colorscale\":[[0.0,\"#0d0887\"],[0.1111111111111111,\"#46039f\"],[0.2222222222222222,\"#7201a8\"],[0.3333333333333333,\"#9c179e\"],[0.4444444444444444,\"#bd3786\"],[0.5555555555555556,\"#d8576b\"],[0.6666666666666666,\"#ed7953\"],[0.7777777777777778,\"#fb9f3a\"],[0.8888888888888888,\"#fdca26\"],[1.0,\"#f0f921\"]]}],\"heatmap\":[{\"type\":\"heatmap\",\"colorbar\":{\"outlinewidth\":0,\"ticks\":\"\"},\"colorscale\":[[0.0,\"#0d0887\"],[0.1111111111111111,\"#46039f\"],[0.2222222222222222,\"#7201a8\"],[0.3333333333333333,\"#9c179e\"],[0.4444444444444444,\"#bd3786\"],[0.5555555555555556,\"#d8576b\"],[0.6666666666666666,\"#ed7953\"],[0.7777777777777778,\"#fb9f3a\"],[0.8888888888888888,\"#fdca26\"],[1.0,\"#f0f921\"]]}],\"heatmapgl\":[{\"type\":\"heatmapgl\",\"colorbar\":{\"outlinewidth\":0,\"ticks\":\"\"},\"colorscale\":[[0.0,\"#0d0887\"],[0.1111111111111111,\"#46039f\"],[0.2222222222222222,\"#7201a8\"],[0.3333333333333333,\"#9c179e\"],[0.4444444444444444,\"#bd3786\"],[0.5555555555555556,\"#d8576b\"],[0.6666666666666666,\"#ed7953\"],[0.7777777777777778,\"#fb9f3a\"],[0.8888888888888888,\"#fdca26\"],[1.0,\"#f0f921\"]]}],\"contourcarpet\":[{\"type\":\"contourcarpet\",\"colorbar\":{\"outlinewidth\":0,\"ticks\":\"\"}}],\"contour\":[{\"type\":\"contour\",\"colorbar\":{\"outlinewidth\":0,\"ticks\":\"\"},\"colorscale\":[[0.0,\"#0d0887\"],[0.1111111111111111,\"#46039f\"],[0.2222222222222222,\"#7201a8\"],[0.3333333333333333,\"#9c179e\"],[0.4444444444444444,\"#bd3786\"],[0.5555555555555556,\"#d8576b\"],[0.6666666666666666,\"#ed7953\"],[0.7777777777777778,\"#fb9f3a\"],[0.8888888888888888,\"#fdca26\"],[1.0,\"#f0f921\"]]}],\"surface\":[{\"type\":\"surface\",\"colorbar\":{\"outlinewidth\":0,\"ticks\":\"\"},\"colorscale\":[[0.0,\"#0d0887\"],[0.1111111111111111,\"#46039f\"],[0.2222222222222222,\"#7201a8\"],[0.3333333333333333,\"#9c179e\"],[0.4444444444444444,\"#bd3786\"],[0.5555555555555556,\"#d8576b\"],[0.6666666666666666,\"#ed7953\"],[0.7777777777777778,\"#fb9f3a\"],[0.8888888888888888,\"#fdca26\"],[1.0,\"#f0f921\"]]}],\"mesh3d\":[{\"type\":\"mesh3d\",\"colorbar\":{\"outlinewidth\":0,\"ticks\":\"\"}}],\"scatter\":[{\"fillpattern\":{\"fillmode\":\"overlay\",\"size\":10,\"solidity\":0.2},\"type\":\"scatter\"}],\"parcoords\":[{\"type\":\"parcoords\",\"line\":{\"colorbar\":{\"outlinewidth\":0,\"ticks\":\"\"}}}],\"scatterpolargl\":[{\"type\":\"scatterpolargl\",\"marker\":{\"colorbar\":{\"outlinewidth\":0,\"ticks\":\"\"}}}],\"bar\":[{\"error_x\":{\"color\":\"#2a3f5f\"},\"error_y\":{\"color\":\"#2a3f5f\"},\"marker\":{\"line\":{\"color\":\"#E5ECF6\",\"width\":0.5},\"pattern\":{\"fillmode\":\"overlay\",\"size\":10,\"solidity\":0.2}},\"type\":\"bar\"}],\"scattergeo\":[{\"type\":\"scattergeo\",\"marker\":{\"colorbar\":{\"outlinewidth\":0,\"ticks\":\"\"}}}],\"scatterpolar\":[{\"type\":\"scatterpolar\",\"marker\":{\"colorbar\":{\"outlinewidth\":0,\"ticks\":\"\"}}}],\"histogram\":[{\"marker\":{\"pattern\":{\"fillmode\":\"overlay\",\"size\":10,\"solidity\":0.2}},\"type\":\"histogram\"}],\"scattergl\":[{\"type\":\"scattergl\",\"marker\":{\"colorbar\":{\"outlinewidth\":0,\"ticks\":\"\"}}}],\"scatter3d\":[{\"type\":\"scatter3d\",\"line\":{\"colorbar\":{\"outlinewidth\":0,\"ticks\":\"\"}},\"marker\":{\"colorbar\":{\"outlinewidth\":0,\"ticks\":\"\"}}}],\"scattermapbox\":[{\"type\":\"scattermapbox\",\"marker\":{\"colorbar\":{\"outlinewidth\":0,\"ticks\":\"\"}}}],\"scatterternary\":[{\"type\":\"scatterternary\",\"marker\":{\"colorbar\":{\"outlinewidth\":0,\"ticks\":\"\"}}}],\"scattercarpet\":[{\"type\":\"scattercarpet\",\"marker\":{\"colorbar\":{\"outlinewidth\":0,\"ticks\":\"\"}}}],\"carpet\":[{\"aaxis\":{\"endlinecolor\":\"#2a3f5f\",\"gridcolor\":\"white\",\"linecolor\":\"white\",\"minorgridcolor\":\"white\",\"startlinecolor\":\"#2a3f5f\"},\"baxis\":{\"endlinecolor\":\"#2a3f5f\",\"gridcolor\":\"white\",\"linecolor\":\"white\",\"minorgridcolor\":\"white\",\"startlinecolor\":\"#2a3f5f\"},\"type\":\"carpet\"}],\"table\":[{\"cells\":{\"fill\":{\"color\":\"#EBF0F8\"},\"line\":{\"color\":\"white\"}},\"header\":{\"fill\":{\"color\":\"#C8D4E3\"},\"line\":{\"color\":\"white\"}},\"type\":\"table\"}],\"barpolar\":[{\"marker\":{\"line\":{\"color\":\"#E5ECF6\",\"width\":0.5},\"pattern\":{\"fillmode\":\"overlay\",\"size\":10,\"solidity\":0.2}},\"type\":\"barpolar\"}],\"pie\":[{\"automargin\":true,\"type\":\"pie\"}]},\"layout\":{\"autotypenumbers\":\"strict\",\"colorway\":[\"#636efa\",\"#EF553B\",\"#00cc96\",\"#ab63fa\",\"#FFA15A\",\"#19d3f3\",\"#FF6692\",\"#B6E880\",\"#FF97FF\",\"#FECB52\"],\"font\":{\"color\":\"#2a3f5f\"},\"hovermode\":\"closest\",\"hoverlabel\":{\"align\":\"left\"},\"paper_bgcolor\":\"white\",\"plot_bgcolor\":\"#E5ECF6\",\"polar\":{\"bgcolor\":\"#E5ECF6\",\"angularaxis\":{\"gridcolor\":\"white\",\"linecolor\":\"white\",\"ticks\":\"\"},\"radialaxis\":{\"gridcolor\":\"white\",\"linecolor\":\"white\",\"ticks\":\"\"}},\"ternary\":{\"bgcolor\":\"#E5ECF6\",\"aaxis\":{\"gridcolor\":\"white\",\"linecolor\":\"white\",\"ticks\":\"\"},\"baxis\":{\"gridcolor\":\"white\",\"linecolor\":\"white\",\"ticks\":\"\"},\"caxis\":{\"gridcolor\":\"white\",\"linecolor\":\"white\",\"ticks\":\"\"}},\"coloraxis\":{\"colorbar\":{\"outlinewidth\":0,\"ticks\":\"\"}},\"colorscale\":{\"sequential\":[[0.0,\"#0d0887\"],[0.1111111111111111,\"#46039f\"],[0.2222222222222222,\"#7201a8\"],[0.3333333333333333,\"#9c179e\"],[0.4444444444444444,\"#bd3786\"],[0.5555555555555556,\"#d8576b\"],[0.6666666666666666,\"#ed7953\"],[0.7777777777777778,\"#fb9f3a\"],[0.8888888888888888,\"#fdca26\"],[1.0,\"#f0f921\"]],\"sequentialminus\":[[0.0,\"#0d0887\"],[0.1111111111111111,\"#46039f\"],[0.2222222222222222,\"#7201a8\"],[0.3333333333333333,\"#9c179e\"],[0.4444444444444444,\"#bd3786\"],[0.5555555555555556,\"#d8576b\"],[0.6666666666666666,\"#ed7953\"],[0.7777777777777778,\"#fb9f3a\"],[0.8888888888888888,\"#fdca26\"],[1.0,\"#f0f921\"]],\"diverging\":[[0,\"#8e0152\"],[0.1,\"#c51b7d\"],[0.2,\"#de77ae\"],[0.3,\"#f1b6da\"],[0.4,\"#fde0ef\"],[0.5,\"#f7f7f7\"],[0.6,\"#e6f5d0\"],[0.7,\"#b8e186\"],[0.8,\"#7fbc41\"],[0.9,\"#4d9221\"],[1,\"#276419\"]]},\"xaxis\":{\"gridcolor\":\"white\",\"linecolor\":\"white\",\"ticks\":\"\",\"title\":{\"standoff\":15},\"zerolinecolor\":\"white\",\"automargin\":true,\"zerolinewidth\":2},\"yaxis\":{\"gridcolor\":\"white\",\"linecolor\":\"white\",\"ticks\":\"\",\"title\":{\"standoff\":15},\"zerolinecolor\":\"white\",\"automargin\":true,\"zerolinewidth\":2},\"scene\":{\"xaxis\":{\"backgroundcolor\":\"#E5ECF6\",\"gridcolor\":\"white\",\"linecolor\":\"white\",\"showbackground\":true,\"ticks\":\"\",\"zerolinecolor\":\"white\",\"gridwidth\":2},\"yaxis\":{\"backgroundcolor\":\"#E5ECF6\",\"gridcolor\":\"white\",\"linecolor\":\"white\",\"showbackground\":true,\"ticks\":\"\",\"zerolinecolor\":\"white\",\"gridwidth\":2},\"zaxis\":{\"backgroundcolor\":\"#E5ECF6\",\"gridcolor\":\"white\",\"linecolor\":\"white\",\"showbackground\":true,\"ticks\":\"\",\"zerolinecolor\":\"white\",\"gridwidth\":2}},\"shapedefaults\":{\"line\":{\"color\":\"#2a3f5f\"}},\"annotationdefaults\":{\"arrowcolor\":\"#2a3f5f\",\"arrowhead\":0,\"arrowwidth\":1},\"geo\":{\"bgcolor\":\"white\",\"landcolor\":\"#E5ECF6\",\"subunitcolor\":\"white\",\"showland\":true,\"showlakes\":true,\"lakecolor\":\"white\"},\"title\":{\"x\":0.05},\"mapbox\":{\"style\":\"light\"}}},\"xaxis\":{\"anchor\":\"y\",\"domain\":[0.0,0.98],\"title\":{\"text\":\"log_gestation\"}},\"yaxis\":{\"anchor\":\"x\",\"domain\":[0.0,0.2275],\"title\":{\"text\":\"log_brain\"}},\"xaxis2\":{\"anchor\":\"y2\",\"domain\":[0.0,0.98],\"matches\":\"x\",\"showticklabels\":false},\"yaxis2\":{\"anchor\":\"x2\",\"domain\":[0.2575,0.485],\"title\":{\"text\":\"log_brain\"}},\"xaxis3\":{\"anchor\":\"y3\",\"domain\":[0.0,0.98],\"matches\":\"x\",\"showticklabels\":false},\"yaxis3\":{\"anchor\":\"x3\",\"domain\":[0.515,0.7425],\"title\":{\"text\":\"log_brain\"}},\"xaxis4\":{\"anchor\":\"y4\",\"domain\":[0.0,0.98],\"matches\":\"x\",\"showticklabels\":false},\"yaxis4\":{\"anchor\":\"x4\",\"domain\":[0.7725,1.0],\"title\":{\"text\":\"log_brain\"}},\"annotations\":[{\"font\":{},\"showarrow\":false,\"text\":\"body_class=9-100 kg\",\"textangle\":90,\"x\":0.98,\"xanchor\":\"left\",\"xref\":\"paper\",\"y\":0.11375,\"yanchor\":\"middle\",\"yref\":\"paper\"},{\"font\":{},\"showarrow\":false,\"text\":\"body_class=100-10000 kg\",\"textangle\":90,\"x\":0.98,\"xanchor\":\"left\",\"xref\":\"paper\",\"y\":0.37124999999999997,\"yanchor\":\"middle\",\"yref\":\"paper\"},{\"font\":{},\"showarrow\":false,\"text\":\"body_class=0-2 kg\",\"textangle\":90,\"x\":0.98,\"xanchor\":\"left\",\"xref\":\"paper\",\"y\":0.62875,\"yanchor\":\"middle\",\"yref\":\"paper\"},{\"font\":{},\"showarrow\":false,\"text\":\"body_class=2-9 kg\",\"textangle\":90,\"x\":0.98,\"xanchor\":\"left\",\"xref\":\"paper\",\"y\":0.88625,\"yanchor\":\"middle\",\"yref\":\"paper\"}],\"legend\":{\"tracegroupgap\":0},\"margin\":{\"t\":60},\"height\":800,\"width\":800},                        {\"responsive\": true}                    ).then(function(){\n",
       "                            \n",
       "var gd = document.getElementById('a8a76a2d-f0d0-413e-9620-bee095b929a6');\n",
       "var x = new MutationObserver(function (mutations, observer) {{\n",
       "        var display = window.getComputedStyle(gd).display;\n",
       "        if (!display || display === 'none') {{\n",
       "            console.log([gd, 'removed!']);\n",
       "            Plotly.purge(gd);\n",
       "            observer.disconnect();\n",
       "        }}\n",
       "}});\n",
       "\n",
       "// Listen for the removal of the full notebook cells\n",
       "var notebookContainer = gd.closest('#notebook-container');\n",
       "if (notebookContainer) {{\n",
       "    x.observe(notebookContainer, {childList: true});\n",
       "}}\n",
       "\n",
       "// Listen for the clearing of the current output cell\n",
       "var outputEl = gd.closest('.output');\n",
       "if (outputEl) {{\n",
       "    x.observe(outputEl, {childList: true});\n",
       "}}\n",
       "\n",
       "                        })                };                });            </script>        </div>"
      ]
     },
     "metadata": {},
     "output_type": "display_data"
    }
   ],
   "source": [
    "import plotly.express as px\n",
    "#df = px.data.tips()\n",
    "fig = px.scatter(df, x=\"log_gestation\", y=\"log_brain\", facet_row=\"body_class\", width=800, height=800)\n",
    "fig.update_yaxes(matches=None)\n",
    "fig.show()"
   ]
  },
  {
   "cell_type": "markdown",
   "metadata": {
    "id": "EitBlzpcumsA",
    "slideshow": {
     "slide_type": "slide"
    }
   },
   "source": [
    "This Trellis Graph suggests a positive relationship exists between brain weight and gestation length even accounting for different body weights. \n",
    "\n",
    "Furthermore, the slope in this relationship appears to be the same in the different panels of body weight; that is, there is **no evidence of an interactive effect of gestation and body weight on brain weight.**\n"
   ]
  },
  {
   "cell_type": "code",
   "execution_count": 59,
   "metadata": {
    "colab": {
     "base_uri": "https://localhost:8080/"
    },
    "id": "zxlEgmv6p6No",
    "outputId": "7a78f5a4-bc7f-49a4-bd69-d6022a3498d5",
    "slideshow": {
     "slide_type": "slide"
    }
   },
   "outputs": [
    {
     "name": "stdout",
     "output_type": "stream",
     "text": [
      "                            OLS Regression Results                            \n",
      "==============================================================================\n",
      "Dep. Variable:          np.log(Brain)   R-squared:                       0.954\n",
      "Model:                            OLS   Adj. R-squared:                  0.952\n",
      "Method:                 Least Squares   F-statistic:                     631.6\n",
      "Date:                Mon, 20 Mar 2023   Prob (F-statistic):           3.14e-61\n",
      "Time:                        20:44:54   Log-Likelihood:                -62.659\n",
      "No. Observations:                  96   AIC:                             133.3\n",
      "Df Residuals:                      92   BIC:                             143.6\n",
      "Df Model:                           3                                         \n",
      "Covariance Type:            nonrobust                                         \n",
      "=====================================================================================\n",
      "                        coef    std err          t      P>|t|      [0.025      0.975]\n",
      "-------------------------------------------------------------------------------------\n",
      "Intercept             0.8548      0.662      1.292      0.200      -0.459       2.169\n",
      "np.log(Body)          0.5751      0.033     17.647      0.000       0.510       0.640\n",
      "np.log(Gestation)     0.4179      0.141      2.969      0.004       0.138       0.698\n",
      "np.log(Litter)       -0.3101      0.116     -2.675      0.009      -0.540      -0.080\n",
      "==============================================================================\n",
      "Omnibus:                        4.005   Durbin-Watson:                   1.609\n",
      "Prob(Omnibus):                  0.135   Jarque-Bera (JB):                3.331\n",
      "Skew:                           0.423   Prob(JB):                        0.189\n",
      "Kurtosis:                       3.343   Cond. No.                         79.7\n",
      "==============================================================================\n",
      "\n",
      "Notes:\n",
      "[1] Standard Errors assume that the covariance matrix of the errors is correctly specified.\n"
     ]
    }
   ],
   "source": [
    "model = smf.ols(\"np.log(Brain) ~ np.log(Body) + np.log(Gestation) + np.log(Litter)\", data = df)\n",
    "results = model.fit()\n",
    "print(results.summary())"
   ]
  },
  {
   "cell_type": "markdown",
   "metadata": {
    "id": "qe6mecSzw9yH",
    "slideshow": {
     "slide_type": "skip"
    }
   },
   "source": [
    "We have convincing that the brain weight is associcated with either gestation period or litter size, even after accounting for the body weight (p-value<0.0001; extra sum of squares F-test). \n",
    "\n",
    "\n",
    "The litter size is associated with brain weight after accounting for body weight and gestation (two-sided p-value = 0.009).\n",
    "\n",
    "\n",
    "The gestation period is associated with brain weight after accounting for body weight and litter size (two-sided p-value = 0.004).\n",
    "\n",
    "\n",
    "\n",
    "\n"
   ]
  },
  {
   "cell_type": "code",
   "execution_count": null,
   "metadata": {},
   "outputs": [],
   "source": []
  }
 ],
 "metadata": {
  "celltoolbar": "Slideshow",
  "colab": {
   "provenance": []
  },
  "kernelspec": {
   "display_name": "Python 3 (ipykernel)",
   "language": "python",
   "name": "python3"
  },
  "language_info": {
   "codemirror_mode": {
    "name": "ipython",
    "version": 3
   },
   "file_extension": ".py",
   "mimetype": "text/x-python",
   "name": "python",
   "nbconvert_exporter": "python",
   "pygments_lexer": "ipython3",
   "version": "3.10.6"
  }
 },
 "nbformat": 4,
 "nbformat_minor": 1
}
