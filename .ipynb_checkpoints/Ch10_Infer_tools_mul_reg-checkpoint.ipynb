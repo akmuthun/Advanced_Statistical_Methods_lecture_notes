{
 "cells": [
  {
   "attachments": {},
   "cell_type": "markdown",
   "id": "665694df",
   "metadata": {},
   "source": [
    "## Case study: Galileo’s Data on the Motion of Falling Bodies—A Controlled Experiment\n",
    "In 1609 Galileo proved that the trajectory of a body falling with a horizontal velocity component is a parabola.\n",
    "He placed an object on an inclined table and measured the horizontal distance (units - punti) it moved from the table by varying heights.\n",
    "\n",
    "\n"
   ]
  },
  {
   "cell_type": "markdown",
   "id": "c5d2bd57",
   "metadata": {},
   "source": [
    "## Case Study: The Energy Costs of Echolocation by Bats—An Observational Study\n",
    "\n",
    "Zoologists measured the energy cost of echolocation and flight in bats, flight energy cost of non-echolocating bats and birds and their body weights. They wondered whether the combined energy costs of echolocation and flight in bats was the sum of the flight energy costs and the at-rest echolocation energy costs.\n"
   ]
  },
  {
   "cell_type": "code",
   "execution_count": 2,
   "id": "13003e9a",
   "metadata": {},
   "outputs": [],
   "source": [
    "import matplotlib.pyplot as plt\n",
    "import numpy as np\n",
    "import pandas as pd\n",
    "import scipy.stats\n",
    "import seaborn as sns\n",
    "import statsmodels.api as sm\n",
    "from scipy.stats import shapiro\n",
    "import statsmodels.formula.api as smf\n",
    "sns.set_style('whitegrid')"
   ]
  },
  {
   "cell_type": "code",
   "execution_count": 3,
   "id": "fd34bacf",
   "metadata": {},
   "outputs": [
    {
     "data": {
      "text/html": [
       "<div>\n",
       "<style scoped>\n",
       "    .dataframe tbody tr th:only-of-type {\n",
       "        vertical-align: middle;\n",
       "    }\n",
       "\n",
       "    .dataframe tbody tr th {\n",
       "        vertical-align: top;\n",
       "    }\n",
       "\n",
       "    .dataframe thead th {\n",
       "        text-align: right;\n",
       "    }\n",
       "</style>\n",
       "<table border=\"1\" class=\"dataframe\">\n",
       "  <thead>\n",
       "    <tr style=\"text-align: right;\">\n",
       "      <th></th>\n",
       "      <th>Mass</th>\n",
       "      <th>Type</th>\n",
       "      <th>Energy</th>\n",
       "    </tr>\n",
       "  </thead>\n",
       "  <tbody>\n",
       "    <tr>\n",
       "      <th>0</th>\n",
       "      <td>779.0</td>\n",
       "      <td>non-echolocating bats</td>\n",
       "      <td>43.70</td>\n",
       "    </tr>\n",
       "    <tr>\n",
       "      <th>1</th>\n",
       "      <td>628.0</td>\n",
       "      <td>non-echolocating bats</td>\n",
       "      <td>34.80</td>\n",
       "    </tr>\n",
       "    <tr>\n",
       "      <th>2</th>\n",
       "      <td>258.0</td>\n",
       "      <td>non-echolocating bats</td>\n",
       "      <td>23.30</td>\n",
       "    </tr>\n",
       "    <tr>\n",
       "      <th>3</th>\n",
       "      <td>315.0</td>\n",
       "      <td>non-echolocating bats</td>\n",
       "      <td>22.40</td>\n",
       "    </tr>\n",
       "    <tr>\n",
       "      <th>4</th>\n",
       "      <td>24.3</td>\n",
       "      <td>non-echolocating birds</td>\n",
       "      <td>2.46</td>\n",
       "    </tr>\n",
       "  </tbody>\n",
       "</table>\n",
       "</div>"
      ],
      "text/plain": [
       "    Mass                    Type  Energy\n",
       "0  779.0   non-echolocating bats   43.70\n",
       "1  628.0   non-echolocating bats   34.80\n",
       "2  258.0   non-echolocating bats   23.30\n",
       "3  315.0   non-echolocating bats   22.40\n",
       "4   24.3  non-echolocating birds    2.46"
      ]
     },
     "execution_count": 3,
     "metadata": {},
     "output_type": "execute_result"
    }
   ],
   "source": [
    "path = 'sleuth3csv/case1002.csv'\n",
    "df = pd.read_csv(path)\n",
    "df.head()"
   ]
  },
  {
   "cell_type": "code",
   "execution_count": null,
   "id": "81fa464e",
   "metadata": {},
   "outputs": [],
   "source": []
  }
 ],
 "metadata": {
  "kernelspec": {
   "display_name": "Python 3 (ipykernel)",
   "language": "python",
   "name": "python3"
  },
  "language_info": {
   "codemirror_mode": {
    "name": "ipython",
    "version": 3
   },
   "file_extension": ".py",
   "mimetype": "text/x-python",
   "name": "python",
   "nbconvert_exporter": "python",
   "pygments_lexer": "ipython3",
   "version": "3.10.6"
  }
 },
 "nbformat": 4,
 "nbformat_minor": 5
}
