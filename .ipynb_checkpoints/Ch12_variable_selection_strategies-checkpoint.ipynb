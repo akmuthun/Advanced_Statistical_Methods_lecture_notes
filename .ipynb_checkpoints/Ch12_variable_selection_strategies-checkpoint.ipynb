{
 "cells": [
  {
   "cell_type": "code",
   "execution_count": 9,
   "id": "3de705fe",
   "metadata": {
    "slideshow": {
     "slide_type": "slide"
    }
   },
   "outputs": [],
   "source": [
    "import matplotlib.pyplot as plt\n",
    "import numpy as np\n",
    "import pandas as pd\n",
    "import scipy.stats\n",
    "import seaborn as sns\n",
    "import statsmodels.api as sm\n",
    "from scipy.stats import shapiro\n",
    "import statsmodels.formula.api as smf\n",
    "sns.set_style('whitegrid')"
   ]
  },
  {
   "cell_type": "code",
   "execution_count": 50,
   "id": "ff3eca43",
   "metadata": {
    "slideshow": {
     "slide_type": "slide"
    }
   },
   "outputs": [
    {
     "data": {
      "text/html": [
       "<div>\n",
       "<style scoped>\n",
       "    .dataframe tbody tr th:only-of-type {\n",
       "        vertical-align: middle;\n",
       "    }\n",
       "\n",
       "    .dataframe tbody tr th {\n",
       "        vertical-align: top;\n",
       "    }\n",
       "\n",
       "    .dataframe thead th {\n",
       "        text-align: right;\n",
       "    }\n",
       "</style>\n",
       "<table border=\"1\" class=\"dataframe\">\n",
       "  <thead>\n",
       "    <tr style=\"text-align: right;\">\n",
       "      <th></th>\n",
       "      <th>Species</th>\n",
       "      <th>Brain</th>\n",
       "      <th>Body</th>\n",
       "      <th>Gestation</th>\n",
       "      <th>Litter</th>\n",
       "    </tr>\n",
       "  </thead>\n",
       "  <tbody>\n",
       "    <tr>\n",
       "      <th>0</th>\n",
       "      <td>Aardvark</td>\n",
       "      <td>9.6</td>\n",
       "      <td>2.20</td>\n",
       "      <td>31</td>\n",
       "      <td>5.0</td>\n",
       "    </tr>\n",
       "    <tr>\n",
       "      <th>1</th>\n",
       "      <td>Acouchis</td>\n",
       "      <td>9.9</td>\n",
       "      <td>0.78</td>\n",
       "      <td>98</td>\n",
       "      <td>1.2</td>\n",
       "    </tr>\n",
       "    <tr>\n",
       "      <th>2</th>\n",
       "      <td>African elephant</td>\n",
       "      <td>4480.0</td>\n",
       "      <td>2800.00</td>\n",
       "      <td>655</td>\n",
       "      <td>1.0</td>\n",
       "    </tr>\n",
       "    <tr>\n",
       "      <th>3</th>\n",
       "      <td>Agoutis</td>\n",
       "      <td>20.3</td>\n",
       "      <td>2.80</td>\n",
       "      <td>104</td>\n",
       "      <td>1.3</td>\n",
       "    </tr>\n",
       "    <tr>\n",
       "      <th>4</th>\n",
       "      <td>Axis deer</td>\n",
       "      <td>219.0</td>\n",
       "      <td>89.00</td>\n",
       "      <td>218</td>\n",
       "      <td>1.0</td>\n",
       "    </tr>\n",
       "  </tbody>\n",
       "</table>\n",
       "</div>"
      ],
      "text/plain": [
       "            Species   Brain     Body  Gestation  Litter\n",
       "0          Aardvark     9.6     2.20         31     5.0\n",
       "1          Acouchis     9.9     0.78         98     1.2\n",
       "2  African elephant  4480.0  2800.00        655     1.0\n",
       "3           Agoutis    20.3     2.80        104     1.3\n",
       "4         Axis deer   219.0    89.00        218     1.0"
      ]
     },
     "execution_count": 50,
     "metadata": {},
     "output_type": "execute_result"
    }
   ],
   "source": [
    "path = 'sleuth3csv/case0902.csv'\n",
    "df = pd.read_csv(path)\n",
    "df.head()"
   ]
  },
  {
   "cell_type": "markdown",
   "id": "a5299b92",
   "metadata": {
    "slideshow": {
     "slide_type": "slide"
    }
   },
   "source": [
    "## Partial residuals\n",
    "indicates the association of two variables, after getting the effect of a third variable out of the way.\n",
    "\n",
    "Let's find the association of log Brain size (lbrain) and log Gestation (lgest) period after removing the effect of log body size (lbody).\n",
    "\n",
    "i.e. Partial residual plot of log Brain size vs log Gestation.\n",
    "\n",
    "Steps:\n",
    "\n",
    "1) Obtain the estimated coefficients in the linear regression of lbrain on lbody and lgest: $\\mu\\{lbrain|lbody, lgest\\} = \\beta_0+\\beta_1 lbody + \\beta_2 lgest$.\n",
    "\n",
    "2) Compute the partial residuals as $pres = lbrain-\\hat{\\beta}_0-\\hat{\\beta}_1 lbody$.\n",
    "* or $pres = res+\\hat{\\beta}_2 lgest$\n",
    "\n",
    "3) Plot the partial residuals vs lgest"
   ]
  },
  {
   "cell_type": "code",
   "execution_count": 52,
   "id": "21f6c9c3",
   "metadata": {
    "slideshow": {
     "slide_type": "slide"
    }
   },
   "outputs": [
    {
     "name": "stdout",
     "output_type": "stream",
     "text": [
      "                            OLS Regression Results                            \n",
      "==============================================================================\n",
      "Dep. Variable:          np.log(Brain)   R-squared:                       0.950\n",
      "Model:                            OLS   Adj. R-squared:                  0.949\n",
      "Method:                 Least Squares   F-statistic:                     885.2\n",
      "Date:                Sun, 09 Apr 2023   Prob (F-statistic):           2.91e-61\n",
      "Time:                        13:16:12   Log-Likelihood:                -66.254\n",
      "No. Observations:                  96   AIC:                             138.5\n",
      "Df Residuals:                      93   BIC:                             146.2\n",
      "Df Model:                           2                                         \n",
      "Covariance Type:            nonrobust                                         \n",
      "=====================================================================================\n",
      "                        coef    std err          t      P>|t|      [0.025      0.975]\n",
      "-------------------------------------------------------------------------------------\n",
      "Intercept            -0.4573      0.458     -0.997      0.321      -1.368       0.453\n",
      "np.log(Body)          0.5512      0.032     17.033      0.000       0.487       0.615\n",
      "np.log(Gestation)     0.6678      0.109      6.141      0.000       0.452       0.884\n",
      "==============================================================================\n",
      "Omnibus:                        2.105   Durbin-Watson:                   2.014\n",
      "Prob(Omnibus):                  0.349   Jarque-Bera (JB):                1.663\n",
      "Skew:                           0.315   Prob(JB):                        0.435\n",
      "Kurtosis:                       3.134   Cond. No.                         53.3\n",
      "==============================================================================\n",
      "\n",
      "Notes:\n",
      "[1] Standard Errors assume that the covariance matrix of the errors is correctly specified.\n"
     ]
    }
   ],
   "source": [
    "model = smf.ols(\"np.log(Brain) ~ np.log(Body)+np.log(Gestation)\", data = df)\n",
    "results = model.fit()\n",
    "print(results.summary())"
   ]
  },
  {
   "cell_type": "code",
   "execution_count": 53,
   "id": "b525b0dd",
   "metadata": {
    "slideshow": {
     "slide_type": "slide"
    }
   },
   "outputs": [
    {
     "data": {
      "image/png": "[encoded data removed]",
      "text/plain": [
       "<Figure size 2000x500 with 2 Axes>"
      ]
     },
     "metadata": {},
     "output_type": "display_data"
    }
   ],
   "source": [
    "fig, axes = plt.subplots(ncols = 2, figsize = (20,5), sharey=True)\n",
    "sns.scatterplot(x = np.log(df[\"Gestation\"]), y = np.log(df[\"Brain\"]), ax = axes[0])\n",
    "sns.scatterplot(x = np.log(df[\"Gestation\"]) , y = results.resid+0.6678*np.log(df[\"Gestation\"]), ax = axes[1]).set(title='Partial residual plot')\n",
    "plt.show()"
   ]
  },
  {
   "cell_type": "markdown",
   "id": "7af46336",
   "metadata": {
    "slideshow": {
     "slide_type": "slide"
    }
   },
   "source": [
    "After getting the effect of log body weight out of the way, less of an association remains between lbrain and lgest.\n",
    "\n",
    "But some association does persist and a linear term should be adequate to model it."
   ]
  },
  {
   "cell_type": "markdown",
   "id": "dfc971dd",
   "metadata": {
    "slideshow": {
     "slide_type": "slide"
    }
   },
   "source": [
    "## State Average SAT Scores"
   ]
  },
  {
   "cell_type": "code",
   "execution_count": 10,
   "id": "6b76d9b9",
   "metadata": {
    "slideshow": {
     "slide_type": "slide"
    }
   },
   "outputs": [
    {
     "data": {
      "text/html": [
       "<div>\n",
       "<style scoped>\n",
       "    .dataframe tbody tr th:only-of-type {\n",
       "        vertical-align: middle;\n",
       "    }\n",
       "\n",
       "    .dataframe tbody tr th {\n",
       "        vertical-align: top;\n",
       "    }\n",
       "\n",
       "    .dataframe thead th {\n",
       "        text-align: right;\n",
       "    }\n",
       "</style>\n",
       "<table border=\"1\" class=\"dataframe\">\n",
       "  <thead>\n",
       "    <tr style=\"text-align: right;\">\n",
       "      <th></th>\n",
       "      <th>State</th>\n",
       "      <th>SAT</th>\n",
       "      <th>Takers</th>\n",
       "      <th>Income</th>\n",
       "      <th>Years</th>\n",
       "      <th>Public</th>\n",
       "      <th>Expend</th>\n",
       "      <th>Rank</th>\n",
       "    </tr>\n",
       "  </thead>\n",
       "  <tbody>\n",
       "    <tr>\n",
       "      <th>0</th>\n",
       "      <td>Iowa</td>\n",
       "      <td>1088</td>\n",
       "      <td>3</td>\n",
       "      <td>326</td>\n",
       "      <td>16.79</td>\n",
       "      <td>87.8</td>\n",
       "      <td>25.60</td>\n",
       "      <td>89.7</td>\n",
       "    </tr>\n",
       "    <tr>\n",
       "      <th>1</th>\n",
       "      <td>SouthDakota</td>\n",
       "      <td>1075</td>\n",
       "      <td>2</td>\n",
       "      <td>264</td>\n",
       "      <td>16.07</td>\n",
       "      <td>86.2</td>\n",
       "      <td>19.95</td>\n",
       "      <td>90.6</td>\n",
       "    </tr>\n",
       "    <tr>\n",
       "      <th>2</th>\n",
       "      <td>NorthDakota</td>\n",
       "      <td>1068</td>\n",
       "      <td>3</td>\n",
       "      <td>317</td>\n",
       "      <td>16.57</td>\n",
       "      <td>88.3</td>\n",
       "      <td>20.62</td>\n",
       "      <td>89.8</td>\n",
       "    </tr>\n",
       "    <tr>\n",
       "      <th>3</th>\n",
       "      <td>Kansas</td>\n",
       "      <td>1045</td>\n",
       "      <td>5</td>\n",
       "      <td>338</td>\n",
       "      <td>16.30</td>\n",
       "      <td>83.9</td>\n",
       "      <td>27.14</td>\n",
       "      <td>86.3</td>\n",
       "    </tr>\n",
       "    <tr>\n",
       "      <th>4</th>\n",
       "      <td>Nebraska</td>\n",
       "      <td>1045</td>\n",
       "      <td>5</td>\n",
       "      <td>293</td>\n",
       "      <td>17.25</td>\n",
       "      <td>83.6</td>\n",
       "      <td>21.05</td>\n",
       "      <td>88.5</td>\n",
       "    </tr>\n",
       "    <tr>\n",
       "      <th>5</th>\n",
       "      <td>Montana</td>\n",
       "      <td>1033</td>\n",
       "      <td>8</td>\n",
       "      <td>263</td>\n",
       "      <td>15.91</td>\n",
       "      <td>93.7</td>\n",
       "      <td>29.48</td>\n",
       "      <td>86.4</td>\n",
       "    </tr>\n",
       "    <tr>\n",
       "      <th>6</th>\n",
       "      <td>Minnesota</td>\n",
       "      <td>1028</td>\n",
       "      <td>7</td>\n",
       "      <td>343</td>\n",
       "      <td>17.41</td>\n",
       "      <td>78.3</td>\n",
       "      <td>24.84</td>\n",
       "      <td>83.4</td>\n",
       "    </tr>\n",
       "    <tr>\n",
       "      <th>7</th>\n",
       "      <td>Utah</td>\n",
       "      <td>1022</td>\n",
       "      <td>4</td>\n",
       "      <td>333</td>\n",
       "      <td>16.57</td>\n",
       "      <td>75.2</td>\n",
       "      <td>17.42</td>\n",
       "      <td>85.9</td>\n",
       "    </tr>\n",
       "    <tr>\n",
       "      <th>8</th>\n",
       "      <td>Wyoming</td>\n",
       "      <td>1017</td>\n",
       "      <td>5</td>\n",
       "      <td>328</td>\n",
       "      <td>16.01</td>\n",
       "      <td>97.0</td>\n",
       "      <td>25.96</td>\n",
       "      <td>87.5</td>\n",
       "    </tr>\n",
       "    <tr>\n",
       "      <th>9</th>\n",
       "      <td>Wisconsin</td>\n",
       "      <td>1011</td>\n",
       "      <td>10</td>\n",
       "      <td>304</td>\n",
       "      <td>16.85</td>\n",
       "      <td>77.3</td>\n",
       "      <td>27.69</td>\n",
       "      <td>84.2</td>\n",
       "    </tr>\n",
       "    <tr>\n",
       "      <th>10</th>\n",
       "      <td>Oklahoma</td>\n",
       "      <td>1001</td>\n",
       "      <td>5</td>\n",
       "      <td>358</td>\n",
       "      <td>15.95</td>\n",
       "      <td>74.2</td>\n",
       "      <td>20.07</td>\n",
       "      <td>85.6</td>\n",
       "    </tr>\n",
       "    <tr>\n",
       "      <th>11</th>\n",
       "      <td>Arkansas</td>\n",
       "      <td>999</td>\n",
       "      <td>4</td>\n",
       "      <td>295</td>\n",
       "      <td>15.49</td>\n",
       "      <td>86.4</td>\n",
       "      <td>15.71</td>\n",
       "      <td>89.2</td>\n",
       "    </tr>\n",
       "    <tr>\n",
       "      <th>12</th>\n",
       "      <td>Tennessee</td>\n",
       "      <td>999</td>\n",
       "      <td>9</td>\n",
       "      <td>330</td>\n",
       "      <td>15.72</td>\n",
       "      <td>61.2</td>\n",
       "      <td>14.58</td>\n",
       "      <td>83.4</td>\n",
       "    </tr>\n",
       "    <tr>\n",
       "      <th>13</th>\n",
       "      <td>NewMexico</td>\n",
       "      <td>997</td>\n",
       "      <td>8</td>\n",
       "      <td>316</td>\n",
       "      <td>15.92</td>\n",
       "      <td>79.5</td>\n",
       "      <td>22.19</td>\n",
       "      <td>83.7</td>\n",
       "    </tr>\n",
       "    <tr>\n",
       "      <th>14</th>\n",
       "      <td>Idaho</td>\n",
       "      <td>995</td>\n",
       "      <td>7</td>\n",
       "      <td>285</td>\n",
       "      <td>16.18</td>\n",
       "      <td>92.1</td>\n",
       "      <td>17.80</td>\n",
       "      <td>85.9</td>\n",
       "    </tr>\n",
       "    <tr>\n",
       "      <th>15</th>\n",
       "      <td>Mississippi</td>\n",
       "      <td>988</td>\n",
       "      <td>3</td>\n",
       "      <td>315</td>\n",
       "      <td>16.76</td>\n",
       "      <td>67.9</td>\n",
       "      <td>15.36</td>\n",
       "      <td>90.1</td>\n",
       "    </tr>\n",
       "    <tr>\n",
       "      <th>16</th>\n",
       "      <td>Kentucky</td>\n",
       "      <td>985</td>\n",
       "      <td>6</td>\n",
       "      <td>330</td>\n",
       "      <td>16.61</td>\n",
       "      <td>71.4</td>\n",
       "      <td>15.69</td>\n",
       "      <td>86.4</td>\n",
       "    </tr>\n",
       "    <tr>\n",
       "      <th>17</th>\n",
       "      <td>Colorado</td>\n",
       "      <td>983</td>\n",
       "      <td>16</td>\n",
       "      <td>333</td>\n",
       "      <td>16.83</td>\n",
       "      <td>88.3</td>\n",
       "      <td>26.56</td>\n",
       "      <td>81.8</td>\n",
       "    </tr>\n",
       "    <tr>\n",
       "      <th>18</th>\n",
       "      <td>Washington</td>\n",
       "      <td>982</td>\n",
       "      <td>19</td>\n",
       "      <td>309</td>\n",
       "      <td>16.23</td>\n",
       "      <td>87.5</td>\n",
       "      <td>26.53</td>\n",
       "      <td>83.2</td>\n",
       "    </tr>\n",
       "    <tr>\n",
       "      <th>19</th>\n",
       "      <td>Arizona</td>\n",
       "      <td>981</td>\n",
       "      <td>11</td>\n",
       "      <td>314</td>\n",
       "      <td>15.98</td>\n",
       "      <td>80.9</td>\n",
       "      <td>19.14</td>\n",
       "      <td>84.3</td>\n",
       "    </tr>\n",
       "    <tr>\n",
       "      <th>20</th>\n",
       "      <td>Illinois</td>\n",
       "      <td>977</td>\n",
       "      <td>14</td>\n",
       "      <td>347</td>\n",
       "      <td>15.80</td>\n",
       "      <td>74.6</td>\n",
       "      <td>24.41</td>\n",
       "      <td>78.7</td>\n",
       "    </tr>\n",
       "    <tr>\n",
       "      <th>21</th>\n",
       "      <td>Louisiana</td>\n",
       "      <td>975</td>\n",
       "      <td>5</td>\n",
       "      <td>394</td>\n",
       "      <td>16.85</td>\n",
       "      <td>44.8</td>\n",
       "      <td>19.72</td>\n",
       "      <td>82.9</td>\n",
       "    </tr>\n",
       "    <tr>\n",
       "      <th>22</th>\n",
       "      <td>Missouri</td>\n",
       "      <td>975</td>\n",
       "      <td>10</td>\n",
       "      <td>322</td>\n",
       "      <td>16.42</td>\n",
       "      <td>67.7</td>\n",
       "      <td>20.79</td>\n",
       "      <td>80.6</td>\n",
       "    </tr>\n",
       "    <tr>\n",
       "      <th>23</th>\n",
       "      <td>Michigan</td>\n",
       "      <td>973</td>\n",
       "      <td>10</td>\n",
       "      <td>335</td>\n",
       "      <td>16.50</td>\n",
       "      <td>80.7</td>\n",
       "      <td>24.61</td>\n",
       "      <td>81.8</td>\n",
       "    </tr>\n",
       "    <tr>\n",
       "      <th>24</th>\n",
       "      <td>WestVirginia</td>\n",
       "      <td>968</td>\n",
       "      <td>7</td>\n",
       "      <td>292</td>\n",
       "      <td>17.08</td>\n",
       "      <td>90.6</td>\n",
       "      <td>18.16</td>\n",
       "      <td>86.2</td>\n",
       "    </tr>\n",
       "    <tr>\n",
       "      <th>25</th>\n",
       "      <td>Alabama</td>\n",
       "      <td>964</td>\n",
       "      <td>6</td>\n",
       "      <td>313</td>\n",
       "      <td>16.37</td>\n",
       "      <td>69.6</td>\n",
       "      <td>13.84</td>\n",
       "      <td>83.9</td>\n",
       "    </tr>\n",
       "    <tr>\n",
       "      <th>26</th>\n",
       "      <td>Ohio</td>\n",
       "      <td>958</td>\n",
       "      <td>16</td>\n",
       "      <td>306</td>\n",
       "      <td>16.52</td>\n",
       "      <td>71.5</td>\n",
       "      <td>21.43</td>\n",
       "      <td>79.5</td>\n",
       "    </tr>\n",
       "    <tr>\n",
       "      <th>27</th>\n",
       "      <td>NewHampshire</td>\n",
       "      <td>925</td>\n",
       "      <td>56</td>\n",
       "      <td>248</td>\n",
       "      <td>16.35</td>\n",
       "      <td>78.1</td>\n",
       "      <td>20.33</td>\n",
       "      <td>73.6</td>\n",
       "    </tr>\n",
       "    <tr>\n",
       "      <th>28</th>\n",
       "      <td>Alaska</td>\n",
       "      <td>923</td>\n",
       "      <td>31</td>\n",
       "      <td>401</td>\n",
       "      <td>15.32</td>\n",
       "      <td>96.5</td>\n",
       "      <td>50.10</td>\n",
       "      <td>79.6</td>\n",
       "    </tr>\n",
       "    <tr>\n",
       "      <th>29</th>\n",
       "      <td>Nevada</td>\n",
       "      <td>917</td>\n",
       "      <td>18</td>\n",
       "      <td>288</td>\n",
       "      <td>14.73</td>\n",
       "      <td>89.1</td>\n",
       "      <td>21.79</td>\n",
       "      <td>81.1</td>\n",
       "    </tr>\n",
       "    <tr>\n",
       "      <th>30</th>\n",
       "      <td>Oregon</td>\n",
       "      <td>908</td>\n",
       "      <td>40</td>\n",
       "      <td>261</td>\n",
       "      <td>14.48</td>\n",
       "      <td>92.1</td>\n",
       "      <td>30.49</td>\n",
       "      <td>79.3</td>\n",
       "    </tr>\n",
       "    <tr>\n",
       "      <th>31</th>\n",
       "      <td>Vermont</td>\n",
       "      <td>904</td>\n",
       "      <td>54</td>\n",
       "      <td>225</td>\n",
       "      <td>16.50</td>\n",
       "      <td>84.2</td>\n",
       "      <td>20.17</td>\n",
       "      <td>75.8</td>\n",
       "    </tr>\n",
       "    <tr>\n",
       "      <th>32</th>\n",
       "      <td>California</td>\n",
       "      <td>899</td>\n",
       "      <td>36</td>\n",
       "      <td>293</td>\n",
       "      <td>15.52</td>\n",
       "      <td>83.0</td>\n",
       "      <td>25.94</td>\n",
       "      <td>77.5</td>\n",
       "    </tr>\n",
       "    <tr>\n",
       "      <th>33</th>\n",
       "      <td>Delaware</td>\n",
       "      <td>897</td>\n",
       "      <td>42</td>\n",
       "      <td>277</td>\n",
       "      <td>16.95</td>\n",
       "      <td>67.9</td>\n",
       "      <td>27.81</td>\n",
       "      <td>71.4</td>\n",
       "    </tr>\n",
       "    <tr>\n",
       "      <th>34</th>\n",
       "      <td>Connecticut</td>\n",
       "      <td>896</td>\n",
       "      <td>69</td>\n",
       "      <td>287</td>\n",
       "      <td>16.75</td>\n",
       "      <td>76.8</td>\n",
       "      <td>26.97</td>\n",
       "      <td>69.8</td>\n",
       "    </tr>\n",
       "    <tr>\n",
       "      <th>35</th>\n",
       "      <td>NewYork</td>\n",
       "      <td>896</td>\n",
       "      <td>59</td>\n",
       "      <td>236</td>\n",
       "      <td>16.86</td>\n",
       "      <td>80.4</td>\n",
       "      <td>33.58</td>\n",
       "      <td>70.5</td>\n",
       "    </tr>\n",
       "    <tr>\n",
       "      <th>36</th>\n",
       "      <td>Maine</td>\n",
       "      <td>890</td>\n",
       "      <td>46</td>\n",
       "      <td>208</td>\n",
       "      <td>16.05</td>\n",
       "      <td>85.7</td>\n",
       "      <td>20.55</td>\n",
       "      <td>74.6</td>\n",
       "    </tr>\n",
       "    <tr>\n",
       "      <th>37</th>\n",
       "      <td>Florida</td>\n",
       "      <td>889</td>\n",
       "      <td>39</td>\n",
       "      <td>255</td>\n",
       "      <td>15.91</td>\n",
       "      <td>80.5</td>\n",
       "      <td>22.62</td>\n",
       "      <td>74.6</td>\n",
       "    </tr>\n",
       "    <tr>\n",
       "      <th>38</th>\n",
       "      <td>Maryland</td>\n",
       "      <td>889</td>\n",
       "      <td>50</td>\n",
       "      <td>312</td>\n",
       "      <td>16.90</td>\n",
       "      <td>80.4</td>\n",
       "      <td>25.41</td>\n",
       "      <td>71.5</td>\n",
       "    </tr>\n",
       "    <tr>\n",
       "      <th>39</th>\n",
       "      <td>Virginia</td>\n",
       "      <td>888</td>\n",
       "      <td>52</td>\n",
       "      <td>295</td>\n",
       "      <td>16.08</td>\n",
       "      <td>88.8</td>\n",
       "      <td>22.23</td>\n",
       "      <td>72.4</td>\n",
       "    </tr>\n",
       "    <tr>\n",
       "      <th>40</th>\n",
       "      <td>Massachusetts</td>\n",
       "      <td>888</td>\n",
       "      <td>65</td>\n",
       "      <td>246</td>\n",
       "      <td>16.79</td>\n",
       "      <td>80.7</td>\n",
       "      <td>31.74</td>\n",
       "      <td>69.9</td>\n",
       "    </tr>\n",
       "    <tr>\n",
       "      <th>41</th>\n",
       "      <td>Pennsylvania</td>\n",
       "      <td>885</td>\n",
       "      <td>50</td>\n",
       "      <td>241</td>\n",
       "      <td>17.27</td>\n",
       "      <td>78.6</td>\n",
       "      <td>27.98</td>\n",
       "      <td>73.4</td>\n",
       "    </tr>\n",
       "    <tr>\n",
       "      <th>42</th>\n",
       "      <td>RhodeIsland</td>\n",
       "      <td>877</td>\n",
       "      <td>59</td>\n",
       "      <td>228</td>\n",
       "      <td>16.67</td>\n",
       "      <td>79.7</td>\n",
       "      <td>25.59</td>\n",
       "      <td>71.4</td>\n",
       "    </tr>\n",
       "    <tr>\n",
       "      <th>43</th>\n",
       "      <td>NewJersey</td>\n",
       "      <td>869</td>\n",
       "      <td>64</td>\n",
       "      <td>269</td>\n",
       "      <td>16.37</td>\n",
       "      <td>80.6</td>\n",
       "      <td>27.91</td>\n",
       "      <td>69.8</td>\n",
       "    </tr>\n",
       "    <tr>\n",
       "      <th>44</th>\n",
       "      <td>Texas</td>\n",
       "      <td>868</td>\n",
       "      <td>32</td>\n",
       "      <td>303</td>\n",
       "      <td>14.95</td>\n",
       "      <td>91.7</td>\n",
       "      <td>19.55</td>\n",
       "      <td>76.4</td>\n",
       "    </tr>\n",
       "    <tr>\n",
       "      <th>45</th>\n",
       "      <td>Indiana</td>\n",
       "      <td>860</td>\n",
       "      <td>48</td>\n",
       "      <td>258</td>\n",
       "      <td>14.39</td>\n",
       "      <td>90.2</td>\n",
       "      <td>17.93</td>\n",
       "      <td>74.1</td>\n",
       "    </tr>\n",
       "    <tr>\n",
       "      <th>46</th>\n",
       "      <td>Hawaii</td>\n",
       "      <td>857</td>\n",
       "      <td>47</td>\n",
       "      <td>277</td>\n",
       "      <td>16.40</td>\n",
       "      <td>67.6</td>\n",
       "      <td>21.21</td>\n",
       "      <td>69.9</td>\n",
       "    </tr>\n",
       "    <tr>\n",
       "      <th>47</th>\n",
       "      <td>NorthCarolina</td>\n",
       "      <td>827</td>\n",
       "      <td>47</td>\n",
       "      <td>224</td>\n",
       "      <td>15.31</td>\n",
       "      <td>92.8</td>\n",
       "      <td>19.92</td>\n",
       "      <td>75.3</td>\n",
       "    </tr>\n",
       "    <tr>\n",
       "      <th>48</th>\n",
       "      <td>Georgia</td>\n",
       "      <td>823</td>\n",
       "      <td>51</td>\n",
       "      <td>250</td>\n",
       "      <td>15.55</td>\n",
       "      <td>86.5</td>\n",
       "      <td>16.52</td>\n",
       "      <td>74.0</td>\n",
       "    </tr>\n",
       "    <tr>\n",
       "      <th>49</th>\n",
       "      <td>SouthCarolina</td>\n",
       "      <td>790</td>\n",
       "      <td>48</td>\n",
       "      <td>214</td>\n",
       "      <td>15.42</td>\n",
       "      <td>88.1</td>\n",
       "      <td>15.60</td>\n",
       "      <td>74.0</td>\n",
       "    </tr>\n",
       "  </tbody>\n",
       "</table>\n",
       "</div>"
      ],
      "text/plain": [
       "            State   SAT  Takers  Income  Years  Public  Expend  Rank\n",
       "0            Iowa  1088       3     326  16.79    87.8   25.60  89.7\n",
       "1     SouthDakota  1075       2     264  16.07    86.2   19.95  90.6\n",
       "2     NorthDakota  1068       3     317  16.57    88.3   20.62  89.8\n",
       "3          Kansas  1045       5     338  16.30    83.9   27.14  86.3\n",
       "4        Nebraska  1045       5     293  17.25    83.6   21.05  88.5\n",
       "5         Montana  1033       8     263  15.91    93.7   29.48  86.4\n",
       "6       Minnesota  1028       7     343  17.41    78.3   24.84  83.4\n",
       "7            Utah  1022       4     333  16.57    75.2   17.42  85.9\n",
       "8         Wyoming  1017       5     328  16.01    97.0   25.96  87.5\n",
       "9       Wisconsin  1011      10     304  16.85    77.3   27.69  84.2\n",
       "10       Oklahoma  1001       5     358  15.95    74.2   20.07  85.6\n",
       "11       Arkansas   999       4     295  15.49    86.4   15.71  89.2\n",
       "12      Tennessee   999       9     330  15.72    61.2   14.58  83.4\n",
       "13      NewMexico   997       8     316  15.92    79.5   22.19  83.7\n",
       "14          Idaho   995       7     285  16.18    92.1   17.80  85.9\n",
       "15    Mississippi   988       3     315  16.76    67.9   15.36  90.1\n",
       "16       Kentucky   985       6     330  16.61    71.4   15.69  86.4\n",
       "17       Colorado   983      16     333  16.83    88.3   26.56  81.8\n",
       "18     Washington   982      19     309  16.23    87.5   26.53  83.2\n",
       "19        Arizona   981      11     314  15.98    80.9   19.14  84.3\n",
       "20       Illinois   977      14     347  15.80    74.6   24.41  78.7\n",
       "21      Louisiana   975       5     394  16.85    44.8   19.72  82.9\n",
       "22       Missouri   975      10     322  16.42    67.7   20.79  80.6\n",
       "23       Michigan   973      10     335  16.50    80.7   24.61  81.8\n",
       "24   WestVirginia   968       7     292  17.08    90.6   18.16  86.2\n",
       "25        Alabama   964       6     313  16.37    69.6   13.84  83.9\n",
       "26           Ohio   958      16     306  16.52    71.5   21.43  79.5\n",
       "27   NewHampshire   925      56     248  16.35    78.1   20.33  73.6\n",
       "28         Alaska   923      31     401  15.32    96.5   50.10  79.6\n",
       "29         Nevada   917      18     288  14.73    89.1   21.79  81.1\n",
       "30         Oregon   908      40     261  14.48    92.1   30.49  79.3\n",
       "31        Vermont   904      54     225  16.50    84.2   20.17  75.8\n",
       "32     California   899      36     293  15.52    83.0   25.94  77.5\n",
       "33       Delaware   897      42     277  16.95    67.9   27.81  71.4\n",
       "34    Connecticut   896      69     287  16.75    76.8   26.97  69.8\n",
       "35        NewYork   896      59     236  16.86    80.4   33.58  70.5\n",
       "36          Maine   890      46     208  16.05    85.7   20.55  74.6\n",
       "37        Florida   889      39     255  15.91    80.5   22.62  74.6\n",
       "38       Maryland   889      50     312  16.90    80.4   25.41  71.5\n",
       "39       Virginia   888      52     295  16.08    88.8   22.23  72.4\n",
       "40  Massachusetts   888      65     246  16.79    80.7   31.74  69.9\n",
       "41   Pennsylvania   885      50     241  17.27    78.6   27.98  73.4\n",
       "42    RhodeIsland   877      59     228  16.67    79.7   25.59  71.4\n",
       "43      NewJersey   869      64     269  16.37    80.6   27.91  69.8\n",
       "44          Texas   868      32     303  14.95    91.7   19.55  76.4\n",
       "45        Indiana   860      48     258  14.39    90.2   17.93  74.1\n",
       "46         Hawaii   857      47     277  16.40    67.6   21.21  69.9\n",
       "47  NorthCarolina   827      47     224  15.31    92.8   19.92  75.3\n",
       "48        Georgia   823      51     250  15.55    86.5   16.52  74.0\n",
       "49  SouthCarolina   790      48     214  15.42    88.1   15.60  74.0"
      ]
     },
     "metadata": {},
     "output_type": "display_data"
    }
   ],
   "source": [
    "path = 'sleuth3csv/case1201.csv'\n",
    "df = pd.read_csv(path)\n",
    "display(df)"
   ]
  },
  {
   "cell_type": "markdown",
   "id": "86ab15ea",
   "metadata": {
    "slideshow": {
     "slide_type": "slide"
    }
   },
   "source": [
    "Data is from the year 1982.\n",
    "\n",
    "***Takers*** - percentage of the total eligible students (high school seniors) in the state who took the exam.\n",
    "\n",
    "***Income*** - median income of families of test-takers, in hundreds of dollars.\n",
    "\n",
    "***Years*** - average number of years that the test-takers had formal studies in social sciences, natural sciences, and humanities.\n",
    "\n",
    "***Public*** - percentage of the test-takers who attended public secondary schools.\n",
    "\n",
    "***Expend*** - total state expenditure on secondary schools, expressed in hundreds of dollars per student.\n",
    "\n",
    "***Rank*** - median percentile ranking of the test-takers within their secondary school classes."
   ]
  },
  {
   "cell_type": "code",
   "execution_count": 8,
   "id": "0f5a2dc0",
   "metadata": {
    "slideshow": {
     "slide_type": "slide"
    }
   },
   "outputs": [
    {
     "name": "stdout",
     "output_type": "stream",
     "text": [
      "            State  SAT  Takers  Income  Years  Public  Expend  Rank\n",
      "49  SouthCarolina  790      48     214  15.42    88.1    15.6  74.0\n",
      "  State   SAT  Takers  Income  Years  Public  Expend  Rank\n",
      "0  Iowa  1088       3     326  16.79    87.8    25.6  89.7\n"
     ]
    }
   ],
   "source": [
    "## out of a possible 1600\n",
    "print(df.query('SAT == SAT.min()'))\n",
    "print(df.query('SAT == SAT.max()'))"
   ]
  },
  {
   "cell_type": "markdown",
   "id": "1c6ca1a4",
   "metadata": {
    "slideshow": {
     "slide_type": "slide"
    }
   },
   "source": [
    "Note that the states with high average (mostly midwestern states) SATs had low percentages of takers.\n",
    "\n",
    "Explanation: Only their best students planning to attend college out of state take the SAT exams."
   ]
  },
  {
   "cell_type": "markdown",
   "id": "e0800f6e",
   "metadata": {
    "slideshow": {
     "slide_type": "slide"
    }
   },
   "source": [
    "## Research questions:\n",
    "\n",
    "1) After accounting for the percentage of takers and the median class rank of the takers, \n",
    "\n",
    "* which variables are associated with state SAT scores?\n",
    "\n",
    "* how do the states rank?\n",
    "\n",
    "2) Which states perform best for the amount of money they spend?"
   ]
  },
  {
   "cell_type": "markdown",
   "id": "bbb07ab2",
   "metadata": {
    "slideshow": {
     "slide_type": "slide"
    }
   },
   "source": [
    "## Sex Discrimination in Employment\n",
    "Data on employees from one job category of a bank that was sued for sex discrimination. These are the same 32 male and 61 female employees, hired between 1965 and 1975."
   ]
  },
  {
   "cell_type": "code",
   "execution_count": 11,
   "id": "eb580f1a",
   "metadata": {
    "slideshow": {
     "slide_type": "slide"
    }
   },
   "outputs": [
    {
     "data": {
      "text/html": [
       "<div>\n",
       "<style scoped>\n",
       "    .dataframe tbody tr th:only-of-type {\n",
       "        vertical-align: middle;\n",
       "    }\n",
       "\n",
       "    .dataframe tbody tr th {\n",
       "        vertical-align: top;\n",
       "    }\n",
       "\n",
       "    .dataframe thead th {\n",
       "        text-align: right;\n",
       "    }\n",
       "</style>\n",
       "<table border=\"1\" class=\"dataframe\">\n",
       "  <thead>\n",
       "    <tr style=\"text-align: right;\">\n",
       "      <th></th>\n",
       "      <th>Bsal</th>\n",
       "      <th>Sal77</th>\n",
       "      <th>Sex</th>\n",
       "      <th>Senior</th>\n",
       "      <th>Age</th>\n",
       "      <th>Educ</th>\n",
       "      <th>Exper</th>\n",
       "    </tr>\n",
       "  </thead>\n",
       "  <tbody>\n",
       "    <tr>\n",
       "      <th>0</th>\n",
       "      <td>5040</td>\n",
       "      <td>12420</td>\n",
       "      <td>Male</td>\n",
       "      <td>96</td>\n",
       "      <td>329</td>\n",
       "      <td>15</td>\n",
       "      <td>14.0</td>\n",
       "    </tr>\n",
       "    <tr>\n",
       "      <th>1</th>\n",
       "      <td>6300</td>\n",
       "      <td>12060</td>\n",
       "      <td>Male</td>\n",
       "      <td>82</td>\n",
       "      <td>357</td>\n",
       "      <td>15</td>\n",
       "      <td>72.0</td>\n",
       "    </tr>\n",
       "    <tr>\n",
       "      <th>2</th>\n",
       "      <td>6000</td>\n",
       "      <td>15120</td>\n",
       "      <td>Male</td>\n",
       "      <td>67</td>\n",
       "      <td>315</td>\n",
       "      <td>15</td>\n",
       "      <td>35.5</td>\n",
       "    </tr>\n",
       "    <tr>\n",
       "      <th>3</th>\n",
       "      <td>6000</td>\n",
       "      <td>16320</td>\n",
       "      <td>Male</td>\n",
       "      <td>97</td>\n",
       "      <td>354</td>\n",
       "      <td>12</td>\n",
       "      <td>24.0</td>\n",
       "    </tr>\n",
       "    <tr>\n",
       "      <th>4</th>\n",
       "      <td>6000</td>\n",
       "      <td>12300</td>\n",
       "      <td>Male</td>\n",
       "      <td>66</td>\n",
       "      <td>351</td>\n",
       "      <td>12</td>\n",
       "      <td>56.0</td>\n",
       "    </tr>\n",
       "  </tbody>\n",
       "</table>\n",
       "</div>"
      ],
      "text/plain": [
       "   Bsal  Sal77   Sex  Senior  Age  Educ  Exper\n",
       "0  5040  12420  Male      96  329    15   14.0\n",
       "1  6300  12060  Male      82  357    15   72.0\n",
       "2  6000  15120  Male      67  315    15   35.5\n",
       "3  6000  16320  Male      97  354    12   24.0\n",
       "4  6000  12300  Male      66  351    12   56.0"
      ]
     },
     "execution_count": 11,
     "metadata": {},
     "output_type": "execute_result"
    }
   ],
   "source": [
    "path = 'sleuth3csv/case1202.csv'\n",
    "df = pd.read_csv(path)\n",
    "df.head()"
   ]
  },
  {
   "cell_type": "markdown",
   "id": "ad382c31",
   "metadata": {
    "slideshow": {
     "slide_type": "slide"
    }
   },
   "source": [
    "***Bas*** - Basic salary at the time of hire\n",
    "\n",
    "***Sal77*** - Salary as of March 1977\n",
    "\n",
    "***Senior*** - Seniority (months since first hired)\n",
    "\n",
    "***Age*** - Age (months)\n",
    "\n",
    "***Educ*** - Education (year)\n",
    "\n",
    "***Exper*** -  Experience prior to employment with the bank (months)"
   ]
  },
  {
   "cell_type": "markdown",
   "id": "cd7b3826",
   "metadata": {
    "slideshow": {
     "slide_type": "slide"
    }
   },
   "source": [
    "## Research questions:\n",
    "\n",
    "1) Did the females receive lower starting salaries than similarly qualified and similarly experienced males?\n",
    "\n",
    "2) After accounting for measures of performance, did females receive smaller pay increases than males?"
   ]
  },
  {
   "cell_type": "markdown",
   "id": "47c739d5",
   "metadata": {
    "slideshow": {
     "slide_type": "slide"
    }
   },
   "source": [
    "## Purposes of regression\n",
    "\n",
    "1) Modeling a large set of explanatory variables: determine a subset of variables that play a role in the regression model.\n",
    "\n",
    "2) Explain the data: no well defined question is posed, but something like, “which variables are important to explain ‘___’  accounting for these ‘____’ variables.”   \n",
    "* This can be exceptionally difficult at changing one input variable can change your results, and there are many different models.\n",
    "* Coefficient interpretation, \"measure of the effect of one variable while holding all other variables fixed.\" But, the increase in one variable almost always changes others.\n",
    "\n",
    "3) Prediction: The goal is to form the most accurate outputs based on a subset of input variables.\n",
    "* No interpretation of a set of explanatory variables chosen or their coefficients is needed."
   ]
  },
  {
   "cell_type": "markdown",
   "id": "572687e3",
   "metadata": {
    "slideshow": {
     "slide_type": "slide"
    }
   },
   "source": [
    "## Was the bank guilt of gender discrimination?\n",
    "\n",
    "1) Idea: \n",
    "* Use variable selection methods to select ‘the best’ subset of the variables for the output base salary.\n",
    "* Once this subset/model is selected we will add gender to the model.\n",
    "* Interpretation of gender coefficient: association between gender and salary after accounting for the effects of the other explanatory variables.\n",
    "* If this gender variable is statistically significant it means that base salary cannot be explained by other variables and the bank is guilty of gender discrimination.\n",
    "\n",
    "2) The variable selection methods are useful for this purpose. \n",
    "* While a specific model only includes only a subset of all the variables. The final model has been adjusted for other variables as they were given a chance to be in the model (prior to inclusion of gender).\n"
   ]
  },
  {
   "cell_type": "markdown",
   "id": "c1955a07",
   "metadata": {
    "slideshow": {
     "slide_type": "slide"
    }
   },
   "source": [
    "## Loss of Precision\n",
    "Precision in estimating coefficients and prediction may decrease if too many explanatory variables are included in the model. \n",
    "\n",
    "\n",
    "\n",
    "$$SE(\\hat{\\beta_X}_\\text{ Multiple Linear Model}) = SE(\\hat{\\beta_X}_\\text{ Simple Linear Model})\\sqrt{\\text{ Mean square ratio}*\\text{ Variance inflation factor}}$$\n",
    "\n",
    "$\\text{Mean square ratio} = \\frac{\\hat{\\sigma}^2_\\text{Multiple Linear Model}}{\\hat{\\sigma}^2_\\text{Simple Linear Model}}$\n",
    "\n",
    "$\\text{Mean square ratio}<1$ if Multiple Linear Model has useful predictors.\n",
    "\n",
    "$$\\text{Variance Inflation Factor} = VIF = \\frac{1}{1-R^2_X}$$\n",
    "\n",
    "$R^2_X$ = the proportion of the variation in X explained by its linear relationship to other explanatory variables in the model. \n",
    "\n",
    "When X can be explained well by the additional variables (multicollinearity) the VIF can be very high."
   ]
  },
  {
   "cell_type": "markdown",
   "id": "b305cd86",
   "metadata": {
    "slideshow": {
     "slide_type": "slide"
    }
   },
   "source": [
    "## A Strategy for Dealing with Many Explanatory Variables\n",
    "\n",
    "1) Identify the key objectives.\n",
    "\n",
    "2) Screen the available variables, deciding on a list that is sensitive to the objectives and excludes obvious redundancies.\n",
    "\n",
    "3) Perform exploratory analysis, examining graphical displays and correlation coefficients.\n",
    "\n",
    "4) Perform transformations as necessary.\n",
    "\n",
    "5) Examine a residual plot after fitting a rich model, performing further transformations and considering outliers.\n",
    "\n",
    "6) Use a computer-assisted technique for finding a suitable subset of explanatory variables.\n",
    "\n",
    "7) Proceed with the analysis, using the selected explanatory variables."
   ]
  },
  {
   "cell_type": "code",
   "execution_count": 54,
   "id": "e65c7b1f",
   "metadata": {
    "slideshow": {
     "slide_type": "slide"
    }
   },
   "outputs": [
    {
     "data": {
      "text/html": [
       "<div>\n",
       "<style scoped>\n",
       "    .dataframe tbody tr th:only-of-type {\n",
       "        vertical-align: middle;\n",
       "    }\n",
       "\n",
       "    .dataframe tbody tr th {\n",
       "        vertical-align: top;\n",
       "    }\n",
       "\n",
       "    .dataframe thead th {\n",
       "        text-align: right;\n",
       "    }\n",
       "</style>\n",
       "<table border=\"1\" class=\"dataframe\">\n",
       "  <thead>\n",
       "    <tr style=\"text-align: right;\">\n",
       "      <th></th>\n",
       "      <th>State</th>\n",
       "      <th>SAT</th>\n",
       "      <th>Takers</th>\n",
       "      <th>Income</th>\n",
       "      <th>Years</th>\n",
       "      <th>Public</th>\n",
       "      <th>Expend</th>\n",
       "      <th>Rank</th>\n",
       "    </tr>\n",
       "  </thead>\n",
       "  <tbody>\n",
       "    <tr>\n",
       "      <th>0</th>\n",
       "      <td>Iowa</td>\n",
       "      <td>1088</td>\n",
       "      <td>3</td>\n",
       "      <td>326</td>\n",
       "      <td>16.79</td>\n",
       "      <td>87.8</td>\n",
       "      <td>25.60</td>\n",
       "      <td>89.7</td>\n",
       "    </tr>\n",
       "    <tr>\n",
       "      <th>1</th>\n",
       "      <td>SouthDakota</td>\n",
       "      <td>1075</td>\n",
       "      <td>2</td>\n",
       "      <td>264</td>\n",
       "      <td>16.07</td>\n",
       "      <td>86.2</td>\n",
       "      <td>19.95</td>\n",
       "      <td>90.6</td>\n",
       "    </tr>\n",
       "    <tr>\n",
       "      <th>2</th>\n",
       "      <td>NorthDakota</td>\n",
       "      <td>1068</td>\n",
       "      <td>3</td>\n",
       "      <td>317</td>\n",
       "      <td>16.57</td>\n",
       "      <td>88.3</td>\n",
       "      <td>20.62</td>\n",
       "      <td>89.8</td>\n",
       "    </tr>\n",
       "    <tr>\n",
       "      <th>3</th>\n",
       "      <td>Kansas</td>\n",
       "      <td>1045</td>\n",
       "      <td>5</td>\n",
       "      <td>338</td>\n",
       "      <td>16.30</td>\n",
       "      <td>83.9</td>\n",
       "      <td>27.14</td>\n",
       "      <td>86.3</td>\n",
       "    </tr>\n",
       "    <tr>\n",
       "      <th>4</th>\n",
       "      <td>Nebraska</td>\n",
       "      <td>1045</td>\n",
       "      <td>5</td>\n",
       "      <td>293</td>\n",
       "      <td>17.25</td>\n",
       "      <td>83.6</td>\n",
       "      <td>21.05</td>\n",
       "      <td>88.5</td>\n",
       "    </tr>\n",
       "  </tbody>\n",
       "</table>\n",
       "</div>"
      ],
      "text/plain": [
       "         State   SAT  Takers  Income  Years  Public  Expend  Rank\n",
       "0         Iowa  1088       3     326  16.79    87.8   25.60  89.7\n",
       "1  SouthDakota  1075       2     264  16.07    86.2   19.95  90.6\n",
       "2  NorthDakota  1068       3     317  16.57    88.3   20.62  89.8\n",
       "3       Kansas  1045       5     338  16.30    83.9   27.14  86.3\n",
       "4     Nebraska  1045       5     293  17.25    83.6   21.05  88.5"
      ]
     },
     "execution_count": 54,
     "metadata": {},
     "output_type": "execute_result"
    }
   ],
   "source": [
    "path = 'sleuth3csv/case1201.csv'\n",
    "df = pd.read_csv(path)\n",
    "df.head()"
   ]
  },
  {
   "cell_type": "code",
   "execution_count": 19,
   "id": "0647faed",
   "metadata": {},
   "outputs": [
    {
     "data": {
      "image/png": "[encoded data removed]",
      "text/plain": [
       "<Figure size 1750x1750 with 35 Axes>"
      ]
     },
     "metadata": {},
     "output_type": "display_data"
    }
   ],
   "source": [
    "sns.pairplot(df[[\"Takers\",\"Rank\",\"Years\",\"Income\",\"Public\",\"Expend\",\"SAT\"]], corner=True)\n",
    "plt.show()"
   ]
  },
  {
   "cell_type": "markdown",
   "id": "34c16f74",
   "metadata": {
    "slideshow": {
     "slide_type": "slide"
    }
   },
   "source": [
    "* Indicates a nonlinear relationship between SAT and percentage of takers.\n",
    "\n",
    "* Some potential outliers in the variables public school percentage and state expenditure."
   ]
  },
  {
   "cell_type": "code",
   "execution_count": 20,
   "id": "45a6bd4c",
   "metadata": {
    "slideshow": {
     "slide_type": "slide"
    }
   },
   "outputs": [
    {
     "data": {
      "image/png": "[encoded data removed]",
      "text/plain": [
       "<Figure size 700x400 with 1 Axes>"
      ]
     },
     "metadata": {},
     "output_type": "display_data"
    }
   ],
   "source": [
    "plt.figure(figsize = (7,4))\n",
    "sns.scatterplot(x=\"Takers\", y=\"SAT\", data = df).set( xscale=\"log\")\n",
    "plt.show()"
   ]
  },
  {
   "cell_type": "code",
   "execution_count": 69,
   "id": "1cf0f7cd",
   "metadata": {
    "slideshow": {
     "slide_type": "slide"
    }
   },
   "outputs": [
    {
     "data": {
      "text/html": [
       "<div>\n",
       "<style scoped>\n",
       "    .dataframe tbody tr th:only-of-type {\n",
       "        vertical-align: middle;\n",
       "    }\n",
       "\n",
       "    .dataframe tbody tr th {\n",
       "        vertical-align: top;\n",
       "    }\n",
       "\n",
       "    .dataframe thead th {\n",
       "        text-align: right;\n",
       "    }\n",
       "</style>\n",
       "<table border=\"1\" class=\"dataframe\">\n",
       "  <thead>\n",
       "    <tr style=\"text-align: right;\">\n",
       "      <th></th>\n",
       "      <th>State</th>\n",
       "      <th>SAT</th>\n",
       "      <th>Takers</th>\n",
       "      <th>Income</th>\n",
       "      <th>Years</th>\n",
       "      <th>Public</th>\n",
       "      <th>Expend</th>\n",
       "      <th>Rank</th>\n",
       "    </tr>\n",
       "  </thead>\n",
       "  <tbody>\n",
       "    <tr>\n",
       "      <th>21</th>\n",
       "      <td>Louisiana</td>\n",
       "      <td>975</td>\n",
       "      <td>5</td>\n",
       "      <td>394</td>\n",
       "      <td>16.85</td>\n",
       "      <td>44.8</td>\n",
       "      <td>19.72</td>\n",
       "      <td>82.9</td>\n",
       "    </tr>\n",
       "  </tbody>\n",
       "</table>\n",
       "</div>"
      ],
      "text/plain": [
       "        State  SAT  Takers  Income  Years  Public  Expend  Rank\n",
       "21  Louisiana  975       5     394  16.85    44.8   19.72  82.9"
      ]
     },
     "metadata": {},
     "output_type": "display_data"
    },
    {
     "data": {
      "text/html": [
       "<div>\n",
       "<style scoped>\n",
       "    .dataframe tbody tr th:only-of-type {\n",
       "        vertical-align: middle;\n",
       "    }\n",
       "\n",
       "    .dataframe tbody tr th {\n",
       "        vertical-align: top;\n",
       "    }\n",
       "\n",
       "    .dataframe thead th {\n",
       "        text-align: right;\n",
       "    }\n",
       "</style>\n",
       "<table border=\"1\" class=\"dataframe\">\n",
       "  <thead>\n",
       "    <tr style=\"text-align: right;\">\n",
       "      <th></th>\n",
       "      <th>State</th>\n",
       "      <th>SAT</th>\n",
       "      <th>Takers</th>\n",
       "      <th>Income</th>\n",
       "      <th>Years</th>\n",
       "      <th>Public</th>\n",
       "      <th>Expend</th>\n",
       "      <th>Rank</th>\n",
       "    </tr>\n",
       "  </thead>\n",
       "  <tbody>\n",
       "    <tr>\n",
       "      <th>28</th>\n",
       "      <td>Alaska</td>\n",
       "      <td>923</td>\n",
       "      <td>31</td>\n",
       "      <td>401</td>\n",
       "      <td>15.32</td>\n",
       "      <td>96.5</td>\n",
       "      <td>50.1</td>\n",
       "      <td>79.6</td>\n",
       "    </tr>\n",
       "  </tbody>\n",
       "</table>\n",
       "</div>"
      ],
      "text/plain": [
       "     State  SAT  Takers  Income  Years  Public  Expend  Rank\n",
       "28  Alaska  923      31     401  15.32    96.5    50.1  79.6"
      ]
     },
     "metadata": {},
     "output_type": "display_data"
    }
   ],
   "source": [
    "display(df[df.Public<60])\n",
    "display(df[df.Expend>40])\n",
    "\n",
    "filter_ = ((df.Public<60)|(df.Expend>40))"
   ]
  },
  {
   "cell_type": "markdown",
   "id": "22d09481",
   "metadata": {
    "slideshow": {
     "slide_type": "slide"
    }
   },
   "source": [
    "These require further examination after a model has been fit.\n",
    "\n",
    "We test the model:\n",
    "\n",
    "$$\\mu\\{SAT|lakers,rank\\} = \\beta_0+\\beta_1 ltakers+\\beta_2 rank$$\n",
    "\n",
    "excluding Louisiana and Alaska."
   ]
  },
  {
   "cell_type": "code",
   "execution_count": 71,
   "id": "2378f763",
   "metadata": {
    "slideshow": {
     "slide_type": "slide"
    }
   },
   "outputs": [
    {
     "name": "stdout",
     "output_type": "stream",
     "text": [
      "                            OLS Regression Results                            \n",
      "==============================================================================\n",
      "Dep. Variable:                    SAT   R-squared:                       0.819\n",
      "Model:                            OLS   Adj. R-squared:                  0.811\n",
      "Method:                 Least Squares   F-statistic:                     102.0\n",
      "Date:                Sun, 09 Apr 2023   Prob (F-statistic):           1.92e-17\n",
      "Time:                        13:29:11   Log-Likelihood:                -231.92\n",
      "No. Observations:                  48   AIC:                             469.8\n",
      "Df Residuals:                      45   BIC:                             475.5\n",
      "Df Model:                           2                                         \n",
      "Covariance Type:            nonrobust                                         \n",
      "==================================================================================\n",
      "                     coef    std err          t      P>|t|      [0.025      0.975]\n",
      "----------------------------------------------------------------------------------\n",
      "Intercept        980.9840    245.914      3.989      0.000     485.688    1476.280\n",
      "np.log(Takers)   -51.8374     15.588     -3.325      0.002     -83.234     -20.441\n",
      "Rank               1.3985      2.548      0.549      0.586      -3.733       6.530\n",
      "==============================================================================\n",
      "Omnibus:                        7.959   Durbin-Watson:                   0.920\n",
      "Prob(Omnibus):                  0.019   Jarque-Bera (JB):                7.073\n",
      "Skew:                          -0.895   Prob(JB):                       0.0291\n",
      "Kurtosis:                       3.579   Cond. No.                     4.37e+03\n",
      "==============================================================================\n",
      "\n",
      "Notes:\n",
      "[1] Standard Errors assume that the covariance matrix of the errors is correctly specified.\n",
      "[2] The condition number is large, 4.37e+03. This might indicate that there are\n",
      "strong multicollinearity or other numerical problems.\n"
     ]
    }
   ],
   "source": [
    "model = smf.ols(\"SAT ~ np.log(Takers)+Rank\", data = df[~filter_])\n",
    "results = model.fit()\n",
    "print(results.summary())"
   ]
  },
  {
   "cell_type": "markdown",
   "id": "aff81bdb",
   "metadata": {
    "slideshow": {
     "slide_type": "slide"
    }
   },
   "source": [
    "These two variables explain 81.1% of the variation in SAT averages.\n",
    "\n",
    "We use a partial residual plot to examine the effect of Expenditure after Taker and Rank are accounted for. "
   ]
  },
  {
   "cell_type": "code",
   "execution_count": 117,
   "id": "aaa63cff",
   "metadata": {
    "slideshow": {
     "slide_type": "slide"
    }
   },
   "outputs": [
    {
     "name": "stdout",
     "output_type": "stream",
     "text": [
      "                            OLS Regression Results                            \n",
      "==============================================================================\n",
      "Dep. Variable:                    SAT   R-squared:                       0.868\n",
      "Model:                            OLS   Adj. R-squared:                  0.860\n",
      "Method:                 Least Squares   F-statistic:                     101.2\n",
      "Date:                Sun, 09 Apr 2023   Prob (F-statistic):           2.85e-20\n",
      "Time:                        14:43:09   Log-Likelihood:                -232.78\n",
      "No. Observations:                  50   AIC:                             473.6\n",
      "Df Residuals:                      46   BIC:                             481.2\n",
      "Df Model:                           3                                         \n",
      "Covariance Type:            nonrobust                                         \n",
      "==================================================================================\n",
      "                     coef    std err          t      P>|t|      [0.025      0.975]\n",
      "----------------------------------------------------------------------------------\n",
      "Intercept        955.9745    191.817      4.984      0.000     569.867    1342.082\n",
      "np.log(Takers)   -57.8759     12.338     -4.691      0.000     -82.712     -33.040\n",
      "Rank               1.0967      2.009      0.546      0.588      -2.947       5.140\n",
      "Expend             2.8464      0.659      4.322      0.000       1.521       4.172\n",
      "==============================================================================\n",
      "Omnibus:                        3.707   Durbin-Watson:                   1.568\n",
      "Prob(Omnibus):                  0.157   Jarque-Bera (JB):                2.626\n",
      "Skew:                          -0.482   Prob(JB):                        0.269\n",
      "Kurtosis:                       3.575   Cond. No.                     4.28e+03\n",
      "==============================================================================\n",
      "\n",
      "Notes:\n",
      "[1] Standard Errors assume that the covariance matrix of the errors is correctly specified.\n",
      "[2] The condition number is large, 4.28e+03. This might indicate that there are\n",
      "strong multicollinearity or other numerical problems.\n"
     ]
    }
   ],
   "source": [
    "model1 = smf.ols(\"SAT ~ np.log(Takers)+Rank+Expend\", data = df)\n",
    "results1 = model1.fit()\n",
    "print(results1.summary())"
   ]
  },
  {
   "cell_type": "code",
   "execution_count": 118,
   "id": "517a82f4",
   "metadata": {
    "slideshow": {
     "slide_type": "slide"
    }
   },
   "outputs": [],
   "source": [
    "pres1 = results1.resid+2.8464*np.log(df['Expend'])\n",
    "pres2 = pres1.drop([28]) #dropping Alaska\n"
   ]
  },
  {
   "cell_type": "code",
   "execution_count": 119,
   "id": "bbcbe537",
   "metadata": {
    "slideshow": {
     "slide_type": "slide"
    }
   },
   "outputs": [
    {
     "data": {
      "text/html": [
       "<div>\n",
       "<style scoped>\n",
       "    .dataframe tbody tr th:only-of-type {\n",
       "        vertical-align: middle;\n",
       "    }\n",
       "\n",
       "    .dataframe tbody tr th {\n",
       "        vertical-align: top;\n",
       "    }\n",
       "\n",
       "    .dataframe thead th {\n",
       "        text-align: right;\n",
       "    }\n",
       "</style>\n",
       "<table border=\"1\" class=\"dataframe\">\n",
       "  <thead>\n",
       "    <tr style=\"text-align: right;\">\n",
       "      <th></th>\n",
       "      <th>index</th>\n",
       "      <th>expd</th>\n",
       "      <th>pres</th>\n",
       "      <th>class</th>\n",
       "    </tr>\n",
       "  </thead>\n",
       "  <tbody>\n",
       "    <tr>\n",
       "      <th>0</th>\n",
       "      <td>0</td>\n",
       "      <td>25.60</td>\n",
       "      <td>33.597407</td>\n",
       "      <td>include_Alaska</td>\n",
       "    </tr>\n",
       "    <tr>\n",
       "      <th>1</th>\n",
       "      <td>1</td>\n",
       "      <td>19.95</td>\n",
       "      <td>11.515947</td>\n",
       "      <td>include_Alaska</td>\n",
       "    </tr>\n",
       "    <tr>\n",
       "      <th>2</th>\n",
       "      <td>2</td>\n",
       "      <td>20.62</td>\n",
       "      <td>27.046925</td>\n",
       "      <td>include_Alaska</td>\n",
       "    </tr>\n",
       "    <tr>\n",
       "      <th>3</th>\n",
       "      <td>3</td>\n",
       "      <td>27.14</td>\n",
       "      <td>19.673541</td>\n",
       "      <td>include_Alaska</td>\n",
       "    </tr>\n",
       "    <tr>\n",
       "      <th>4</th>\n",
       "      <td>4</td>\n",
       "      <td>21.05</td>\n",
       "      <td>33.871942</td>\n",
       "      <td>include_Alaska</td>\n",
       "    </tr>\n",
       "  </tbody>\n",
       "</table>\n",
       "</div>"
      ],
      "text/plain": [
       "   index   expd       pres           class\n",
       "0      0  25.60  33.597407  include_Alaska\n",
       "1      1  19.95  11.515947  include_Alaska\n",
       "2      2  20.62  27.046925  include_Alaska\n",
       "3      3  27.14  19.673541  include_Alaska\n",
       "4      4  21.05  33.871942  include_Alaska"
      ]
     },
     "execution_count": 119,
     "metadata": {},
     "output_type": "execute_result"
    }
   ],
   "source": [
    "expd = pd.concat([df['Expend'],df.drop([28])['Expend']])\n",
    "\n",
    "pres = pd.concat([pres1,pres2])\n",
    "\n",
    "temp_df = pd.DataFrame()\n",
    "\n",
    "temp_df[\"expd\"] = expd\n",
    "temp_df[\"pres\"] = pres\n",
    "\n",
    "temp_df[\"class\"] = \"exclude_Alaska\"\n",
    "\n",
    "temp_df.reset_index(inplace=True)\n",
    "\n",
    "temp_df.loc[0:49,\"class\"] = \"include_Alaska\"\n",
    "\n",
    "temp_df.head()"
   ]
  },
  {
   "cell_type": "code",
   "execution_count": 123,
   "id": "c3594717",
   "metadata": {
    "slideshow": {
     "slide_type": "slide"
    }
   },
   "outputs": [
    {
     "data": {
      "image/png": "[encoded data removed]",
      "text/plain": [
       "<Figure size 547.375x400 with 1 Axes>"
      ]
     },
     "metadata": {},
     "output_type": "display_data"
    }
   ],
   "source": [
    "sns.lmplot(data=temp_df, x=\"expd\", y=\"pres\", hue=\"class\", ci=None,  \n",
    "           facet_kws=dict(sharex=False, sharey=False), height=4)\n",
    "plt.show()"
   ]
  },
  {
   "cell_type": "markdown",
   "id": "dd20ae80",
   "metadata": {
    "slideshow": {
     "slide_type": "slide"
    }
   },
   "source": [
    "There is noticeable effect of expenditure, after the two adjustment variables are accounted for (slope of orange line).\n",
    "\n",
    "It demonstrates that Alaska is very influential in any fit involving expenditure.\n",
    "\n",
    "Now we calculate the leverage and studentized residual for the observation Alaska"
   ]
  },
  {
   "cell_type": "code",
   "execution_count": 121,
   "id": "f0e0cdef",
   "metadata": {
    "slideshow": {
     "slide_type": "slide"
    }
   },
   "outputs": [
    {
     "name": "stdout",
     "output_type": "stream",
     "text": [
      "0.45801318467975594\n",
      "-3.2832555773950647\n"
     ]
    }
   ],
   "source": [
    " #create instance of influence\n",
    "influence = results1.get_influence()\n",
    "\n",
    "#leverage (hat values)\n",
    "leverage = influence.hat_matrix_diag[28]\n",
    "student_resid = influence.resid_studentized_internal[28]\n",
    "\n",
    "print(leverage)\n",
    "print(student_resid)"
   ]
  },
  {
   "cell_type": "markdown",
   "id": "98e7dcef",
   "metadata": {
    "slideshow": {
     "slide_type": "slide"
    }
   },
   "source": [
    "Case influence statistics confirm that Alaska is influential.\n",
    "\n",
    "Costs of heating school buildings and transporting teachers and students long distances are far greater in Alaska.\n",
    "\n",
    "These expenses do not contribute directly to educational quality.\n",
    "\n",
    "So we set Alaska aside for the remainder of the analysis. "
   ]
  },
  {
   "attachments": {},
   "cell_type": "markdown",
   "id": "28ce0ae5",
   "metadata": {
    "slideshow": {
     "slide_type": "slide"
    }
   },
   "source": [
    "## Sequential variable selection\n",
    "\n",
    "1) Forward selection \n",
    "\n",
    "* Starts with a constant mean as the starting model, and adds explanatory variables one at a time until no further variables improve the fit. \n",
    "\n",
    "* The criteria for a new variable to enter the model is the largest F-statistic greater than 4.\n",
    "\n",
    "2) Backward Elimination \n",
    "* Starts with all variables as the starting model. \n",
    "* The criteria to remove a variable is to take the smallest F-statistic to remove that is 4 or less. \n",
    "* We remove variables until no variable can be removed, arriving at the constant mean model."
   ]
  },
  {
   "cell_type": "markdown",
   "id": "c6d99f30",
   "metadata": {
    "slideshow": {
     "slide_type": "slide"
    }
   },
   "source": [
    "Each categorical factor is represented in a regression model by a set of indicator variables. \n",
    "\n",
    "In the absence of a good reason for doing otherwise, this set should be added or removed as a single unit."
   ]
  },
  {
   "cell_type": "code",
   "execution_count": null,
   "id": "83722722",
   "metadata": {
    "slideshow": {
     "slide_type": "slide"
    }
   },
   "outputs": [],
   "source": []
  }
 ],
 "metadata": {
  "celltoolbar": "Slideshow",
  "kernelspec": {
   "display_name": "Python 3 (ipykernel)",
   "language": "python",
   "name": "python3"
  },
  "language_info": {
   "codemirror_mode": {
    "name": "ipython",
    "version": 3
   },
   "file_extension": ".py",
   "mimetype": "text/x-python",
   "name": "python",
   "nbconvert_exporter": "python",
   "pygments_lexer": "ipython3",
   "version": "3.10.6"
  }
 },
 "nbformat": 4,
 "nbformat_minor": 5
}
